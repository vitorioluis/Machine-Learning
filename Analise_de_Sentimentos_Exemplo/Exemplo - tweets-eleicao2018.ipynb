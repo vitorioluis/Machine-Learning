{
 "cells": [
  {
   "cell_type": "code",
   "execution_count": 4,
   "metadata": {},
   "outputs": [],
   "source": [
    "import tweepy\n",
    "from textblob import TextBlob"
   ]
  },
  {
   "cell_type": "code",
   "execution_count": 5,
   "metadata": {},
   "outputs": [],
   "source": [
    "consumer_key='OlCf2aq2uZsbMxqGxHtdfvTZo'\n",
    "consumer_secret='Mks39FdcBGv3DoeAU1IIxyAb1kRPz4qTxGRsRkdpKweFXDGEbm'\n",
    "\n",
    "access_token='48156422-GPh0nhdZCWc5gAqkgmALfVb3wXpOU5M20swbGxud1'\n",
    "access_token_secret='DxhyLDWdglKjMTgCCPA2prh8yudqD1yXfBnYWl3l7rY9l'"
   ]
  },
  {
   "cell_type": "code",
   "execution_count": 6,
   "metadata": {},
   "outputs": [],
   "source": [
    "auth = tweepy.OAuthHandler(consumer_key,consumer_secret)\n",
    "auth.set_access_token(access_token,access_token_secret)\n",
    "api = tweepy.API(auth)"
   ]
  },
  {
   "cell_type": "code",
   "execution_count": null,
   "metadata": {},
   "outputs": [],
   "source": [
    "print(api.me())"
   ]
  },
  {
   "cell_type": "code",
   "execution_count": 7,
   "metadata": {},
   "outputs": [],
   "source": [
    "tweets = api.search('brasil')"
   ]
  },
  {
   "cell_type": "code",
   "execution_count": 8,
   "metadata": {},
   "outputs": [
    {
     "name": "stdout",
     "output_type": "stream",
     "text": [
      "Tweet: Tiroteo en catedral de Brasil deja cinco muertos  https://t.co/NCFIWcmftp #Internacional - Sentimento: Sentiment(polarity=0.0, subjectivity=0.0)\n",
      "Tweet: why did i get a plane? i said wings dewd - Sentimento: Sentiment(polarity=0.0, subjectivity=0.0)\n",
      "Tweet: #Vagas #Hays Our client is a large multinational company, seeking an Internal Process and Information Systems Audit… https://t.co/g3fFMdCJCX - Sentimento: Sentiment(polarity=0.10714285714285714, subjectivity=0.21428571428571427)\n",
      "Tweet: @majorolimpio vá  votar!!!! O Brasil precisa do seu voto na comissão do #FimdoForoPrivilegiado https://t.co/F8lcrlQ73q - Sentimento: Sentiment(polarity=0.0, subjectivity=0.0)\n",
      "Tweet: @joicehasselmann @jairbolsonaro @PSL_Nacional Juntos venceremos, sozinho não mudaremos nada, sabemos que o sistema… https://t.co/ZRvVSVcOWD - Sentimento: Sentiment(polarity=0.0, subjectivity=0.0)\n",
      "Tweet: #VocêSabia que Belo Horizonte foi uma das primeiras cidades planejadas do Brasil? Foi arquitetada por Aarão Reis, e… https://t.co/Q4T2SRCshE - Sentimento: Sentiment(polarity=0.0, subjectivity=0.0)\n",
      "Tweet: @cristiancrespoj E aqui no Brasil, alguns imbecis defendem essas ideologias ☹️ - Sentimento: Sentiment(polarity=0.0, subjectivity=0.0)\n",
      "Tweet: Mata a cuatro fieles en una catedral brasileña y después se suicida https://t.co/bbE8z2NF7a - Sentimento: Sentiment(polarity=0.0, subjectivity=0.0)\n",
      "Tweet: RT @claudinha_since: Claudia Leitte melhor cantora do Brasil https://t.co/Ghv0XK423y - Sentimento: Sentiment(polarity=0.0, subjectivity=0.0)\n",
      "Tweet: RT @lsentoes: A campanha do Movimento Brasil 200 é pra gerar 1 milhão de empregos já no primeiro mês de 2019. Excelente iniciativa dos empr… - Sentimento: Sentiment(polarity=0.0, subjectivity=0.0)\n",
      "Tweet: RT @ManuelaDavila: Preocupante a notícia q chega de Campinas, onde um homem invadiu uma missa e teria matado quatro pessoas. O Brasil aguar… - Sentimento: Sentiment(polarity=0.0, subjectivity=0.0)\n",
      "Tweet: RT @Flecha_80: #Ábila Una final sin gloria. Una lesión difícil de explicar. En líneas generales, aprobado. Gol a Libertad. Asistencia clave… - Sentimento: Sentiment(polarity=0.0, subjectivity=1.0)\n",
      "Tweet: @lancenet Dar espaço pra outro se aposenta Galvão , mais um motivo pra não assistir jogo do Brasil com ele narrando . - Sentimento: Sentiment(polarity=0.0, subjectivity=0.0)\n",
      "Tweet: RT @Rafael10UDB: 2 coisas para pontuar:\n",
      "1) Mesmo com estatuto do desarmamento ele tinha uma arma e fez uma chacina! Se alguém tivesse uma a… - Sentimento: Sentiment(polarity=0.0, subjectivity=0.0)\n",
      "Tweet: RT @Savagefiction: O Diário de Notícias (34) tem uma matéria sobre a Higiene da Raça promovida pela Alemanha. Usando outro termo bem recorr… - Sentimento: Sentiment(polarity=0.05, subjectivity=1.0)\n"
     ]
    }
   ],
   "source": [
    "for tweet in tweets:\n",
    "    frase = TextBlob(tweet.text)\n",
    "    print('Tweet: {0} - Sentimento: {1}'.format(tweet.text, frase.sentiment))  \n",
    "\n",
    "\n",
    "#    if frase.detect_language() != 'en':\n",
    "#        #traducao = TextBlob(str(frase.translate(to='en')))\n",
    "#        print('Tweet: {0} - Sentimento: {1}'.format(tweet.text, traducao.sentiment))\n",
    "#    else:\n",
    "#        print('Tweet: {0} - Sentimento: {1}'.format(tweet.text, frase.sentiment))"
   ]
  },
  {
   "cell_type": "code",
   "execution_count": null,
   "metadata": {},
   "outputs": [],
   "source": []
  }
 ],
 "metadata": {
  "kernelspec": {
   "display_name": "Python 3",
   "language": "python",
   "name": "python3"
  },
  "language_info": {
   "codemirror_mode": {
    "name": "ipython",
    "version": 3
   },
   "file_extension": ".py",
   "mimetype": "text/x-python",
   "name": "python",
   "nbconvert_exporter": "python",
   "pygments_lexer": "ipython3",
   "version": "3.6.1"
  }
 },
 "nbformat": 4,
 "nbformat_minor": 2
}
