{
 "cells": [
  {
   "cell_type": "code",
   "execution_count": 6,
   "metadata": {},
   "outputs": [],
   "source": [
    "import os\n",
    "import zipfile\n",
    "\n",
    "import pandas as pd\n",
    "import seaborn as sns\n",
    "import matplotlib.pyplot as plt\n",
    "\n",
    "\n",
    "%matplotlib inline "
   ]
  },
  {
   "cell_type": "code",
   "execution_count": 15,
   "metadata": {},
   "outputs": [],
   "source": [
    "def filtrar_arquivo(tipo ):\n",
    "    path = './'\n",
    "    lst_arq = os.listdir(path) # listando novamente o diretório para verificar arquivos csv\n",
    "    return [arq for arq in lst_arq if arq[-3:] == tipo]\n",
    "\n",
    "# Separa arquivo zip caso haja outros tipos de arquivo na pasta\n",
    "lst_zip = filtrar_arquivo('zip')\n",
    "\n",
    "# extrair arquivos do zip para trabalhar\n",
    "for zp in lst_zip:\n",
    "    fzp = zipfile.ZipFile(zp)\n",
    "    fzp.extractall('./') \n",
    "    fzp.close()\n",
    "\n",
    "# Separa arquivo csv caso haja outros tipos de arquivo na pasta\n",
    "lst_csv = filtrar_arquivo('csv')\n",
    "\n",
    "# criar dataframe vazio para unir as bases\n",
    "df = pd.DataFrame()\n",
    "\n",
    "# aqui vamos ler cada arquivos csv e juntar no mesmo dataframe\n",
    "for csv in lst_csv:\n",
    "    df = pd.read_csv(csv, encoding='latin1')\n",
    "    df_acidentes = df.append(df)\n",
    "    os.remove(csv)"
   ]
  },
  {
   "cell_type": "code",
   "execution_count": 12,
   "metadata": {},
   "outputs": [
    {
     "data": {
      "text/html": [
       "<div>\n",
       "<style scoped>\n",
       "    .dataframe tbody tr th:only-of-type {\n",
       "        vertical-align: middle;\n",
       "    }\n",
       "\n",
       "    .dataframe tbody tr th {\n",
       "        vertical-align: top;\n",
       "    }\n",
       "\n",
       "    .dataframe thead th {\n",
       "        text-align: right;\n",
       "    }\n",
       "</style>\n",
       "<table border=\"1\" class=\"dataframe\">\n",
       "  <thead>\n",
       "    <tr style=\"text-align: right;\">\n",
       "      <th></th>\n",
       "      <th>Unnamed: 0</th>\n",
       "      <th>created_at</th>\n",
       "      <th>text</th>\n",
       "    </tr>\n",
       "  </thead>\n",
       "  <tbody>\n",
       "    <tr>\n",
       "      <th>0</th>\n",
       "      <td>0</td>\n",
       "      <td>Fri Oct 05 01:11:00 +0000 2018</td>\n",
       "      <td>RT @fabiolp02: deve doer para a Veja escrever ...</td>\n",
       "    </tr>\n",
       "    <tr>\n",
       "      <th>1</th>\n",
       "      <td>1</td>\n",
       "      <td>Fri Oct 05 01:11:00 +0000 2018</td>\n",
       "      <td>RT @BolsonaroSP: LIVE agora de @jairbolsonaro ...</td>\n",
       "    </tr>\n",
       "    <tr>\n",
       "      <th>2</th>\n",
       "      <td>2</td>\n",
       "      <td>Fri Oct 05 01:11:00 +0000 2018</td>\n",
       "      <td>Bolsonaro Ã PlayStation, PlayStation Ã© Bolso...</td>\n",
       "    </tr>\n",
       "    <tr>\n",
       "      <th>3</th>\n",
       "      <td>3</td>\n",
       "      <td>Fri Oct 05 01:11:00 +0000 2018</td>\n",
       "      <td>RT @OsvladPereira: Voto anti PT aparece\\nE ben...</td>\n",
       "    </tr>\n",
       "    <tr>\n",
       "      <th>4</th>\n",
       "      <td>4</td>\n",
       "      <td>Fri Oct 05 01:11:00 +0000 2018</td>\n",
       "      <td>RT @leandroruschel: Nazista Ã© quem ataca Isra...</td>\n",
       "    </tr>\n",
       "  </tbody>\n",
       "</table>\n",
       "</div>"
      ],
      "text/plain": [
       "   Unnamed: 0                      created_at  \\\n",
       "0           0  Fri Oct 05 01:11:00 +0000 2018   \n",
       "1           1  Fri Oct 05 01:11:00 +0000 2018   \n",
       "2           2  Fri Oct 05 01:11:00 +0000 2018   \n",
       "3           3  Fri Oct 05 01:11:00 +0000 2018   \n",
       "4           4  Fri Oct 05 01:11:00 +0000 2018   \n",
       "\n",
       "                                                text  \n",
       "0  RT @fabiolp02: deve doer para a Veja escrever ...  \n",
       "1  RT @BolsonaroSP: LIVE agora de @jairbolsonaro ...  \n",
       "2  Bolsonaro Ã PlayStation, PlayStation Ã© Bolso...  \n",
       "3  RT @OsvladPereira: Voto anti PT aparece\\nE ben...  \n",
       "4  RT @leandroruschel: Nazista Ã© quem ataca Isra...  "
      ]
     },
     "execution_count": 12,
     "metadata": {},
     "output_type": "execute_result"
    }
   ],
   "source": [
    "df['text'] "
   ]
  }
 ],
 "metadata": {
  "kernelspec": {
   "display_name": "Python 3",
   "language": "python",
   "name": "python3"
  },
  "language_info": {
   "codemirror_mode": {
    "name": "ipython",
    "version": 3
   },
   "file_extension": ".py",
   "mimetype": "text/x-python",
   "name": "python",
   "nbconvert_exporter": "python",
   "pygments_lexer": "ipython3",
   "version": "3.6.1"
  }
 },
 "nbformat": 4,
 "nbformat_minor": 2
}
