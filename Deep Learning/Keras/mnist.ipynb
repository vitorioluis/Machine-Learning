{
 "cells": [
  {
   "cell_type": "code",
   "execution_count": 14,
   "metadata": {},
   "outputs": [],
   "source": [
    "import matplotlib.pyplot as plt\n",
    "import numpy as np\n",
    "\n",
    "from keras.datasets import mnist\n",
    "from keras.models import Sequential\n",
    "from keras.layers import Dense\n",
    "from keras.utils import np_utils"
   ]
  },
  {
   "cell_type": "code",
   "execution_count": 16,
   "metadata": {},
   "outputs": [],
   "source": [
    "(X_train, Y_train), (X_test, Y_test) = mnist.load_data() "
   ]
  },
  {
   "cell_type": "code",
   "execution_count": 18,
   "metadata": {},
   "outputs": [
    {
     "data": {
      "image/png": "[encoded data removed]",
      "text/plain": [
       "<Figure size 432x288 with 1 Axes>"
      ]
     },
     "metadata": {
      "needs_background": "light"
     },
     "output_type": "display_data"
    }
   ],
   "source": [
    "plt.imshow(X_train[20]);"
   ]
  },
  {
   "cell_type": "code",
   "execution_count": 19,
   "metadata": {},
   "outputs": [],
   "source": [
    "n_pixel = X_train.shape[1] * X_train.shape[2] \n",
    "\n",
    "X_train = X_train.reshape(X_train.shape[0], n_pixel).astype('float')\n",
    "X_test= X_test.reshape(X_test.shape[0], n_pixel).astype('float')\n",
    "\n",
    "x_train = X_train / 255\n",
    "x_test = X_test / 255\n",
    "\n",
    "# normalizando\n",
    "y_train = np_utils.to_categorical(Y_train)\n",
    "y_test = np_utils.to_categorical(Y_test)\n",
    "\n",
    "n_class = y_test.shape[1]"
   ]
  },
  {
   "cell_type": "code",
   "execution_count": 20,
   "metadata": {},
   "outputs": [
    {
     "name": "stdout",
     "output_type": "stream",
     "text": [
      "784 10\n"
     ]
    }
   ],
   "source": [
    "print(n_pixel, n_class)"
   ]
  },
  {
   "cell_type": "code",
   "execution_count": 21,
   "metadata": {},
   "outputs": [],
   "source": [
    "model = Sequential()\n",
    "model.add(Dense(n_pixel, input_dim=n_pixel, activation='relu'))\n",
    "model.add(Dense(n_class, activation='softmax'))"
   ]
  },
  {
   "cell_type": "code",
   "execution_count": 128,
   "metadata": {},
   "outputs": [],
   "source": [
    "model.compile(optimizer='sgd', loss='categorical_crossentropy', metrics=['acc'])"
   ]
  },
  {
   "cell_type": "code",
   "execution_count": 131,
   "metadata": {},
   "outputs": [
    {
     "name": "stdout",
     "output_type": "stream",
     "text": [
      "Epoch 1/100\n",
      "60000/60000 [==============================] - 4s 68us/step - loss: 0.0315 - acc: 0.9935\n",
      "Epoch 2/100\n",
      "60000/60000 [==============================] - 5s 77us/step - loss: 0.0313 - acc: 0.9938\n",
      "Epoch 3/100\n",
      "60000/60000 [==============================] - 6s 92us/step - loss: 0.0311 - acc: 0.9937\n",
      "Epoch 4/100\n",
      "60000/60000 [==============================] - 5s 83us/step - loss: 0.0309 - acc: 0.9937\n",
      "Epoch 5/100\n",
      "60000/60000 [==============================] - 5s 81us/step - loss: 0.0306 - acc: 0.9940\n",
      "Epoch 6/100\n",
      "60000/60000 [==============================] - 5s 81us/step - loss: 0.0304 - acc: 0.9941\n",
      "Epoch 7/100\n",
      "60000/60000 [==============================] - 5s 81us/step - loss: 0.0302 - acc: 0.9939\n",
      "Epoch 8/100\n",
      "60000/60000 [==============================] - 5s 81us/step - loss: 0.0300 - acc: 0.9941\n",
      "Epoch 9/100\n",
      "60000/60000 [==============================] - 5s 81us/step - loss: 0.0298 - acc: 0.9940\n",
      "Epoch 10/100\n",
      "60000/60000 [==============================] - 5s 81us/step - loss: 0.0296 - acc: 0.9943\n",
      "Epoch 11/100\n",
      "60000/60000 [==============================] - 5s 82us/step - loss: 0.0293 - acc: 0.9943\n",
      "Epoch 12/100\n",
      "60000/60000 [==============================] - 5s 82us/step - loss: 0.0291 - acc: 0.9942\n",
      "Epoch 13/100\n",
      "60000/60000 [==============================] - 5s 82us/step - loss: 0.0289 - acc: 0.9944\n",
      "Epoch 14/100\n",
      "60000/60000 [==============================] - 5s 81us/step - loss: 0.0287 - acc: 0.9945\n",
      "Epoch 15/100\n",
      "60000/60000 [==============================] - 5s 81us/step - loss: 0.0286 - acc: 0.9945\n",
      "Epoch 16/100\n",
      "60000/60000 [==============================] - 5s 81us/step - loss: 0.0283 - acc: 0.9946\n",
      "Epoch 17/100\n",
      "60000/60000 [==============================] - 5s 83us/step - loss: 0.0281 - acc: 0.9946\n",
      "Epoch 18/100\n",
      "60000/60000 [==============================] - 5s 81us/step - loss: 0.0280 - acc: 0.9948\n",
      "Epoch 19/100\n",
      "60000/60000 [==============================] - 5s 81us/step - loss: 0.0278 - acc: 0.9948\n",
      "Epoch 20/100\n",
      "60000/60000 [==============================] - 5s 82us/step - loss: 0.0276 - acc: 0.9948\n",
      "Epoch 21/100\n",
      "60000/60000 [==============================] - 5s 81us/step - loss: 0.0274 - acc: 0.9949\n",
      "Epoch 22/100\n",
      "60000/60000 [==============================] - 5s 81us/step - loss: 0.0272 - acc: 0.9950\n",
      "Epoch 23/100\n",
      "60000/60000 [==============================] - 5s 81us/step - loss: 0.0270 - acc: 0.9949: 1s - l\n",
      "Epoch 24/100\n",
      "60000/60000 [==============================] - 5s 82us/step - loss: 0.0268 - acc: 0.9950\n",
      "Epoch 25/100\n",
      "60000/60000 [==============================] - 5s 82us/step - loss: 0.0266 - acc: 0.9951\n",
      "Epoch 26/100\n",
      "60000/60000 [==============================] - 5s 82us/step - loss: 0.0265 - acc: 0.9950\n",
      "Epoch 27/100\n",
      "60000/60000 [==============================] - 5s 82us/step - loss: 0.0263 - acc: 0.9953\n",
      "Epoch 28/100\n",
      "60000/60000 [==============================] - 5s 82us/step - loss: 0.0261 - acc: 0.9952\n",
      "Epoch 29/100\n",
      "60000/60000 [==============================] - 5s 82us/step - loss: 0.0259 - acc: 0.9953\n",
      "Epoch 30/100\n",
      "60000/60000 [==============================] - 5s 81us/step - loss: 0.0258 - acc: 0.9954\n",
      "Epoch 31/100\n",
      "60000/60000 [==============================] - 5s 81us/step - loss: 0.0256 - acc: 0.9955\n",
      "Epoch 32/100\n",
      "60000/60000 [==============================] - 5s 81us/step - loss: 0.0254 - acc: 0.9954\n",
      "Epoch 33/100\n",
      "60000/60000 [==============================] - 5s 86us/step - loss: 0.0252 - acc: 0.9953\n",
      "Epoch 34/100\n",
      "60000/60000 [==============================] - 5s 82us/step - loss: 0.0251 - acc: 0.9955\n",
      "Epoch 35/100\n",
      "60000/60000 [==============================] - 5s 81us/step - loss: 0.0249 - acc: 0.9956\n",
      "Epoch 36/100\n",
      "60000/60000 [==============================] - 5s 82us/step - loss: 0.0247 - acc: 0.9957\n",
      "Epoch 37/100\n",
      "60000/60000 [==============================] - 5s 82us/step - loss: 0.0246 - acc: 0.9957\n",
      "Epoch 38/100\n",
      "60000/60000 [==============================] - 5s 82us/step - loss: 0.0244 - acc: 0.9957\n",
      "Epoch 39/100\n",
      "60000/60000 [==============================] - 5s 84us/step - loss: 0.0243 - acc: 0.9957\n",
      "Epoch 40/100\n",
      "60000/60000 [==============================] - 5s 83us/step - loss: 0.0241 - acc: 0.9959\n",
      "Epoch 41/100\n",
      "60000/60000 [==============================] - 5s 83us/step - loss: 0.0239 - acc: 0.9959\n",
      "Epoch 42/100\n",
      "60000/60000 [==============================] - 5s 82us/step - loss: 0.0238 - acc: 0.9960\n",
      "Epoch 43/100\n",
      "60000/60000 [==============================] - 5s 81us/step - loss: 0.0236 - acc: 0.9961\n",
      "Epoch 44/100\n",
      "60000/60000 [==============================] - 5s 82us/step - loss: 0.0235 - acc: 0.9961\n",
      "Epoch 45/100\n",
      "60000/60000 [==============================] - 5s 82us/step - loss: 0.0233 - acc: 0.9961\n",
      "Epoch 46/100\n",
      "60000/60000 [==============================] - 5s 84us/step - loss: 0.0232 - acc: 0.9962\n",
      "Epoch 47/100\n",
      "60000/60000 [==============================] - 5s 82us/step - loss: 0.0230 - acc: 0.9963\n",
      "Epoch 48/100\n",
      "60000/60000 [==============================] - 5s 82us/step - loss: 0.0229 - acc: 0.9965\n",
      "Epoch 49/100\n",
      "60000/60000 [==============================] - 5s 82us/step - loss: 0.0227 - acc: 0.9963\n",
      "Epoch 50/100\n",
      "60000/60000 [==============================] - 5s 82us/step - loss: 0.0226 - acc: 0.9964\n",
      "Epoch 51/100\n",
      "60000/60000 [==============================] - 5s 81us/step - loss: 0.0225 - acc: 0.9965\n",
      "Epoch 52/100\n",
      "60000/60000 [==============================] - 5s 82us/step - loss: 0.0223 - acc: 0.9964\n",
      "Epoch 53/100\n",
      "60000/60000 [==============================] - 5s 87us/step - loss: 0.0222 - acc: 0.9966\n",
      "Epoch 54/100\n",
      "60000/60000 [==============================] - 5s 90us/step - loss: 0.0220 - acc: 0.9965\n",
      "Epoch 55/100\n",
      "60000/60000 [==============================] - 6s 94us/step - loss: 0.0219 - acc: 0.9966\n",
      "Epoch 56/100\n",
      "60000/60000 [==============================] - 6s 96us/step - loss: 0.0218 - acc: 0.9966\n",
      "Epoch 57/100\n",
      "60000/60000 [==============================] - 6s 100us/step - loss: 0.0216 - acc: 0.9967\n",
      "Epoch 58/100\n",
      "60000/60000 [==============================] - 6s 95us/step - loss: 0.0215 - acc: 0.9968\n",
      "Epoch 59/100\n",
      "60000/60000 [==============================] - 6s 95us/step - loss: 0.0214 - acc: 0.9968\n",
      "Epoch 60/100\n",
      "60000/60000 [==============================] - 5s 85us/step - loss: 0.0212 - acc: 0.9969\n",
      "Epoch 61/100\n",
      "60000/60000 [==============================] - 5s 83us/step - loss: 0.0211 - acc: 0.9969\n",
      "Epoch 62/100\n",
      "60000/60000 [==============================] - 5s 82us/step - loss: 0.0209 - acc: 0.9969\n",
      "Epoch 63/100\n",
      "60000/60000 [==============================] - 5s 82us/step - loss: 0.0208 - acc: 0.9969\n",
      "Epoch 64/100\n",
      "60000/60000 [==============================] - 5s 83us/step - loss: 0.0207 - acc: 0.9970\n",
      "Epoch 65/100\n",
      "60000/60000 [==============================] - 5s 86us/step - loss: 0.0206 - acc: 0.9970\n",
      "Epoch 66/100\n",
      "60000/60000 [==============================] - 5s 88us/step - loss: 0.0205 - acc: 0.9970\n",
      "Epoch 67/100\n",
      "60000/60000 [==============================] - 5s 85us/step - loss: 0.0203 - acc: 0.9971\n",
      "Epoch 68/100\n",
      "60000/60000 [==============================] - 5s 86us/step - loss: 0.0202 - acc: 0.9971\n",
      "Epoch 69/100\n",
      "60000/60000 [==============================] - 5s 88us/step - loss: 0.0201 - acc: 0.9971\n",
      "Epoch 70/100\n",
      "60000/60000 [==============================] - 5s 83us/step - loss: 0.0200 - acc: 0.9972\n",
      "Epoch 71/100\n",
      "60000/60000 [==============================] - 5s 83us/step - loss: 0.0198 - acc: 0.9972\n",
      "Epoch 72/100\n",
      "60000/60000 [==============================] - 5s 83us/step - loss: 0.0197 - acc: 0.9972: 0s - loss: 0.0197 - acc: 0.9\n",
      "Epoch 73/100\n",
      "60000/60000 [==============================] - 5s 84us/step - loss: 0.0196 - acc: 0.9973\n",
      "Epoch 74/100\n",
      "60000/60000 [==============================] - 5s 83us/step - loss: 0.0195 - acc: 0.9973\n",
      "Epoch 75/100\n",
      "60000/60000 [==============================] - 5s 83us/step - loss: 0.0194 - acc: 0.9974\n",
      "Epoch 76/100\n",
      "60000/60000 [==============================] - 5s 84us/step - loss: 0.0193 - acc: 0.9974\n",
      "Epoch 77/100\n",
      "60000/60000 [==============================] - 5s 84us/step - loss: 0.0191 - acc: 0.9973\n",
      "Epoch 78/100\n",
      "60000/60000 [==============================] - 5s 83us/step - loss: 0.0190 - acc: 0.9974\n",
      "Epoch 79/100\n",
      "60000/60000 [==============================] - 5s 83us/step - loss: 0.0189 - acc: 0.9974\n",
      "Epoch 80/100\n",
      "60000/60000 [==============================] - 5s 83us/step - loss: 0.0188 - acc: 0.9975\n",
      "Epoch 81/100\n",
      "60000/60000 [==============================] - 5s 79us/step - loss: 0.0187 - acc: 0.9975\n",
      "Epoch 82/100\n",
      "60000/60000 [==============================] - 5s 80us/step - loss: 0.0186 - acc: 0.9975\n",
      "Epoch 83/100\n",
      "60000/60000 [==============================] - 5s 81us/step - loss: 0.0185 - acc: 0.9975\n",
      "Epoch 84/100\n",
      "60000/60000 [==============================] - 5s 84us/step - loss: 0.0184 - acc: 0.9976\n",
      "Epoch 85/100\n",
      "60000/60000 [==============================] - 5s 86us/step - loss: 0.0183 - acc: 0.9976\n",
      "Epoch 86/100\n",
      "60000/60000 [==============================] - 5s 88us/step - loss: 0.0182 - acc: 0.9977\n",
      "Epoch 87/100\n",
      "60000/60000 [==============================] - 5s 86us/step - loss: 0.0181 - acc: 0.9977\n",
      "Epoch 88/100\n",
      "60000/60000 [==============================] - 5s 89us/step - loss: 0.0180 - acc: 0.9977\n",
      "Epoch 89/100\n",
      "60000/60000 [==============================] - 5s 91us/step - loss: 0.0178 - acc: 0.9976\n",
      "Epoch 90/100\n",
      "60000/60000 [==============================] - 5s 88us/step - loss: 0.0178 - acc: 0.9978\n",
      "Epoch 91/100\n",
      "60000/60000 [==============================] - 6s 94us/step - loss: 0.0176 - acc: 0.9977\n",
      "Epoch 92/100\n",
      "60000/60000 [==============================] - 6s 97us/step - loss: 0.0176 - acc: 0.9978\n",
      "Epoch 93/100\n",
      "60000/60000 [==============================] - 6s 93us/step - loss: 0.0174 - acc: 0.9978\n",
      "Epoch 94/100\n",
      "60000/60000 [==============================] - 5s 89us/step - loss: 0.0173 - acc: 0.9978\n",
      "Epoch 95/100\n",
      "60000/60000 [==============================] - 5s 90us/step - loss: 0.0172 - acc: 0.9979\n",
      "Epoch 96/100\n",
      "60000/60000 [==============================] - 5s 88us/step - loss: 0.0171 - acc: 0.9980\n",
      "Epoch 97/100\n",
      "60000/60000 [==============================] - 5s 89us/step - loss: 0.0170 - acc: 0.9979\n",
      "Epoch 98/100\n",
      "60000/60000 [==============================] - 5s 86us/step - loss: 0.0170 - acc: 0.9980\n",
      "Epoch 99/100\n",
      "60000/60000 [==============================] - 5s 86us/step - loss: 0.0169 - acc: 0.9980\n",
      "Epoch 100/100\n",
      "60000/60000 [==============================] - 5s 86us/step - loss: 0.0168 - acc: 0.9980\n"
     ]
    },
    {
     "data": {
      "text/plain": [
       "<keras.callbacks.History at 0x250bdbe1a08>"
      ]
     },
     "execution_count": 131,
     "metadata": {},
     "output_type": "execute_result"
    }
   ],
   "source": [
    "model.fit(x_train, y_train, epochs=100, batch_size=100)"
   ]
  },
  {
   "cell_type": "code",
   "execution_count": null,
   "metadata": {},
   "outputs": [],
   "source": []
  },
  {
   "cell_type": "code",
   "execution_count": null,
   "metadata": {},
   "outputs": [],
   "source": []
  }
 ],
 "metadata": {
  "kernelspec": {
   "display_name": "Python 3",
   "language": "python",
   "name": "python3"
  },
  "language_info": {
   "codemirror_mode": {
    "name": "ipython",
    "version": 3
   },
   "file_extension": ".py",
   "mimetype": "text/x-python",
   "name": "python",
   "nbconvert_exporter": "python",
   "pygments_lexer": "ipython3",
   "version": "3.7.4"
  }
 },
 "nbformat": 4,
 "nbformat_minor": 4
}
