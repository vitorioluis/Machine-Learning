{
 "cells": [
  {
   "cell_type": "code",
   "execution_count": 1,
   "metadata": {},
   "outputs": [],
   "source": [
    "import cv2\n",
    "import os\n",
    "import numpy as np\n",
    "import matplotlib as plt\n",
    "from glob import glob\n",
    "import zipfile\n",
    "from datetime import datetime\n",
    "\n",
    "%matplotlib inline"
   ]
  },
  {
   "cell_type": "code",
   "execution_count": 2,
   "metadata": {},
   "outputs": [],
   "source": [
    "# caso queira salvar ou carregar o modelo\n",
    "import pickle\n",
    "nome_medelo = \"model_classificar_dog_cat.mod\""
   ]
  },
  {
   "cell_type": "markdown",
   "metadata": {},
   "source": [
    "### Importar Dados e tratar os dados"
   ]
  },
  {
   "cell_type": "code",
   "execution_count": 3,
   "metadata": {},
   "outputs": [],
   "source": [
    "# lista arquivos por formato\n",
    "def filtrar_arquivo(tipo):\n",
    "    path = './'\n",
    "    lst_arq = os.listdir(path) # listando novamente o diretório para verificar arquivos csv\n",
    "    return [arq for arq in lst_arq if arq[-3:] == tipo]\n",
    "\n",
    "# Separa arquivo zip caso haja outros tipos de arquivo na pasta\n",
    "lst_zip = filtrar_arquivo('zip')\n",
    "\n",
    "# extrair arquivos do zip para trabalhar\n",
    "for zp in lst_zip:\n",
    "    fzp = zipfile.ZipFile(zp)\n",
    "    fzp.extractall('./') \n",
    "    fzp.close()"
   ]
  },
  {
   "cell_type": "code",
   "execution_count": 4,
   "metadata": {},
   "outputs": [],
   "source": [
    "# dog = 0\n",
    "# cat = 1\n",
    "class_name = ['dog','cat']"
   ]
  },
  {
   "cell_type": "code",
   "execution_count": 5,
   "metadata": {},
   "outputs": [],
   "source": [
    "dir_img_train = 'dataset/train/*.jpg'\n",
    "dir_img_test = 'dataset/test/*.jpg'"
   ]
  },
  {
   "cell_type": "code",
   "execution_count": 6,
   "metadata": {},
   "outputs": [],
   "source": [
    "def convert_img_array(lst):\n",
    "    \"\"\"\n",
    "    lista diretorios com imagens e convertem array\n",
    "    \n",
    "    \"\"\"\n",
    "    lst_img, lst_label=[],[]\n",
    "    for d in glob(lst):\n",
    "        lst_img.append(cv2.imread(d))\n",
    "        if 'dog' in d:\n",
    "            lst_label.append('0')\n",
    "        elif 'cat' in d:\n",
    "            lst_label.append('1')\n",
    "    return np.array(lst_img), np.array(lst_label)"
   ]
  },
  {
   "cell_type": "code",
   "execution_count": 7,
   "metadata": {},
   "outputs": [],
   "source": [
    "# gerando dados de trainos e test\n",
    "train_img, train_label = convert_img_array(dir_img_train)\n",
    "test_img, test_label = convert_img_array(dir_img_test)"
   ]
  },
  {
   "cell_type": "code",
   "execution_count": 8,
   "metadata": {},
   "outputs": [
    {
     "data": {
      "text/plain": [
       "(8000, 32, 32, 3)"
      ]
     },
     "execution_count": 8,
     "metadata": {},
     "output_type": "execute_result"
    }
   ],
   "source": [
    "train_img.shape"
   ]
  },
  {
   "cell_type": "code",
   "execution_count": 9,
   "metadata": {},
   "outputs": [
    {
     "data": {
      "text/plain": [
       "(2000,)"
      ]
     },
     "execution_count": 9,
     "metadata": {},
     "output_type": "execute_result"
    }
   ],
   "source": [
    "test_label.shape"
   ]
  },
  {
   "cell_type": "code",
   "execution_count": 10,
   "metadata": {},
   "outputs": [
    {
     "data": {
      "text/plain": [
       "(8000, 32, 32, 3)"
      ]
     },
     "execution_count": 10,
     "metadata": {},
     "output_type": "execute_result"
    }
   ],
   "source": [
    "train_img.shape"
   ]
  },
  {
   "cell_type": "code",
   "execution_count": 11,
   "metadata": {},
   "outputs": [
    {
     "data": {
      "text/plain": [
       "(8000,)"
      ]
     },
     "execution_count": 11,
     "metadata": {},
     "output_type": "execute_result"
    }
   ],
   "source": [
    "train_label.shape"
   ]
  },
  {
   "cell_type": "code",
   "execution_count": 12,
   "metadata": {},
   "outputs": [],
   "source": [
    "# escalar as imagens para que o valor esteja entre 0 e 1\n",
    "train_img = train_img / 255.0\n",
    "test_img = test_img / 255.0"
   ]
  },
  {
   "cell_type": "markdown",
   "metadata": {},
   "source": [
    "### Classificação com Tensorflow\n",
    "\n",
    "Melhor acurácia utilizando optimizer('sgd') = 0.66"
   ]
  },
  {
   "cell_type": "code",
   "execution_count": 13,
   "metadata": {},
   "outputs": [],
   "source": [
    "# TensorFlow e tf.keras\n",
    "import tensorflow as tf\n",
    "from tensorflow import keras"
   ]
  },
  {
   "cell_type": "code",
   "execution_count": 14,
   "metadata": {},
   "outputs": [
    {
     "name": "stdout",
     "output_type": "stream",
     "text": [
      "WARNING:tensorflow:From d:\\__venvs_projects\\deep_learn\\lib\\site-packages\\tensorflow\\python\\ops\\resource_variable_ops.py:435: colocate_with (from tensorflow.python.framework.ops) is deprecated and will be removed in a future version.\n",
      "Instructions for updating:\n",
      "Colocations handled automatically by placer.\n"
     ]
    }
   ],
   "source": [
    "# criar o modelo\n",
    "model = keras.Sequential([\n",
    "    keras.layers.Flatten(input_shape = (32, 32, 3)),\n",
    "    keras.layers.Dense(128, activation = tf.nn.relu),\n",
    "    keras.layers.Dense(128, activation = tf.nn.relu),\n",
    "    keras.layers.Dense(128, activation = tf.nn.relu),\n",
    "    keras.layers.Dense(2, activation = tf.nn.softmax)\n",
    "])"
   ]
  },
  {
   "cell_type": "code",
   "execution_count": 15,
   "metadata": {},
   "outputs": [],
   "source": [
    "# compilar modelo\n",
    "model.compile(optimizer='sgd', \n",
    "              loss='sparse_categorical_crossentropy',\n",
    "              metrics=['accuracy']\n",
    "             )"
   ]
  },
  {
   "cell_type": "code",
   "execution_count": null,
   "metadata": {},
   "outputs": [
    {
     "name": "stdout",
     "output_type": "stream",
     "text": [
      "Epoch 1/100000\n",
      "8000/8000 [==============================] - 2s 257us/sample - loss: 0.6862 - acc: 0.5497\n",
      "Epoch 2/100000\n",
      "8000/8000 [==============================] - 2s 238us/sample - loss: 0.6684 - acc: 0.5885\n",
      "Epoch 3/100000\n",
      "8000/8000 [==============================] - 2s 249us/sample - loss: 0.6594 - acc: 0.6041\n",
      "Epoch 4/100000\n",
      "8000/8000 [==============================] - 2s 235us/sample - loss: 0.6536 - acc: 0.6143\n",
      "Epoch 5/100000\n",
      "8000/8000 [==============================] - 2s 236us/sample - loss: 0.6455 - acc: 0.6254\n",
      "Epoch 6/100000\n",
      "8000/8000 [==============================] - 2s 241us/sample - loss: 0.6406 - acc: 0.6281\n",
      "Epoch 7/100000\n",
      "8000/8000 [==============================] - 2s 248us/sample - loss: 0.6356 - acc: 0.6331\n",
      "Epoch 8/100000\n",
      "8000/8000 [==============================] - 2s 243us/sample - loss: 0.6287 - acc: 0.6464\n",
      "Epoch 9/100000\n",
      "8000/8000 [==============================] - 2s 243us/sample - loss: 0.6245 - acc: 0.6486\n",
      "Epoch 10/100000\n",
      "8000/8000 [==============================] - 2s 245us/sample - loss: 0.6220 - acc: 0.6486\n",
      "Epoch 11/100000\n",
      "8000/8000 [==============================] - 2s 251us/sample - loss: 0.6171 - acc: 0.6528\n",
      "Epoch 12/100000\n",
      "8000/8000 [==============================] - 2s 233us/sample - loss: 0.6096 - acc: 0.6687\n",
      "Epoch 13/100000\n",
      "8000/8000 [==============================] - 2s 222us/sample - loss: 0.6071 - acc: 0.6641\n",
      "Epoch 14/100000\n",
      "8000/8000 [==============================] - 2s 235us/sample - loss: 0.6021 - acc: 0.6743\n",
      "Epoch 15/100000\n",
      "8000/8000 [==============================] - 2s 234us/sample - loss: 0.5984 - acc: 0.6749\n",
      "Epoch 16/100000\n",
      "8000/8000 [==============================] - 2s 242us/sample - loss: 0.5924 - acc: 0.6814\n",
      "Epoch 17/100000\n",
      "8000/8000 [==============================] - 2s 241us/sample - loss: 0.5905 - acc: 0.6810\n",
      "Epoch 18/100000\n",
      "8000/8000 [==============================] - 2s 239us/sample - loss: 0.5833 - acc: 0.6862\n",
      "Epoch 19/100000\n",
      "8000/8000 [==============================] - 2s 245us/sample - loss: 0.5836 - acc: 0.6855\n",
      "Epoch 20/100000\n",
      "8000/8000 [==============================] - 2s 243us/sample - loss: 0.5738 - acc: 0.6942\n",
      "Epoch 21/100000\n",
      "8000/8000 [==============================] - 2s 238us/sample - loss: 0.5705 - acc: 0.7001\n",
      "Epoch 22/100000\n",
      "8000/8000 [==============================] - 2s 277us/sample - loss: 0.5643 - acc: 0.7024\n",
      "Epoch 23/100000\n",
      "8000/8000 [==============================] - 2s 272us/sample - loss: 0.5593 - acc: 0.7164\n",
      "Epoch 24/100000\n",
      "8000/8000 [==============================] - 2s 250us/sample - loss: 0.5504 - acc: 0.7176\n",
      "Epoch 25/100000\n",
      "8000/8000 [==============================] - 2s 252us/sample - loss: 0.5513 - acc: 0.7119\n",
      "Epoch 26/100000\n",
      "8000/8000 [==============================] - 2s 242us/sample - loss: 0.5459 - acc: 0.7214\n",
      "Epoch 27/100000\n",
      "8000/8000 [==============================] - 2s 264us/sample - loss: 0.5390 - acc: 0.7237\n",
      "Epoch 28/100000\n",
      "8000/8000 [==============================] - 2s 241us/sample - loss: 0.5343 - acc: 0.7269\n",
      "Epoch 29/100000\n",
      "8000/8000 [==============================] - 2s 258us/sample - loss: 0.5283 - acc: 0.7326\n",
      "Epoch 30/100000\n",
      "8000/8000 [==============================] - 2s 259us/sample - loss: 0.5263 - acc: 0.7409\n",
      "Epoch 31/100000\n",
      "8000/8000 [==============================] - 2s 254us/sample - loss: 0.5101 - acc: 0.7485\n",
      "Epoch 32/100000\n",
      "8000/8000 [==============================] - 2s 234us/sample - loss: 0.5082 - acc: 0.7442\n",
      "Epoch 33/100000\n",
      "8000/8000 [==============================] - 2s 240us/sample - loss: 0.5048 - acc: 0.7496\n",
      "Epoch 34/100000\n",
      "8000/8000 [==============================] - 2s 237us/sample - loss: 0.5047 - acc: 0.7521\n",
      "Epoch 35/100000\n",
      "8000/8000 [==============================] - 2s 241us/sample - loss: 0.4981 - acc: 0.7541\n",
      "Epoch 36/100000\n",
      "8000/8000 [==============================] - 2s 229us/sample - loss: 0.4838 - acc: 0.7656\n",
      "Epoch 37/100000\n",
      "8000/8000 [==============================] - 2s 241us/sample - loss: 0.4831 - acc: 0.7695\n",
      "Epoch 38/100000\n",
      "8000/8000 [==============================] - 2s 265us/sample - loss: 0.4704 - acc: 0.7784\n",
      "Epoch 39/100000\n",
      "8000/8000 [==============================] - 2s 278us/sample - loss: 0.4626 - acc: 0.7803\n",
      "Epoch 40/100000\n",
      "8000/8000 [==============================] - 2s 274us/sample - loss: 0.4648 - acc: 0.7799\n",
      "Epoch 41/100000\n",
      "8000/8000 [==============================] - 2s 244us/sample - loss: 0.4585 - acc: 0.7816\n",
      "Epoch 42/100000\n",
      "8000/8000 [==============================] - 2s 253us/sample - loss: 0.4496 - acc: 0.7887\n",
      "Epoch 43/100000\n",
      "8000/8000 [==============================] - 2s 264us/sample - loss: 0.4410 - acc: 0.7906\n",
      "Epoch 44/100000\n",
      "8000/8000 [==============================] - 2s 269us/sample - loss: 0.4412 - acc: 0.7915\n",
      "Epoch 45/100000\n",
      "8000/8000 [==============================] - 2s 264us/sample - loss: 0.4296 - acc: 0.7981\n",
      "Epoch 46/100000\n",
      "8000/8000 [==============================] - 2s 290us/sample - loss: 0.4246 - acc: 0.8036\n",
      "Epoch 47/100000\n",
      "8000/8000 [==============================] - 3s 361us/sample - loss: 0.4142 - acc: 0.8085\n",
      "Epoch 48/100000\n",
      "8000/8000 [==============================] - 2s 261us/sample - loss: 0.4135 - acc: 0.8119\n",
      "Epoch 49/100000\n",
      "8000/8000 [==============================] - 2s 281us/sample - loss: 0.4075 - acc: 0.8170\n",
      "Epoch 50/100000\n",
      "8000/8000 [==============================] - 2s 263us/sample - loss: 0.4032 - acc: 0.8166s - loss: 0.3999 - acc: 0\n",
      "Epoch 51/100000\n",
      "8000/8000 [==============================] - 2s 272us/sample - loss: 0.3988 - acc: 0.8166\n",
      "Epoch 52/100000\n",
      "8000/8000 [==============================] - 2s 274us/sample - loss: 0.3863 - acc: 0.8313\n",
      "Epoch 53/100000\n",
      "8000/8000 [==============================] - 2s 231us/sample - loss: 0.3833 - acc: 0.8263\n",
      "Epoch 54/100000\n",
      "8000/8000 [==============================] - 2s 270us/sample - loss: 0.3735 - acc: 0.8335\n",
      "Epoch 55/100000\n",
      "7328/8000 [==========================>...] - ETA: 0s - loss: 0.3675 - acc: 0.8407"
     ]
    }
   ],
   "source": [
    "start = datetime.now()\n",
    "# treinar modelo\n",
    "model.fit(train_img, train_label, epochs=100000)\n",
    "print('')\n",
    "print('Tempo decorrido para treinar o modelo: ', datetime.now() - start)"
   ]
  },
  {
   "cell_type": "code",
   "execution_count": 55,
   "metadata": {},
   "outputs": [
    {
     "name": "stdout",
     "output_type": "stream",
     "text": [
      "2000/2000 [==============================] - 0s 246us/sample - loss: 2.2670 - acc: 0.6585\n",
      "Test accuracy: 0.6585\n",
      "Test loss: 2.2669596309661864\n"
     ]
    }
   ],
   "source": [
    "# eficiência do modelo\n",
    "test_loss, test_acc = model.evaluate(test_img, test_label)\n",
    "print('Test accuracy:', test_acc)\n",
    "print('Test loss:', test_loss)"
   ]
  },
  {
   "cell_type": "code",
   "execution_count": 56,
   "metadata": {},
   "outputs": [
    {
     "data": {
      "text/plain": [
       "array([[4.0509422e-05, 9.9995947e-01],\n",
       "       [4.4648236e-04, 9.9955350e-01],\n",
       "       [4.8662182e-06, 9.9999511e-01],\n",
       "       ...,\n",
       "       [5.9292514e-02, 9.4070745e-01],\n",
       "       [9.9450266e-01, 5.4972898e-03],\n",
       "       [6.5560102e-02, 9.3443990e-01]], dtype=float32)"
      ]
     },
     "execution_count": 56,
     "metadata": {},
     "output_type": "execute_result"
    }
   ],
   "source": [
    "# previsoes\n",
    "predict = model.predict(test_img)\n",
    "predict"
   ]
  },
  {
   "cell_type": "code",
   "execution_count": 58,
   "metadata": {},
   "outputs": [
    {
     "name": "stdout",
     "output_type": "stream",
     "text": [
      "Predito: cat\n",
      "Real: cat\n"
     ]
    }
   ],
   "source": [
    "# previsão é um vetor de 2 números onde descreve a confiança que teve para cada resultado\n",
    "p = 91\n",
    "\n",
    "print('Predito:', class_name[np.argmax(predict[p])])\n",
    "print('Real:', class_name[int(test_label[p])])"
   ]
  },
  {
   "cell_type": "markdown",
   "metadata": {},
   "source": [
    "### Classificação com Machine Learning"
   ]
  },
  {
   "cell_type": "code",
   "execution_count": 12,
   "metadata": {},
   "outputs": [],
   "source": [
    "from sklearn.metrics import accuracy_score"
   ]
  },
  {
   "cell_type": "code",
   "execution_count": 13,
   "metadata": {},
   "outputs": [],
   "source": [
    "# padroniza a entrada com esse reshape\n",
    "# convert de 3d para 2d\n",
    "def _reshape(ds):\n",
    "    return ds.reshape(len(ds),-1)"
   ]
  },
  {
   "cell_type": "code",
   "execution_count": 14,
   "metadata": {},
   "outputs": [],
   "source": [
    "x_train = _reshape(train_img)\n",
    "y_test = _reshape(test_img)"
   ]
  },
  {
   "cell_type": "markdown",
   "metadata": {},
   "source": [
    "#### Modelo SVM \n",
    "\n",
    "Melhor acurácia = 0.62"
   ]
  },
  {
   "cell_type": "code",
   "execution_count": null,
   "metadata": {},
   "outputs": [],
   "source": [
    "from sklearn.svm import SVC"
   ]
  },
  {
   "cell_type": "code",
   "execution_count": null,
   "metadata": {},
   "outputs": [],
   "source": [
    "# accuracy testada do modelo\n",
    "# 'linear' =  0.5935\n",
    "# 'poly' = 0.566\n",
    "# 'rbf' = 0.6195\n",
    "#'sigmoid' = 0.5885\n",
    "\n",
    "model_svm = SVC(kernel='rbf')\n",
    "model_svm.fit(x_train, train_label)\n",
    "\n",
    "predicted = model_svm.predict(y_test)\n",
    "accuracy_score(test_label, predicted)"
   ]
  },
  {
   "cell_type": "markdown",
   "metadata": {},
   "source": [
    "#### Regressão Logistica\n",
    "\n",
    "Melhor acurácia = 0.60 com 'sag'"
   ]
  },
  {
   "cell_type": "code",
   "execution_count": null,
   "metadata": {},
   "outputs": [],
   "source": [
    "from sklearn.linear_model import LogisticRegression"
   ]
  },
  {
   "cell_type": "code",
   "execution_count": null,
   "metadata": {},
   "outputs": [],
   "source": [
    "model_log = LogisticRegression(solver='sag')"
   ]
  },
  {
   "cell_type": "code",
   "execution_count": null,
   "metadata": {},
   "outputs": [],
   "source": [
    "model_log.fit(x_train, train_label)\n",
    "pred_log1 = model_log.predict(y_test)\n",
    "accuracy_score(test_label, pred_log1)"
   ]
  },
  {
   "cell_type": "markdown",
   "metadata": {},
   "source": [
    "#### Floresta aleatória (Random Florest)\n",
    "\n",
    "Melhor acurácia = 0.58"
   ]
  },
  {
   "cell_type": "code",
   "execution_count": 15,
   "metadata": {},
   "outputs": [],
   "source": [
    "from sklearn.ensemble import RandomForestClassifier"
   ]
  },
  {
   "cell_type": "code",
   "execution_count": 16,
   "metadata": {},
   "outputs": [],
   "source": [
    "model_rd = RandomForestClassifier()"
   ]
  },
  {
   "cell_type": "code",
   "execution_count": 17,
   "metadata": {},
   "outputs": [
    {
     "name": "stderr",
     "output_type": "stream",
     "text": [
      "d:\\__venvs_projects\\deep_learn\\lib\\site-packages\\sklearn\\ensemble\\forest.py:246: FutureWarning: The default value of n_estimators will change from 10 in version 0.20 to 100 in 0.22.\n",
      "  \"10 in version 0.20 to 100 in 0.22.\", FutureWarning)\n"
     ]
    },
    {
     "data": {
      "text/plain": [
       "0.5925"
      ]
     },
     "execution_count": 17,
     "metadata": {},
     "output_type": "execute_result"
    }
   ],
   "source": [
    "model_rd.fit(x_train, train_label)\n",
    "pred_rd = model_rd.predict(y_test)\n",
    "accuracy_score(test_label, pred_rd)"
   ]
  },
  {
   "cell_type": "markdown",
   "metadata": {},
   "source": [
    "#### Naives Bayes\n",
    "\n",
    "Melhor acurácia = 0.59"
   ]
  },
  {
   "cell_type": "code",
   "execution_count": 31,
   "metadata": {},
   "outputs": [],
   "source": [
    "from sklearn.naive_bayes import GaussianNB"
   ]
  },
  {
   "cell_type": "code",
   "execution_count": 32,
   "metadata": {},
   "outputs": [],
   "source": [
    "model_nb = GaussianNB()"
   ]
  },
  {
   "cell_type": "code",
   "execution_count": 33,
   "metadata": {},
   "outputs": [
    {
     "data": {
      "text/plain": [
       "0.5925"
      ]
     },
     "execution_count": 33,
     "metadata": {},
     "output_type": "execute_result"
    }
   ],
   "source": [
    "model_nb.fit(x_train, train_label)\n",
    "pred_nb = model_rd.predict(y_test)\n",
    "accuracy_score(test_label, pred_nb)"
   ]
  },
  {
   "cell_type": "markdown",
   "metadata": {},
   "source": [
    "#### K-Nearest Neighbors (KNN)\n",
    "\n",
    "Melhor acurácia = 0.58"
   ]
  },
  {
   "cell_type": "code",
   "execution_count": 34,
   "metadata": {},
   "outputs": [],
   "source": [
    "from sklearn.neighbors import KNeighborsClassifier"
   ]
  },
  {
   "cell_type": "code",
   "execution_count": 35,
   "metadata": {},
   "outputs": [],
   "source": [
    "model_knn = KNeighborsClassifier()"
   ]
  },
  {
   "cell_type": "code",
   "execution_count": 36,
   "metadata": {},
   "outputs": [
    {
     "data": {
      "text/plain": [
       "0.5825"
      ]
     },
     "execution_count": 36,
     "metadata": {},
     "output_type": "execute_result"
    }
   ],
   "source": [
    "model_knn.fit(x_train, train_label)\n",
    "pred_knn = model_knn.predict(y_test)\n",
    "accuracy_score(test_label, pred_knn)"
   ]
  },
  {
   "cell_type": "code",
   "execution_count": null,
   "metadata": {},
   "outputs": [],
   "source": []
  }
 ],
 "metadata": {
  "kernelspec": {
   "display_name": "Python 3",
   "language": "python",
   "name": "python3"
  },
  "language_info": {
   "codemirror_mode": {
    "name": "ipython",
    "version": 3
   },
   "file_extension": ".py",
   "mimetype": "text/x-python",
   "name": "python",
   "nbconvert_exporter": "python",
   "pygments_lexer": "ipython3",
   "version": "3.6.7"
  }
 },
 "nbformat": 4,
 "nbformat_minor": 2
}
