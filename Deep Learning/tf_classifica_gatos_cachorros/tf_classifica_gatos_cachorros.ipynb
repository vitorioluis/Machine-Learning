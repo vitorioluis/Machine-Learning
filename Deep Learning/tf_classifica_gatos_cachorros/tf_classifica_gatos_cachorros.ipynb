{
 "cells": [
  {
   "cell_type": "code",
   "execution_count": null,
   "metadata": {
    "colab": {},
    "colab_type": "code",
    "id": "GcmkZiCGTudP"
   },
   "outputs": [],
   "source": [
    "import cv2\n",
    "import os\n",
    "import numpy as np\n",
    "import matplotlib.pyplot as plt\n",
    "from glob import glob\n",
    "import zipfile\n",
    "from datetime import datetime\n",
    "\n",
    "#%matplotlib inline"
   ]
  },
  {
   "cell_type": "markdown",
   "metadata": {
    "colab_type": "text",
    "id": "Cf9mjrHiTudX"
   },
   "source": [
    "### Importar e tratar os dados LOCAIS"
   ]
  },
  {
   "cell_type": "code",
   "execution_count": null,
   "metadata": {
    "colab": {},
    "colab_type": "code",
    "id": "lGxmBmqITudY"
   },
   "outputs": [],
   "source": [
    "# lista arquivos por formato\n",
    "def filtrar_arquivo(tipo):\n",
    "    path = './'\n",
    "    lst_arq = os.listdir(path) # listando novamente o diretório para verificar arquivos csv\n",
    "    return [arq for arq in lst_arq if arq[-3:] == tipo]\n",
    "\n",
    "# Separa arquivo zip caso haja outros tipos de arquivo na pasta\n",
    "lst_zip = filtrar_arquivo('zip')\n",
    "\n",
    "# extrair arquivos do zip para trabalhar\n",
    "for zp in lst_zip:\n",
    "    fzp = zipfile.ZipFile(zp)\n",
    "    fzp.extractall('./') \n",
    "    fzp.close()"
   ]
  },
  {
   "cell_type": "markdown",
   "metadata": {
    "colab_type": "text",
    "id": "Cf9mjrHiTudX"
   },
   "source": [
    "### Importar e tratar os dados no GOOGLE COLAB"
   ]
  },
  {
   "cell_type": "code",
   "execution_count": null,
   "metadata": {},
   "outputs": [],
   "source": [
    "#  montar google driver\n",
    "from google.colab import drive\n",
    "drive.mount('/content/drive/')\n",
    "\n",
    "# extrai do Zip os csv's\n",
    "fzp = zipfile.ZipFile('/content/drive/My Drive/Colab Notebooks/dataset.zip')\n",
    "fzp.extractall('.') \n",
    "fzp.close()"
   ]
  },
  {
   "cell_type": "code",
   "execution_count": null,
   "metadata": {
    "colab": {},
    "colab_type": "code",
    "id": "tuG-KPZtTudd"
   },
   "outputs": [],
   "source": [
    "# dog = 0\n",
    "# cat = 1\n",
    "class_name = ['dog','cat']\n",
    "\n",
    "dir_img_train = 'dataset/train/*.jpg'\n",
    "dir_img_test = 'dataset/test/*.jpg'"
   ]
  },
  {
   "cell_type": "code",
   "execution_count": null,
   "metadata": {
    "colab": {},
    "colab_type": "code",
    "id": "kcyfLehOTudg"
   },
   "outputs": [],
   "source": [
    "def convert_img_array(lst):\n",
    "    \"\"\"\n",
    "    lista diretorios com imagens e convertem array\n",
    "    \n",
    "    \"\"\"\n",
    "    lst_img, lst_label=[],[]\n",
    "    for d in glob(lst):\n",
    "        lst_img.append(cv2.imread(d))\n",
    "        if 'dog' in d:\n",
    "            lst_label.append('0')\n",
    "        elif 'cat' in d:\n",
    "            lst_label.append('1')\n",
    "    return np.array(lst_img), np.array(lst_label)"
   ]
  },
  {
   "cell_type": "code",
   "execution_count": null,
   "metadata": {
    "colab": {},
    "colab_type": "code",
    "id": "2iY1BAlBTudj"
   },
   "outputs": [],
   "source": [
    "# gerando dados de trainos e test\n",
    "train_img, train_label = convert_img_array(dir_img_train)\n",
    "test_img, test_label = convert_img_array(dir_img_test)"
   ]
  },
  {
   "cell_type": "code",
   "execution_count": 8,
   "metadata": {
    "colab": {
     "base_uri": "https://localhost:8080/",
     "height": 34
    },
    "colab_type": "code",
    "id": "AYJi5IEKTudm",
    "outputId": "543d7eb6-edcb-428b-e781-876953af2f1c"
   },
   "outputs": [
    {
     "data": {
      "text/plain": [
       "(8000, 32, 32, 3)"
      ]
     },
     "execution_count": 8,
     "metadata": {
      "tags": []
     },
     "output_type": "execute_result"
    }
   ],
   "source": [
    "train_img.shape"
   ]
  },
  {
   "cell_type": "code",
   "execution_count": 9,
   "metadata": {
    "colab": {
     "base_uri": "https://localhost:8080/",
     "height": 34
    },
    "colab_type": "code",
    "id": "8zwFpJnLTuds",
    "outputId": "47733eb8-1ada-45bd-e00f-80e1020c8072"
   },
   "outputs": [
    {
     "data": {
      "text/plain": [
       "(2000,)"
      ]
     },
     "execution_count": 9,
     "metadata": {
      "tags": []
     },
     "output_type": "execute_result"
    }
   ],
   "source": [
    "test_label.shape"
   ]
  },
  {
   "cell_type": "code",
   "execution_count": 10,
   "metadata": {
    "colab": {
     "base_uri": "https://localhost:8080/",
     "height": 34
    },
    "colab_type": "code",
    "id": "yfju4SLZTudv",
    "outputId": "6720fd71-3897-4449-947c-33619d750978"
   },
   "outputs": [
    {
     "data": {
      "text/plain": [
       "(8000, 32, 32, 3)"
      ]
     },
     "execution_count": 10,
     "metadata": {
      "tags": []
     },
     "output_type": "execute_result"
    }
   ],
   "source": [
    "train_img.shape"
   ]
  },
  {
   "cell_type": "code",
   "execution_count": 11,
   "metadata": {
    "colab": {
     "base_uri": "https://localhost:8080/",
     "height": 34
    },
    "colab_type": "code",
    "id": "IH1DZOGLTudz",
    "outputId": "9fc52058-9ac0-4986-de6c-062b09306003"
   },
   "outputs": [
    {
     "data": {
      "text/plain": [
       "(8000,)"
      ]
     },
     "execution_count": 11,
     "metadata": {
      "tags": []
     },
     "output_type": "execute_result"
    }
   ],
   "source": [
    "train_label.shape"
   ]
  },
  {
   "cell_type": "code",
   "execution_count": null,
   "metadata": {
    "colab": {},
    "colab_type": "code",
    "id": "YmSgXYQrTud3"
   },
   "outputs": [],
   "source": [
    "# escalar as imagens para que o valor esteja entre 0 e 1\n",
    "train_img = train_img / 255.0\n",
    "test_img = test_img / 255.0"
   ]
  },
  {
   "cell_type": "markdown",
   "metadata": {
    "colab_type": "text",
    "id": "ujo5wUFxTud8"
   },
   "source": [
    "### Classificação com Keras\n",
    "\n",
    "Melhor acurácia utilizando optimizer('sgd') = 0.7505"
   ]
  },
  {
   "cell_type": "code",
   "execution_count": 13,
   "metadata": {
    "colab": {
     "base_uri": "https://localhost:8080/",
     "height": 34
    },
    "colab_type": "code",
    "id": "kMLDQrloTud9",
    "outputId": "8fcd8520-4074-4e10-86de-ba5d96d82c52"
   },
   "outputs": [
    {
     "name": "stdout",
     "output_type": "stream",
     "text": [
      "1.14.0\n"
     ]
    }
   ],
   "source": [
    "# TensorFlow e tf.keras\n",
    "import tensorflow as tf\n",
    "from tensorflow.keras import losses\n",
    "from tensorflow.keras import Sequential\n",
    "from tensorflow.keras.layers import Conv2D\n",
    "from tensorflow.keras.layers import MaxPooling2D\n",
    "from tensorflow.keras.layers import Flatten\n",
    "from tensorflow.keras.layers import Dense\n",
    "from tensorflow.keras.layers import Dropout\n",
    "\n",
    "from tensorflow.python.keras.callbacks import EarlyStopping, ReduceLROnPlateau\n",
    "\n",
    "\n",
    "print(tf.__version__)\n",
    "\n",
    "\n",
    "#!pip install -U --ignore-installed tensorboardcolab"
   ]
  },
  {
   "cell_type": "code",
   "execution_count": 14,
   "metadata": {
    "colab": {
     "base_uri": "https://localhost:8080/",
     "height": 107
    },
    "colab_type": "code",
    "id": "5LgK7Un4TueA",
    "outputId": "24a0fae2-7fb5-4f21-e662-86e3650105f0"
   },
   "outputs": [
    {
     "name": "stderr",
     "output_type": "stream",
     "text": [
      "WARNING: Logging before flag parsing goes to stderr.\n",
      "W0826 16:15:57.690465 139909430085504 deprecation.py:506] From /usr/local/lib/python3.6/dist-packages/tensorflow/python/ops/init_ops.py:1251: calling VarianceScaling.__init__ (from tensorflow.python.ops.init_ops) with dtype is deprecated and will be removed in a future version.\n",
      "Instructions for updating:\n",
      "Call initializer instance with the dtype argument instead of passing it to the constructor\n"
     ]
    }
   ],
   "source": [
    "# criar o modelo\n",
    "#model = keras.Sequential([\n",
    "#    keras.layers.Flatten(input_shape = (32, 32, 3)),\n",
    "#    keras.layers.Dense(128, activation = tf.nn.relu),\n",
    "#    keras.layers.Dense(128, activation = tf.nn.relu),\n",
    "#    keras.layers.Dense(128, activation = tf.nn.relu),\n",
    "#    keras.layers.Dense(2, activation = tf.nn.softmax)\n",
    "#])\n",
    "\n",
    "# Estaciar Modelo\n",
    "model = Sequential()\n",
    "\n",
    "# Camada de Convolução\n",
    "model.add(Conv2D(32,(5,5),padding='same', input_shape = (32, 32, 3), activation=tf.nn.relu))\n",
    "model.add(Conv2D(64,(5,5),padding='same', activation=tf.nn.relu))\n",
    "\n",
    "# Camada de Polling\n",
    "model.add(MaxPooling2D(pool_size=(2,2)))\n",
    "\n",
    "# camada de Dropout\n",
    "model.add(Dropout(0,25))\n",
    "\n",
    "# Flattening\n",
    "model.add(Flatten())\n",
    "\n",
    "# Full conection\n",
    "model.add(Dense(512, activation = tf.nn.relu))\n",
    "\n",
    "# camada de Dropout\n",
    "model.add(Dropout(0.5))\n",
    "\n",
    "model.add(Dense(2, activation = tf.nn.softmax))"
   ]
  },
  {
   "cell_type": "code",
   "execution_count": null,
   "metadata": {
    "colab": {},
    "colab_type": "code",
    "id": "G5qn1RasTueD"
   },
   "outputs": [],
   "source": [
    "model.summary()\n",
    "\n",
    "# compilar modelo\n",
    "model.compile(optimizer='sgd', \n",
    "              loss=losses.sparse_categorical_crossentropy,\n",
    "              metrics=['accuracy']\n",
    "             )"
   ]
  },
  {
   "cell_type": "code",
   "execution_count": 17,
   "metadata": {
    "colab": {
     "base_uri": "https://localhost:8080/",
     "height": 1000
    },
    "colab_type": "code",
    "id": "-dLiKHuMTueH",
    "outputId": "1ab688f2-5089-4b48-cc08-156aedc38023"
   },
   "outputs": [
    {
     "name": "stdout",
     "output_type": "stream",
     "text": [
      "Train on 6400 samples, validate on 1600 samples\n",
      "Epoch 1/1000\n",
      "6400/6400 [==============================] - 5s 795us/sample - loss: 0.6900 - acc: 0.5302 - val_loss: 0.6807 - val_acc: 0.5700\n",
      "Epoch 2/1000\n",
      "6400/6400 [==============================] - 1s 220us/sample - loss: 0.6780 - acc: 0.5775 - val_loss: 0.6825 - val_acc: 0.5344\n",
      "Epoch 3/1000\n",
      "6400/6400 [==============================] - 1s 206us/sample - loss: 0.6682 - acc: 0.6005 - val_loss: 0.6623 - val_acc: 0.6037\n",
      "Epoch 4/1000\n",
      "6400/6400 [==============================] - 1s 208us/sample - loss: 0.6586 - acc: 0.6092 - val_loss: 0.6664 - val_acc: 0.5744\n",
      "Epoch 5/1000\n",
      "6400/6400 [==============================] - 1s 209us/sample - loss: 0.6428 - acc: 0.6361 - val_loss: 0.6403 - val_acc: 0.6256\n",
      "Epoch 6/1000\n",
      "6400/6400 [==============================] - 1s 209us/sample - loss: 0.6291 - acc: 0.6497 - val_loss: 0.6379 - val_acc: 0.6338\n",
      "Epoch 7/1000\n",
      "6400/6400 [==============================] - 1s 210us/sample - loss: 0.6166 - acc: 0.6647 - val_loss: 0.6218 - val_acc: 0.6544\n",
      "Epoch 8/1000\n",
      "6400/6400 [==============================] - 1s 208us/sample - loss: 0.6023 - acc: 0.6775 - val_loss: 0.6181 - val_acc: 0.6550\n",
      "Epoch 9/1000\n",
      "6400/6400 [==============================] - 1s 209us/sample - loss: 0.5946 - acc: 0.6841 - val_loss: 0.6033 - val_acc: 0.6756\n",
      "Epoch 10/1000\n",
      "6400/6400 [==============================] - 1s 210us/sample - loss: 0.5839 - acc: 0.6947 - val_loss: 0.6015 - val_acc: 0.6794\n",
      "Epoch 11/1000\n",
      "6400/6400 [==============================] - 1s 211us/sample - loss: 0.5750 - acc: 0.7022 - val_loss: 0.5972 - val_acc: 0.6700\n",
      "Epoch 12/1000\n",
      "6400/6400 [==============================] - 1s 209us/sample - loss: 0.5639 - acc: 0.7069 - val_loss: 0.5789 - val_acc: 0.6963\n",
      "Epoch 13/1000\n",
      "6400/6400 [==============================] - 1s 209us/sample - loss: 0.5493 - acc: 0.7230 - val_loss: 0.5839 - val_acc: 0.6837\n",
      "Epoch 14/1000\n",
      "6400/6400 [==============================] - 1s 210us/sample - loss: 0.5414 - acc: 0.7245 - val_loss: 0.5714 - val_acc: 0.7000\n",
      "Epoch 15/1000\n",
      "6400/6400 [==============================] - 1s 208us/sample - loss: 0.5295 - acc: 0.7361 - val_loss: 0.5690 - val_acc: 0.7013\n",
      "Epoch 16/1000\n",
      "6400/6400 [==============================] - 1s 211us/sample - loss: 0.5151 - acc: 0.7500 - val_loss: 0.5673 - val_acc: 0.6994\n",
      "Epoch 17/1000\n",
      "6400/6400 [==============================] - 1s 212us/sample - loss: 0.5055 - acc: 0.7527 - val_loss: 0.5620 - val_acc: 0.7163\n",
      "Epoch 18/1000\n",
      "6400/6400 [==============================] - 1s 212us/sample - loss: 0.4969 - acc: 0.7595 - val_loss: 0.5438 - val_acc: 0.7337\n",
      "Epoch 19/1000\n",
      "6400/6400 [==============================] - 1s 209us/sample - loss: 0.4842 - acc: 0.7673 - val_loss: 0.5442 - val_acc: 0.7287\n",
      "Epoch 20/1000\n",
      "6400/6400 [==============================] - 1s 209us/sample - loss: 0.4707 - acc: 0.7792 - val_loss: 0.5619 - val_acc: 0.7044\n",
      "Epoch 21/1000\n",
      "6400/6400 [==============================] - 1s 209us/sample - loss: 0.4614 - acc: 0.7866 - val_loss: 0.5383 - val_acc: 0.7394\n",
      "Epoch 22/1000\n",
      "6400/6400 [==============================] - 1s 211us/sample - loss: 0.4447 - acc: 0.7969 - val_loss: 0.5495 - val_acc: 0.7219\n",
      "Epoch 23/1000\n",
      "6400/6400 [==============================] - 1s 210us/sample - loss: 0.4290 - acc: 0.7984 - val_loss: 0.5302 - val_acc: 0.7431\n",
      "Epoch 24/1000\n",
      "6400/6400 [==============================] - 1s 211us/sample - loss: 0.4182 - acc: 0.8069 - val_loss: 0.5565 - val_acc: 0.7412\n",
      "Epoch 25/1000\n",
      "6400/6400 [==============================] - 1s 215us/sample - loss: 0.4040 - acc: 0.8230 - val_loss: 0.5401 - val_acc: 0.7362\n",
      "Epoch 26/1000\n",
      "6400/6400 [==============================] - 1s 229us/sample - loss: 0.3861 - acc: 0.8258 - val_loss: 0.5397 - val_acc: 0.7412\n",
      "Epoch 27/1000\n",
      "6400/6400 [==============================] - 1s 211us/sample - loss: 0.3755 - acc: 0.8370 - val_loss: 0.5278 - val_acc: 0.7437\n",
      "Epoch 28/1000\n",
      "6400/6400 [==============================] - 1s 211us/sample - loss: 0.3529 - acc: 0.8511 - val_loss: 0.5436 - val_acc: 0.7312\n",
      "Epoch 29/1000\n",
      "6400/6400 [==============================] - 1s 211us/sample - loss: 0.3368 - acc: 0.8581 - val_loss: 0.5655 - val_acc: 0.7312\n",
      "Epoch 30/1000\n",
      "6400/6400 [==============================] - 1s 213us/sample - loss: 0.3277 - acc: 0.8603 - val_loss: 0.5387 - val_acc: 0.7494\n",
      "Epoch 31/1000\n",
      "6400/6400 [==============================] - 1s 213us/sample - loss: 0.3059 - acc: 0.8745 - val_loss: 0.5513 - val_acc: 0.7500\n",
      "Epoch 32/1000\n",
      "6400/6400 [==============================] - 1s 219us/sample - loss: 0.2817 - acc: 0.8872 - val_loss: 0.5437 - val_acc: 0.7525\n",
      "Epoch 33/1000\n",
      "6400/6400 [==============================] - 1s 217us/sample - loss: 0.2600 - acc: 0.8938 - val_loss: 0.5564 - val_acc: 0.7494\n",
      "Epoch 34/1000\n",
      "6400/6400 [==============================] - 1s 218us/sample - loss: 0.2405 - acc: 0.9095 - val_loss: 0.5691 - val_acc: 0.7369\n",
      "Epoch 35/1000\n",
      "6400/6400 [==============================] - 1s 215us/sample - loss: 0.2203 - acc: 0.9200 - val_loss: 0.6584 - val_acc: 0.7262\n",
      "Epoch 36/1000\n",
      "6400/6400 [==============================] - 1s 218us/sample - loss: 0.2046 - acc: 0.9220 - val_loss: 0.5862 - val_acc: 0.7500\n",
      "Epoch 37/1000\n",
      "6336/6400 [============================>.] - ETA: 0s - loss: 0.1846 - acc: 0.9350\n",
      "Epoch 00037: ReduceLROnPlateau reducing learning rate to 0.004999999888241291.\n",
      "6400/6400 [==============================] - 1s 221us/sample - loss: 0.1845 - acc: 0.9348 - val_loss: 0.6021 - val_acc: 0.7419\n",
      "\n",
      "Tempo decorrido para treinar o modelo:  0:00:57.259632\n"
     ]
    }
   ],
   "source": [
    "# treinar modelo\n",
    "start = datetime.now()\n",
    "\n",
    "\n",
    "\n",
    "learning_rate_reduction = ReduceLROnPlateau(monitor='val_acc', \n",
    "                                            patience=5, \n",
    "                                            verbose=1, \n",
    "                                            factor=0.5, \n",
    "                                            min_lr=0.00001)\n",
    "earlystop = EarlyStopping(patience=10)\n",
    "callbacks = [learning_rate_reduction, earlystop]\n",
    "\n",
    "\n",
    "treino = model.fit(train_img, \n",
    "          train_label,\n",
    "          batch_size = 32,\n",
    "          epochs = 1000,\n",
    "          validation_split=0.2,\n",
    "          verbose = 1,\n",
    "          callbacks=callbacks)\n",
    "\n",
    "\n",
    "print('')\n",
    "print('Tempo decorrido para treinar o modelo: ', datetime.now() - start)"
   ]
  },
  {
   "cell_type": "code",
   "execution_count": 18,
   "metadata": {
    "colab": {
     "base_uri": "https://localhost:8080/",
     "height": 70
    },
    "colab_type": "code",
    "id": "JRf6K5_WTueV",
    "outputId": "5c17d250-6138-4754-b669-83a53ab1c7c8"
   },
   "outputs": [
    {
     "name": "stdout",
     "output_type": "stream",
     "text": [
      "2000/2000 [==============================] - 0s 124us/sample - loss: 0.6178 - acc: 0.7505\n",
      "Acurácia: 0.7505\n",
      "Perda: 0.6178004508018493\n"
     ]
    }
   ],
   "source": [
    "# Eficiência do modelo\n",
    "test_loss, test_acc = model.evaluate(test_img, test_label)\n",
    "print('Acurácia:', test_acc)\n",
    "print('Perda:', test_loss)"
   ]
  },
  {
   "cell_type": "code",
   "execution_count": 19,
   "metadata": {
    "colab": {
     "base_uri": "https://localhost:8080/",
     "height": 454
    },
    "colab_type": "code",
    "id": "nYbzc22LbWyA",
    "outputId": "f30d3257-cb21-4c99-847c-c49ad693dc8a"
   },
   "outputs": [
    {
     "data": {
      "image/png": "[encoded data removed]",
      "text/plain": [
       "<Figure size 640x480 with 1 Axes>"
      ]
     },
     "metadata": {
      "tags": []
     },
     "output_type": "display_data"
    }
   ],
   "source": [
    "history_dict = treino.history\n",
    "acc = history_dict['acc']\n",
    "val_acc = history_dict['val_acc']\n",
    "range_epochs = range(1, len(acc) + 1)\n",
    "\n",
    "\n",
    "plt.style.use('default')\n",
    "accuracy_val = plt.plot(range_epochs, val_acc, label='Acurácia no conjunto de validação')\n",
    "accuracy_train = plt.plot(range_epochs, acc, label='Acurácia no conjunto de treino', color=\"r\")\n",
    "plt.setp(accuracy_val, linewidth=2.0)\n",
    "plt.setp(accuracy_train, linewidth=2.0)\n",
    "plt.xlabel('Épocas') \n",
    "plt.ylabel('Acurácia')\n",
    "plt.legend(loc=\"lower right\")\n",
    "\n",
    "plt.show()"
   ]
  },
  {
   "cell_type": "code",
   "execution_count": 21,
   "metadata": {
    "colab": {
     "base_uri": "https://localhost:8080/",
     "height": 294
    },
    "colab_type": "code",
    "id": "NMVAgdMEefEO",
    "outputId": "cf313772-f407-4e2e-bd9b-94eaf213e65b"
   },
   "outputs": [
    {
     "name": "stderr",
     "output_type": "stream",
     "text": [
      "/usr/local/lib/python3.6/dist-packages/matplotlib/figure.py:98: MatplotlibDeprecationWarning: \n",
      "Adding an axes using the same arguments as a previous axes currently reuses the earlier instance.  In a future version, a new instance will always be created and returned.  Meanwhile, this warning can be suppressed, and the future behavior ensured, by passing a unique label to each axes instance.\n",
      "  \"Adding an axes using the same arguments as a previous axes \"\n"
     ]
    },
    {
     "data": {
      "image/png": "[encoded data removed]",
      "text/plain": [
       "<Figure size 700x1400 with 1 Axes>"
      ]
     },
     "metadata": {
      "tags": []
     },
     "output_type": "display_data"
    }
   ],
   "source": [
    "# previsoes\n",
    "predict = model.predict_classes(test_img)\n",
    "\n",
    "plt.figure(figsize=(7,14))\n",
    "\n",
    "random_num = np.random.randint(0, len(test_img))\n",
    "img = test_img[random_num]\n",
    "\n",
    "plt.subplot(6,4,1)\n",
    "\n",
    "p=predict[random_num]\n",
    "predito =  str(class_name[p])\n",
    "real = str(class_name[int(test_label[p])])\n",
    "\n",
    "plt.subplot(6,4,1)\n",
    "plt.margins(x = 20, y = 20)\n",
    "plt.title('Predição: ' + predito + '\\n'+ 'Real:'+ real)\n",
    "plt.imshow(img.reshape(32, 32,3), cmap=plt.get_cmap('gray'));\n",
    "\n",
    "plt.show()\n",
    "\n"
   ]
  },
  {
   "cell_type": "markdown",
   "metadata": {
    "colab_type": "text",
    "id": "ufaOoMcpTue1"
   },
   "source": [
    "### Classificação com Machine Learning\n",
    "\n",
    "\n",
    "\n"
   ]
  },
  {
   "cell_type": "code",
   "execution_count": null,
   "metadata": {
    "colab": {},
    "colab_type": "code",
    "id": "_UppQGNXTue1"
   },
   "outputs": [],
   "source": [
    "from sklearn.metrics import accuracy_score"
   ]
  },
  {
   "cell_type": "code",
   "execution_count": null,
   "metadata": {
    "colab": {},
    "colab_type": "code",
    "id": "mp7NZPePTue4"
   },
   "outputs": [],
   "source": [
    "# padroniza a entrada com esse reshape\n",
    "# convert de 3d para 2d\n",
    "def _reshape(ds):\n",
    "    return ds.reshape(len(ds),-1)"
   ]
  },
  {
   "cell_type": "code",
   "execution_count": null,
   "metadata": {
    "colab": {},
    "colab_type": "code",
    "id": "leDF2vOyTue7"
   },
   "outputs": [],
   "source": [
    "x_train = _reshape(train_img)\n",
    "y_test = _reshape(test_img)"
   ]
  },
  {
   "cell_type": "markdown",
   "metadata": {
    "colab_type": "text",
    "id": "2sawx_CGTue-"
   },
   "source": [
    "#### Modelo SVM \n",
    "\n",
    "Melhor acurácia = 0.62"
   ]
  },
  {
   "cell_type": "code",
   "execution_count": null,
   "metadata": {
    "colab": {},
    "colab_type": "code",
    "id": "Vl_VhY0ZTue_"
   },
   "outputs": [],
   "source": [
    "from sklearn.svm import SVC"
   ]
  },
  {
   "cell_type": "code",
   "execution_count": null,
   "metadata": {
    "colab": {
     "base_uri": "https://localhost:8080/",
     "height": 88
    },
    "colab_type": "code",
    "id": "OQaxDzyATufB",
    "outputId": "81a6ca4e-c9a7-4b89-d887-a4e2e3f111da"
   },
   "outputs": [
    {
     "name": "stderr",
     "output_type": "stream",
     "text": [
      "/usr/local/lib/python3.6/dist-packages/sklearn/svm/base.py:196: FutureWarning: The default value of gamma will change from 'auto' to 'scale' in version 0.22 to account better for unscaled features. Set gamma explicitly to 'auto' or 'scale' to avoid this warning.\n",
      "  \"avoid this warning.\", FutureWarning)\n"
     ]
    },
    {
     "data": {
      "text/plain": [
       "0.6195"
      ]
     },
     "execution_count": 55,
     "metadata": {
      "tags": []
     },
     "output_type": "execute_result"
    }
   ],
   "source": [
    "# accuracy testada do modelo\n",
    "# 'linear' =  0.5935\n",
    "# 'poly' = 0.566\n",
    "# 'rbf' = 0.6195\n",
    "# 'sigmoid' = 0.5885\n",
    "\n",
    "model_svm = SVC(kernel='rbf')\n",
    "model_svm.fit(x_train, train_label)\n",
    "\n",
    "predicted = model_svm.predict(y_test)\n",
    "accuracy_score(test_label, predicted)"
   ]
  },
  {
   "cell_type": "markdown",
   "metadata": {
    "colab_type": "text",
    "id": "97uzDqSLTufE"
   },
   "source": [
    "#### Regressão Logistica\n",
    "\n",
    "Melhor acurácia = 0.597 com 'sag'"
   ]
  },
  {
   "cell_type": "code",
   "execution_count": null,
   "metadata": {
    "colab": {},
    "colab_type": "code",
    "id": "-YYTuzSPTufE"
   },
   "outputs": [],
   "source": [
    "from sklearn.linear_model import LogisticRegression"
   ]
  },
  {
   "cell_type": "code",
   "execution_count": null,
   "metadata": {
    "colab": {},
    "colab_type": "code",
    "id": "hEs42voXTufI"
   },
   "outputs": [],
   "source": [
    "model_log = LogisticRegression(solver='sag')"
   ]
  },
  {
   "cell_type": "code",
   "execution_count": null,
   "metadata": {
    "colab": {
     "base_uri": "https://localhost:8080/",
     "height": 88
    },
    "colab_type": "code",
    "id": "HS7ptmXLTufM",
    "outputId": "72d5365e-56f0-4e17-8df3-c53c2faab893"
   },
   "outputs": [
    {
     "name": "stderr",
     "output_type": "stream",
     "text": [
      "/usr/local/lib/python3.6/dist-packages/sklearn/linear_model/sag.py:334: ConvergenceWarning: The max_iter was reached which means the coef_ did not converge\n",
      "  \"the coef_ did not converge\", ConvergenceWarning)\n"
     ]
    },
    {
     "data": {
      "text/plain": [
       "0.597"
      ]
     },
     "execution_count": 58,
     "metadata": {
      "tags": []
     },
     "output_type": "execute_result"
    }
   ],
   "source": [
    "model_log.fit(x_train, train_label)\n",
    "pred_log1 = model_log.predict(y_test)\n",
    "accuracy_score(test_label, pred_log1)"
   ]
  },
  {
   "cell_type": "markdown",
   "metadata": {
    "colab_type": "text",
    "id": "Z_WOT8UHTufP"
   },
   "source": [
    "#### Floresta aleatória (Random Florest)\n",
    "\n",
    "Melhor acurácia = 0.575"
   ]
  },
  {
   "cell_type": "code",
   "execution_count": null,
   "metadata": {
    "colab": {},
    "colab_type": "code",
    "id": "QiP2F8_nTufQ"
   },
   "outputs": [],
   "source": [
    "from sklearn.ensemble import RandomForestClassifier"
   ]
  },
  {
   "cell_type": "code",
   "execution_count": null,
   "metadata": {
    "colab": {},
    "colab_type": "code",
    "id": "moUZTkRBTufS"
   },
   "outputs": [],
   "source": [
    "model_rd = RandomForestClassifier()"
   ]
  },
  {
   "cell_type": "code",
   "execution_count": null,
   "metadata": {
    "colab": {
     "base_uri": "https://localhost:8080/",
     "height": 88
    },
    "colab_type": "code",
    "id": "Z_vwHN49TufW",
    "outputId": "981c986d-9344-44e8-aa75-b95dc46f5e0c"
   },
   "outputs": [
    {
     "name": "stderr",
     "output_type": "stream",
     "text": [
      "/usr/local/lib/python3.6/dist-packages/sklearn/ensemble/forest.py:246: FutureWarning: The default value of n_estimators will change from 10 in version 0.20 to 100 in 0.22.\n",
      "  \"10 in version 0.20 to 100 in 0.22.\", FutureWarning)\n"
     ]
    },
    {
     "data": {
      "text/plain": [
       "0.575"
      ]
     },
     "execution_count": 61,
     "metadata": {
      "tags": []
     },
     "output_type": "execute_result"
    }
   ],
   "source": [
    "model_rd.fit(x_train, train_label)\n",
    "pred_rd = model_rd.predict(y_test)\n",
    "accuracy_score(test_label, pred_rd)"
   ]
  },
  {
   "cell_type": "markdown",
   "metadata": {
    "colab_type": "text",
    "id": "k6CpE7INTufZ"
   },
   "source": [
    "#### Naives Bayes\n",
    "\n",
    "Melhor acurácia = 0.575"
   ]
  },
  {
   "cell_type": "code",
   "execution_count": null,
   "metadata": {
    "colab": {},
    "colab_type": "code",
    "id": "pWKDzdi8Tufb"
   },
   "outputs": [],
   "source": [
    "from sklearn.naive_bayes import GaussianNB"
   ]
  },
  {
   "cell_type": "code",
   "execution_count": null,
   "metadata": {
    "colab": {},
    "colab_type": "code",
    "id": "vyttU4QMTufe"
   },
   "outputs": [],
   "source": [
    "model_nb = GaussianNB()"
   ]
  },
  {
   "cell_type": "code",
   "execution_count": null,
   "metadata": {
    "colab": {
     "base_uri": "https://localhost:8080/",
     "height": 34
    },
    "colab_type": "code",
    "id": "AK5wvvJrTufh",
    "outputId": "a4a99a73-faa0-4b43-f148-adc82071f89b"
   },
   "outputs": [
    {
     "data": {
      "text/plain": [
       "0.575"
      ]
     },
     "execution_count": 64,
     "metadata": {
      "tags": []
     },
     "output_type": "execute_result"
    }
   ],
   "source": [
    "model_nb.fit(x_train, train_label)\n",
    "pred_nb = model_rd.predict(y_test)\n",
    "accuracy_score(test_label, pred_nb)"
   ]
  },
  {
   "cell_type": "markdown",
   "metadata": {
    "colab_type": "text",
    "id": "kAnIP3Y3Tufm"
   },
   "source": [
    "#### K-Nearest Neighbors (KNN)\n",
    "\n",
    "Melhor acurácia = 0.582"
   ]
  },
  {
   "cell_type": "code",
   "execution_count": null,
   "metadata": {
    "colab": {},
    "colab_type": "code",
    "id": "hkQcRs9_Tufn"
   },
   "outputs": [],
   "source": [
    "from sklearn.neighbors import KNeighborsClassifier"
   ]
  },
  {
   "cell_type": "code",
   "execution_count": null,
   "metadata": {
    "colab": {},
    "colab_type": "code",
    "id": "H1khD8ZBTufp"
   },
   "outputs": [],
   "source": [
    "model_knn = KNeighborsClassifier()"
   ]
  },
  {
   "cell_type": "code",
   "execution_count": null,
   "metadata": {
    "colab": {
     "base_uri": "https://localhost:8080/",
     "height": 34
    },
    "colab_type": "code",
    "id": "j8rgx2M8Tufs",
    "outputId": "72ef6775-2025-4128-c9c6-1a2899285041"
   },
   "outputs": [
    {
     "data": {
      "text/plain": [
       "0.5825"
      ]
     },
     "execution_count": 67,
     "metadata": {
      "tags": []
     },
     "output_type": "execute_result"
    }
   ],
   "source": [
    "model_knn.fit(x_train, train_label)\n",
    "pred_knn = model_knn.predict(y_test)\n",
    "accuracy_score(test_label, pred_knn)"
   ]
  },
  {
   "cell_type": "code",
   "execution_count": null,
   "metadata": {
    "colab": {},
    "colab_type": "code",
    "id": "1ZcYiV0kTufv"
   },
   "outputs": [],
   "source": []
  }
 ],
 "metadata": {
  "accelerator": "GPU",
  "colab": {
   "collapsed_sections": [
    "ufaOoMcpTue1"
   ],
   "name": "tf_classifica_gatos_cachorros.ipynb",
   "provenance": [],
   "toc_visible": true,
   "version": "0.3.2"
  },
  "kernelspec": {
   "display_name": "Python 3",
   "language": "python",
   "name": "python3"
  },
  "language_info": {
   "codemirror_mode": {
    "name": "ipython",
    "version": 3
   },
   "file_extension": ".py",
   "mimetype": "text/x-python",
   "name": "python",
   "nbconvert_exporter": "python",
   "pygments_lexer": "ipython3",
   "version": "3.7.4"
  }
 },
 "nbformat": 4,
 "nbformat_minor": 4
}
