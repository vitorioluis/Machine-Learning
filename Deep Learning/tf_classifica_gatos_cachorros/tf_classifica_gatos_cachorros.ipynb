{
 "cells": [
  {
   "cell_type": "code",
   "execution_count": 1,
   "metadata": {
    "colab": {},
    "colab_type": "code",
    "id": "GcmkZiCGTudP"
   },
   "outputs": [],
   "source": [
    "import cv2\n",
    "import os\n",
    "import numpy as np\n",
    "import matplotlib.pyplot as plt\n",
    "from glob import glob\n",
    "import zipfile\n",
    "from datetime import datetime\n",
    "\n",
    "#%matplotlib inline"
   ]
  },
  {
   "cell_type": "markdown",
   "metadata": {
    "colab_type": "text",
    "id": "Cf9mjrHiTudX"
   },
   "source": [
    "### Importar e tratar os dados LOCAIS"
   ]
  },
  {
   "cell_type": "code",
   "execution_count": 2,
   "metadata": {
    "colab": {},
    "colab_type": "code",
    "id": "lGxmBmqITudY"
   },
   "outputs": [],
   "source": [
    "# lista arquivos por formato\n",
    "def filtrar_arquivo(tipo):\n",
    "    path = './'\n",
    "    lst_arq = os.listdir(path) # listando novamente o diretório para verificar arquivos csv\n",
    "    return [arq for arq in lst_arq if arq[-3:] == tipo]\n",
    "\n",
    "# Separa arquivo zip caso haja outros tipos de arquivo na pasta\n",
    "lst_zip = filtrar_arquivo('zip')\n",
    "\n",
    "# extrair arquivos do zip para trabalhar\n",
    "for zp in lst_zip:\n",
    "    fzp = zipfile.ZipFile(zp)\n",
    "    fzp.extractall('./') \n",
    "    fzp.close()"
   ]
  },
  {
   "cell_type": "markdown",
   "metadata": {
    "colab_type": "text",
    "id": "Cf9mjrHiTudX"
   },
   "source": [
    "### Importar e tratar os dados no GOOGLE COLAB"
   ]
  },
  {
   "cell_type": "code",
   "execution_count": null,
   "metadata": {},
   "outputs": [],
   "source": [
    "#  montar google driver\n",
    "from google.colab import drive\n",
    "drive.mount('/content/drive/')\n",
    "\n",
    "# extrai do Zip os csv's\n",
    "fzp = zipfile.ZipFile('/content/drive/My Drive/Colab Notebooks/cats_dogs/dataset.zip')\n",
    "fzp.extractall('.') \n",
    "fzp.close()"
   ]
  },
  {
   "cell_type": "code",
   "execution_count": 4,
   "metadata": {
    "colab": {},
    "colab_type": "code",
    "id": "tuG-KPZtTudd"
   },
   "outputs": [],
   "source": [
    "# dog = 0\n",
    "# cat = 1\n",
    "class_name = ['dog','cat']\n",
    "\n",
    "dir_img_train = 'dataset/train/*.jpg'\n",
    "dir_img_test = 'dataset/test/*.jpg'"
   ]
  },
  {
   "cell_type": "code",
   "execution_count": 5,
   "metadata": {
    "colab": {},
    "colab_type": "code",
    "id": "kcyfLehOTudg"
   },
   "outputs": [],
   "source": [
    "def convert_img_array(lst):\n",
    "    \"\"\"\n",
    "    lista diretorios com imagens e convertem array\n",
    "    \n",
    "    \"\"\"\n",
    "    lst_img, lst_label=[],[]\n",
    "    for d in glob(lst):\n",
    "        lst_img.append(cv2.imread(d))\n",
    "        if 'dog' in d:\n",
    "            lst_label.append(0)\n",
    "        elif 'cat' in d:\n",
    "            lst_label.append(1)\n",
    "    return np.array(lst_img), np.array(lst_label)"
   ]
  },
  {
   "cell_type": "code",
   "execution_count": 6,
   "metadata": {
    "colab": {},
    "colab_type": "code",
    "id": "2iY1BAlBTudj"
   },
   "outputs": [],
   "source": [
    "# gerando dados de trainos e test\n",
    "x_train, y_train = convert_img_array(dir_img_train)\n",
    "x_test, y_test = convert_img_array(dir_img_test)"
   ]
  },
  {
   "cell_type": "code",
   "execution_count": 7,
   "metadata": {
    "colab": {
     "base_uri": "https://localhost:8080/",
     "height": 34
    },
    "colab_type": "code",
    "id": "AYJi5IEKTudm",
    "outputId": "543d7eb6-edcb-428b-e781-876953af2f1c"
   },
   "outputs": [
    {
     "data": {
      "text/plain": [
       "(8000, 32, 32, 3)"
      ]
     },
     "execution_count": 7,
     "metadata": {},
     "output_type": "execute_result"
    }
   ],
   "source": [
    "x_train.shape"
   ]
  },
  {
   "cell_type": "code",
   "execution_count": 8,
   "metadata": {
    "colab": {
     "base_uri": "https://localhost:8080/",
     "height": 34
    },
    "colab_type": "code",
    "id": "8zwFpJnLTuds",
    "outputId": "47733eb8-1ada-45bd-e00f-80e1020c8072"
   },
   "outputs": [
    {
     "data": {
      "text/plain": [
       "(2000,)"
      ]
     },
     "execution_count": 8,
     "metadata": {},
     "output_type": "execute_result"
    }
   ],
   "source": [
    "y_test.shape"
   ]
  },
  {
   "cell_type": "code",
   "execution_count": 9,
   "metadata": {
    "colab": {
     "base_uri": "https://localhost:8080/",
     "height": 34
    },
    "colab_type": "code",
    "id": "yfju4SLZTudv",
    "outputId": "6720fd71-3897-4449-947c-33619d750978"
   },
   "outputs": [
    {
     "data": {
      "text/plain": [
       "(8000, 32, 32, 3)"
      ]
     },
     "execution_count": 9,
     "metadata": {},
     "output_type": "execute_result"
    }
   ],
   "source": [
    "x_train.shape"
   ]
  },
  {
   "cell_type": "code",
   "execution_count": 10,
   "metadata": {
    "colab": {
     "base_uri": "https://localhost:8080/",
     "height": 34
    },
    "colab_type": "code",
    "id": "IH1DZOGLTudz",
    "outputId": "9fc52058-9ac0-4986-de6c-062b09306003"
   },
   "outputs": [
    {
     "data": {
      "text/plain": [
       "(8000,)"
      ]
     },
     "execution_count": 10,
     "metadata": {},
     "output_type": "execute_result"
    }
   ],
   "source": [
    "y_train.shape"
   ]
  },
  {
   "cell_type": "markdown",
   "metadata": {
    "colab_type": "text",
    "id": "ujo5wUFxTud8"
   },
   "source": [
    "### Classificação com Keras\n",
    "\n",
    "Melhor acurácia utilizando optimizer('sgd') = 0.7505"
   ]
  },
  {
   "cell_type": "code",
   "execution_count": 12,
   "metadata": {
    "colab": {
     "base_uri": "https://localhost:8080/",
     "height": 34
    },
    "colab_type": "code",
    "id": "kMLDQrloTud9",
    "outputId": "8fcd8520-4074-4e10-86de-ba5d96d82c52"
   },
   "outputs": [
    {
     "name": "stdout",
     "output_type": "stream",
     "text": [
      "1.14.0\n"
     ]
    }
   ],
   "source": [
    "# TensorFlow e tf.keras\n",
    "import tensorflow as tf\n",
    "from tensorflow.keras import losses\n",
    "from tensorflow.keras import Sequential\n",
    "from tensorflow.keras.layers import Conv2D\n",
    "from tensorflow.keras.layers import MaxPooling2D\n",
    "from tensorflow.keras.layers import Flatten\n",
    "from tensorflow.keras.layers import Dense\n",
    "from tensorflow.keras.layers import Dropout\n",
    "\n",
    "from tensorflow.python.keras.callbacks import EarlyStopping, ReduceLROnPlateau\n",
    "\n",
    "print(tf.__version__)\n",
    "\n",
    "#!pip install -U --ignore-installed tensorboardcolab"
   ]
  },
  {
   "cell_type": "code",
   "execution_count": 13,
   "metadata": {
    "colab": {},
    "colab_type": "code",
    "id": "YmSgXYQrTud3"
   },
   "outputs": [],
   "source": [
    "# Normaliza os valores dos pixels\n",
    "x_train = x_train.astype('float32')\n",
    "x_test = x_test.astype('float32')\n",
    "\n",
    "# escalar as imagens para que o valor esteja entre 0 e 1\n",
    "x_train /= 255.0\n",
    "x_test /= 255.0"
   ]
  },
  {
   "cell_type": "code",
   "execution_count": 26,
   "metadata": {
    "colab": {
     "base_uri": "https://localhost:8080/",
     "height": 107
    },
    "colab_type": "code",
    "id": "5LgK7Un4TueA",
    "outputId": "24a0fae2-7fb5-4f21-e662-86e3650105f0"
   },
   "outputs": [],
   "source": [
    "# criar o modelo\n",
    "#model = keras.Sequential([\n",
    "#    keras.layers.Flatten(input_shape = (32, 32, 3)),\n",
    "#    keras.layers.Dense(128, activation = tf.nn.relu),\n",
    "#    keras.layers.Dense(128, activation = tf.nn.relu),\n",
    "#    keras.layers.Dense(128, activation = tf.nn.relu),\n",
    "#    keras.layers.Dense(2, activation = tf.nn.softmax)\n",
    "#])\n",
    "\n",
    "# Estanciar Modelo\n",
    "model = Sequential()\n",
    "\n",
    "# Camada de Convolução\n",
    "model.add(Conv2D(32,(5,5),padding='same', input_shape = (32, 32, 3), activation=tf.nn.relu))\n",
    "model.add(Conv2D(64,(5,5),padding='same', activation=tf.nn.relu))\n",
    "\n",
    "# Camada de Polling\n",
    "model.add(MaxPooling2D(pool_size=(2,2)))\n",
    "\n",
    "# camada de Dropout\n",
    "model.add(Dropout(0,25))\n",
    "\n",
    "# Flattening\n",
    "model.add(Flatten())\n",
    "\n",
    "# Full conection\n",
    "model.add(Dense(512, activation = tf.nn.relu))\n",
    "\n",
    "# camada de Dropout\n",
    "model.add(Dropout(0.5))\n",
    "\n",
    "model.add(Dense(2, activation = tf.nn.softmax))\n"
   ]
  },
  {
   "cell_type": "code",
   "execution_count": 27,
   "metadata": {
    "colab": {},
    "colab_type": "code",
    "id": "G5qn1RasTueD"
   },
   "outputs": [
    {
     "name": "stdout",
     "output_type": "stream",
     "text": [
      "Model: \"sequential_3\"\n",
      "_________________________________________________________________\n",
      "Layer (type)                 Output Shape              Param #   \n",
      "=================================================================\n",
      "conv2d_4 (Conv2D)            (None, 32, 32, 32)        2432      \n",
      "_________________________________________________________________\n",
      "conv2d_5 (Conv2D)            (None, 32, 32, 64)        51264     \n",
      "_________________________________________________________________\n",
      "max_pooling2d_3 (MaxPooling2 (None, 16, 16, 64)        0         \n",
      "_________________________________________________________________\n",
      "dropout_6 (Dropout)          (None, 16, 16, 64)        0         \n",
      "_________________________________________________________________\n",
      "flatten_3 (Flatten)          (None, 16384)             0         \n",
      "_________________________________________________________________\n",
      "dense_6 (Dense)              (None, 512)               8389120   \n",
      "_________________________________________________________________\n",
      "dropout_7 (Dropout)          (None, 512)               0         \n",
      "_________________________________________________________________\n",
      "dense_7 (Dense)              (None, 2)                 1026      \n",
      "=================================================================\n",
      "Total params: 8,443,842\n",
      "Trainable params: 8,443,842\n",
      "Non-trainable params: 0\n",
      "_________________________________________________________________\n"
     ]
    }
   ],
   "source": [
    "model.summary()\n",
    "\n",
    "# compilar modelo\n",
    "model.compile(optimizer='sgd', \n",
    "              loss=losses.sparse_categorical_crossentropy,\n",
    "              metrics=['accuracy']\n",
    "             )"
   ]
  },
  {
   "cell_type": "code",
   "execution_count": 28,
   "metadata": {
    "colab": {
     "base_uri": "https://localhost:8080/",
     "height": 1000
    },
    "colab_type": "code",
    "id": "-dLiKHuMTueH",
    "outputId": "1ab688f2-5089-4b48-cc08-156aedc38023"
   },
   "outputs": [
    {
     "name": "stdout",
     "output_type": "stream",
     "text": [
      "Train on 6400 samples, validate on 1600 samples\n",
      "Epoch 1/1000\n",
      "6400/6400 [==============================] - 31s 5ms/sample - loss: 0.6616 - acc: 0.6183 - val_loss: 0.9729 - val_acc: 0.0000e+00\n",
      "Epoch 2/1000\n",
      "6400/6400 [==============================] - 33s 5ms/sample - loss: 0.6492 - acc: 0.6206 - val_loss: 0.9697 - val_acc: 0.0019\n",
      "Epoch 3/1000\n",
      "6400/6400 [==============================] - 34s 5ms/sample - loss: 0.6408 - acc: 0.6281 - val_loss: 0.7616 - val_acc: 0.3219\n",
      "Epoch 4/1000\n",
      "6400/6400 [==============================] - 34s 5ms/sample - loss: 0.6302 - acc: 0.6375 - val_loss: 1.1090 - val_acc: 0.0019\n",
      "Epoch 5/1000\n",
      "6400/6400 [==============================] - 36s 6ms/sample - loss: 0.6187 - acc: 0.6536 - val_loss: 0.8888 - val_acc: 0.2094\n",
      "Epoch 6/1000\n",
      "6400/6400 [==============================] - 38s 6ms/sample - loss: 0.6044 - acc: 0.6761 - val_loss: 0.6776 - val_acc: 0.6075\n",
      "Epoch 7/1000\n",
      "6400/6400 [==============================] - 39s 6ms/sample - loss: 0.5946 - acc: 0.6845 - val_loss: 0.8730 - val_acc: 0.3338\n",
      "Epoch 8/1000\n",
      "6400/6400 [==============================] - 36s 6ms/sample - loss: 0.5843 - acc: 0.6948 - val_loss: 1.0695 - val_acc: 0.1969\n",
      "Epoch 9/1000\n",
      "6400/6400 [==============================] - 37s 6ms/sample - loss: 0.5704 - acc: 0.7094 - val_loss: 1.0772 - val_acc: 0.2062\n",
      "Epoch 10/1000\n",
      "6400/6400 [==============================] - 37s 6ms/sample - loss: 0.5638 - acc: 0.7105 - val_loss: 0.9815 - val_acc: 0.3150\n",
      "Epoch 11/1000\n",
      "6368/6400 [============================>.] - ETA: 0s - loss: 0.5543 - acc: 0.7184\n",
      "Epoch 00011: ReduceLROnPlateau reducing learning rate to 0.004999999888241291.\n",
      "6400/6400 [==============================] - 36s 6ms/sample - loss: 0.5544 - acc: 0.7188 - val_loss: 0.8475 - val_acc: 0.4681\n",
      "Epoch 12/1000\n",
      "6400/6400 [==============================] - 35s 6ms/sample - loss: 0.5390 - acc: 0.7355 - val_loss: 0.8373 - val_acc: 0.4775\n",
      "Epoch 13/1000\n",
      "6400/6400 [==============================] - 37s 6ms/sample - loss: 0.5304 - acc: 0.7403 - val_loss: 0.8226 - val_acc: 0.4888\n",
      "Epoch 14/1000\n",
      "6400/6400 [==============================] - 38s 6ms/sample - loss: 0.5258 - acc: 0.7466 - val_loss: 0.6589 - val_acc: 0.6400\n",
      "Epoch 15/1000\n",
      "6400/6400 [==============================] - 37s 6ms/sample - loss: 0.5202 - acc: 0.7475 - val_loss: 0.9289 - val_acc: 0.4200\n",
      "Epoch 16/1000\n",
      "6400/6400 [==============================] - 36s 6ms/sample - loss: 0.5171 - acc: 0.7478 - val_loss: 0.7277 - val_acc: 0.5756\n",
      "Epoch 17/1000\n",
      "6400/6400 [==============================] - 37s 6ms/sample - loss: 0.5081 - acc: 0.7561 - val_loss: 0.8785 - val_acc: 0.4675\n",
      "Epoch 18/1000\n",
      "6400/6400 [==============================] - 37s 6ms/sample - loss: 0.5031 - acc: 0.7567 - val_loss: 1.0392 - val_acc: 0.3650\n",
      "Epoch 19/1000\n",
      "6400/6400 [==============================] - 36s 6ms/sample - loss: 0.4977 - acc: 0.7628 - val_loss: 0.6241 - val_acc: 0.6725\n",
      "Epoch 20/1000\n",
      "6400/6400 [==============================] - 36s 6ms/sample - loss: 0.4930 - acc: 0.7664 - val_loss: 0.8176 - val_acc: 0.5163\n",
      "Epoch 21/1000\n",
      "6400/6400 [==============================] - 37s 6ms/sample - loss: 0.4878 - acc: 0.7688 - val_loss: 1.0583 - val_acc: 0.3456\n",
      "Epoch 22/1000\n",
      "6400/6400 [==============================] - 38s 6ms/sample - loss: 0.4787 - acc: 0.7766 - val_loss: 0.8613 - val_acc: 0.5006\n",
      "Epoch 23/1000\n",
      "6400/6400 [==============================] - 38s 6ms/sample - loss: 0.4713 - acc: 0.7808 - val_loss: 1.0039 - val_acc: 0.4119\n",
      "Epoch 24/1000\n",
      "6368/6400 [============================>.] - ETA: 0s - loss: 0.4662 - acc: 0.7800- ETA: 5s\n",
      "Epoch 00024: ReduceLROnPlateau reducing learning rate to 0.0024999999441206455.\n",
      "6400/6400 [==============================] - 36s 6ms/sample - loss: 0.4657 - acc: 0.7800 - val_loss: 1.1565 - val_acc: 0.3262\n",
      "Epoch 25/1000\n",
      "6400/6400 [==============================] - 36s 6ms/sample - loss: 0.4497 - acc: 0.7919 - val_loss: 0.8328 - val_acc: 0.5350\n",
      "Epoch 26/1000\n",
      "6400/6400 [==============================] - 36s 6ms/sample - loss: 0.4461 - acc: 0.7934 - val_loss: 0.6786 - val_acc: 0.6319\n",
      "Epoch 27/1000\n",
      "6400/6400 [==============================] - 36s 6ms/sample - loss: 0.4431 - acc: 0.7970 - val_loss: 0.6790 - val_acc: 0.6263\n",
      "Epoch 28/1000\n",
      "6400/6400 [==============================] - 36s 6ms/sample - loss: 0.4370 - acc: 0.8014 - val_loss: 0.7037 - val_acc: 0.6194\n",
      "Epoch 29/1000\n",
      "6368/6400 [============================>.] - ETA: 0s - loss: 0.4357 - acc: 0.8034\n",
      "Epoch 00029: ReduceLROnPlateau reducing learning rate to 0.0012499999720603228.\n",
      "6400/6400 [==============================] - 35s 6ms/sample - loss: 0.4357 - acc: 0.8031 - val_loss: 0.8392 - val_acc: 0.5200\n",
      "\n",
      "Tempo decorrido para treinar o modelo:  0:17:30.808835\n"
     ]
    }
   ],
   "source": [
    "# treinar modelo\n",
    "start = datetime.now()\n",
    "\n",
    "learning_rate_reduction = ReduceLROnPlateau(monitor='val_acc', \n",
    "                                            patience=5, \n",
    "                                            verbose=1, \n",
    "                                            factor=0.5, \n",
    "                                            min_lr=0.00001)\n",
    "earlystop = EarlyStopping(patience=10)\n",
    "callbacks = [learning_rate_reduction, earlystop]\n",
    "\n",
    "\n",
    "treino = model.fit(x_train, y_train,\n",
    "          batch_size = 32,\n",
    "          epochs = 1000,\n",
    "          validation_split=0.2,\n",
    "          verbose = 1,\n",
    "          callbacks=callbacks)\n",
    "\n",
    "\n",
    "print('')\n",
    "print('Tempo decorrido para treinar o modelo: ', datetime.now() - start)"
   ]
  },
  {
   "cell_type": "code",
   "execution_count": 29,
   "metadata": {
    "colab": {
     "base_uri": "https://localhost:8080/",
     "height": 70
    },
    "colab_type": "code",
    "id": "JRf6K5_WTueV",
    "outputId": "5c17d250-6138-4754-b669-83a53ab1c7c8"
   },
   "outputs": [
    {
     "name": "stdout",
     "output_type": "stream",
     "text": [
      "2000/2000 [==============================] - 2s 841us/sample - loss: 0.5801 - acc: 0.7075\n",
      "Acurácia: 0.7075\n",
      "Perda: 0.5801366860866547\n"
     ]
    }
   ],
   "source": [
    "# Eficiência do modelo\n",
    "test_loss, test_acc = model.evaluate(x_test, y_test)\n",
    "print('Acurácia:', test_acc)\n",
    "print('Perda:', test_loss)"
   ]
  },
  {
   "cell_type": "code",
   "execution_count": 22,
   "metadata": {
    "colab": {
     "base_uri": "https://localhost:8080/",
     "height": 454
    },
    "colab_type": "code",
    "id": "nYbzc22LbWyA",
    "outputId": "f30d3257-cb21-4c99-847c-c49ad693dc8a"
   },
   "outputs": [
    {
     "data": {
      "image/png": "[encoded data removed]",
      "text/plain": [
       "<Figure size 640x480 with 1 Axes>"
      ]
     },
     "metadata": {},
     "output_type": "display_data"
    }
   ],
   "source": [
    "history_dict = treino.history\n",
    "acc = history_dict['acc']\n",
    "val_acc = history_dict['val_acc']\n",
    "range_epochs = range(1, len(acc) + 1)\n",
    "\n",
    "\n",
    "plt.style.use('default')\n",
    "accuracy_val = plt.plot(range_epochs, val_acc, label='Acurácia no conjunto de validação')\n",
    "accuracy_train = plt.plot(range_epochs, acc, label='Acurácia no conjunto de treino', color=\"r\")\n",
    "plt.setp(accuracy_val, linewidth=2.0)\n",
    "plt.setp(accuracy_train, linewidth=2.0)\n",
    "plt.xlabel('Épocas') \n",
    "plt.ylabel('Acurácia')\n",
    "plt.legend(loc=\"lower right\")\n",
    "\n",
    "plt.show()"
   ]
  },
  {
   "cell_type": "code",
   "execution_count": 24,
   "metadata": {
    "colab": {
     "base_uri": "https://localhost:8080/",
     "height": 294
    },
    "colab_type": "code",
    "id": "NMVAgdMEefEO",
    "outputId": "cf313772-f407-4e2e-bd9b-94eaf213e65b"
   },
   "outputs": [
    {
     "name": "stderr",
     "output_type": "stream",
     "text": [
      "d:\\__venvs_projects\\venv_neural\\lib\\site-packages\\ipykernel_launcher.py:15: MatplotlibDeprecationWarning: Adding an axes using the same arguments as a previous axes currently reuses the earlier instance.  In a future version, a new instance will always be created and returned.  Meanwhile, this warning can be suppressed, and the future behavior ensured, by passing a unique label to each axes instance.\n",
      "  from ipykernel import kernelapp as app\n"
     ]
    },
    {
     "data": {
      "image/png": "[encoded data removed]",
      "text/plain": [
       "<Figure size 700x1400 with 1 Axes>"
      ]
     },
     "metadata": {},
     "output_type": "display_data"
    }
   ],
   "source": [
    "# previsoes\n",
    "predict = model.predict_classes(x_test)\n",
    "\n",
    "plt.figure(figsize=(7,14))\n",
    "\n",
    "random_num = np.random.randint(0, len(x_test))\n",
    "img = x_test[random_num]\n",
    "\n",
    "plt.subplot(6,4,1)\n",
    "\n",
    "p=predict[random_num]\n",
    "predito =  str(class_name[p])\n",
    "real = str(class_name[int(y_test[p])])\n",
    "\n",
    "plt.subplot(6,4,1)\n",
    "plt.margins(x = 20, y = 20)\n",
    "plt.title('Predição: ' + predito + '\\n'+ 'Real:'+ real)\n",
    "plt.imshow(img.reshape(32, 32,3), cmap=plt.get_cmap('gray'));\n",
    "\n",
    "plt.show()"
   ]
  },
  {
   "cell_type": "markdown",
   "metadata": {
    "colab_type": "text",
    "id": "ufaOoMcpTue1"
   },
   "source": [
    "### Classificação com Machine Learning\n",
    "\n",
    "\n",
    "\n"
   ]
  },
  {
   "cell_type": "code",
   "execution_count": null,
   "metadata": {
    "colab": {},
    "colab_type": "code",
    "id": "_UppQGNXTue1"
   },
   "outputs": [],
   "source": [
    "from sklearn.metrics import accuracy_score"
   ]
  },
  {
   "cell_type": "code",
   "execution_count": null,
   "metadata": {
    "colab": {},
    "colab_type": "code",
    "id": "mp7NZPePTue4"
   },
   "outputs": [],
   "source": [
    "# padroniza a entrada com esse reshape\n",
    "# convert de 3d para 2d\n",
    "def _reshape(ds):\n",
    "    return ds.reshape(len(ds),-1)"
   ]
  },
  {
   "cell_type": "code",
   "execution_count": null,
   "metadata": {
    "colab": {},
    "colab_type": "code",
    "id": "leDF2vOyTue7"
   },
   "outputs": [],
   "source": [
    "x_train = _reshape(x_train)\n",
    "y_test = _reshape(x_test)"
   ]
  },
  {
   "cell_type": "markdown",
   "metadata": {
    "colab_type": "text",
    "id": "2sawx_CGTue-"
   },
   "source": [
    "#### Modelo SVM \n",
    "\n",
    "Melhor acurácia = 0.62"
   ]
  },
  {
   "cell_type": "code",
   "execution_count": null,
   "metadata": {
    "colab": {},
    "colab_type": "code",
    "id": "Vl_VhY0ZTue_"
   },
   "outputs": [],
   "source": [
    "from sklearn.svm import SVC"
   ]
  },
  {
   "cell_type": "code",
   "execution_count": null,
   "metadata": {
    "colab": {
     "base_uri": "https://localhost:8080/",
     "height": 88
    },
    "colab_type": "code",
    "id": "OQaxDzyATufB",
    "outputId": "81a6ca4e-c9a7-4b89-d887-a4e2e3f111da"
   },
   "outputs": [
    {
     "name": "stderr",
     "output_type": "stream",
     "text": [
      "/usr/local/lib/python3.6/dist-packages/sklearn/svm/base.py:196: FutureWarning: The default value of gamma will change from 'auto' to 'scale' in version 0.22 to account better for unscaled features. Set gamma explicitly to 'auto' or 'scale' to avoid this warning.\n",
      "  \"avoid this warning.\", FutureWarning)\n"
     ]
    },
    {
     "data": {
      "text/plain": [
       "0.6195"
      ]
     },
     "execution_count": 55,
     "metadata": {
      "tags": []
     },
     "output_type": "execute_result"
    }
   ],
   "source": [
    "# accuracy testada do modelo\n",
    "# 'linear' =  0.5935\n",
    "# 'poly' = 0.566\n",
    "# 'rbf' = 0.6195\n",
    "# 'sigmoid' = 0.5885\n",
    "\n",
    "model_svm = SVC(kernel='rbf')\n",
    "model_svm.fit(x_train, y_train)\n",
    "\n",
    "predicted = model_svm.predict(y_test)\n",
    "accuracy_score(y_test, predicted)"
   ]
  },
  {
   "cell_type": "markdown",
   "metadata": {
    "colab_type": "text",
    "id": "97uzDqSLTufE"
   },
   "source": [
    "#### Regressão Logistica\n",
    "\n",
    "Melhor acurácia = 0.597 com 'sag'"
   ]
  },
  {
   "cell_type": "code",
   "execution_count": null,
   "metadata": {
    "colab": {},
    "colab_type": "code",
    "id": "-YYTuzSPTufE"
   },
   "outputs": [],
   "source": [
    "from sklearn.linear_model import LogisticRegression"
   ]
  },
  {
   "cell_type": "code",
   "execution_count": null,
   "metadata": {
    "colab": {},
    "colab_type": "code",
    "id": "hEs42voXTufI"
   },
   "outputs": [],
   "source": [
    "model_log = LogisticRegression(solver='sag')"
   ]
  },
  {
   "cell_type": "code",
   "execution_count": null,
   "metadata": {
    "colab": {
     "base_uri": "https://localhost:8080/",
     "height": 88
    },
    "colab_type": "code",
    "id": "HS7ptmXLTufM",
    "outputId": "72d5365e-56f0-4e17-8df3-c53c2faab893"
   },
   "outputs": [
    {
     "name": "stderr",
     "output_type": "stream",
     "text": [
      "/usr/local/lib/python3.6/dist-packages/sklearn/linear_model/sag.py:334: ConvergenceWarning: The max_iter was reached which means the coef_ did not converge\n",
      "  \"the coef_ did not converge\", ConvergenceWarning)\n"
     ]
    },
    {
     "data": {
      "text/plain": [
       "0.597"
      ]
     },
     "execution_count": 58,
     "metadata": {
      "tags": []
     },
     "output_type": "execute_result"
    }
   ],
   "source": [
    "model_log.fit(x_train, y_train)\n",
    "pred_log1 = model_log.predict(y_test)\n",
    "accuracy_score(y_test, pred_log1)"
   ]
  },
  {
   "cell_type": "markdown",
   "metadata": {
    "colab_type": "text",
    "id": "Z_WOT8UHTufP"
   },
   "source": [
    "#### Floresta aleatória (Random Florest)\n",
    "\n",
    "Melhor acurácia = 0.575"
   ]
  },
  {
   "cell_type": "code",
   "execution_count": null,
   "metadata": {
    "colab": {},
    "colab_type": "code",
    "id": "QiP2F8_nTufQ"
   },
   "outputs": [],
   "source": [
    "from sklearn.ensemble import RandomForestClassifier"
   ]
  },
  {
   "cell_type": "code",
   "execution_count": null,
   "metadata": {
    "colab": {},
    "colab_type": "code",
    "id": "moUZTkRBTufS"
   },
   "outputs": [],
   "source": [
    "model_rd = RandomForestClassifier()"
   ]
  },
  {
   "cell_type": "code",
   "execution_count": null,
   "metadata": {
    "colab": {
     "base_uri": "https://localhost:8080/",
     "height": 88
    },
    "colab_type": "code",
    "id": "Z_vwHN49TufW",
    "outputId": "981c986d-9344-44e8-aa75-b95dc46f5e0c"
   },
   "outputs": [
    {
     "name": "stderr",
     "output_type": "stream",
     "text": [
      "/usr/local/lib/python3.6/dist-packages/sklearn/ensemble/forest.py:246: FutureWarning: The default value of n_estimators will change from 10 in version 0.20 to 100 in 0.22.\n",
      "  \"10 in version 0.20 to 100 in 0.22.\", FutureWarning)\n"
     ]
    },
    {
     "data": {
      "text/plain": [
       "0.575"
      ]
     },
     "execution_count": 61,
     "metadata": {
      "tags": []
     },
     "output_type": "execute_result"
    }
   ],
   "source": [
    "model_rd.fit(x_train, y_train)\n",
    "pred_rd = model_rd.predict(y_test)\n",
    "accuracy_score(y_test, pred_rd)"
   ]
  },
  {
   "cell_type": "markdown",
   "metadata": {
    "colab_type": "text",
    "id": "k6CpE7INTufZ"
   },
   "source": [
    "#### Naives Bayes\n",
    "\n",
    "Melhor acurácia = 0.575"
   ]
  },
  {
   "cell_type": "code",
   "execution_count": null,
   "metadata": {
    "colab": {},
    "colab_type": "code",
    "id": "pWKDzdi8Tufb"
   },
   "outputs": [],
   "source": [
    "from sklearn.naive_bayes import GaussianNB"
   ]
  },
  {
   "cell_type": "code",
   "execution_count": null,
   "metadata": {
    "colab": {},
    "colab_type": "code",
    "id": "vyttU4QMTufe"
   },
   "outputs": [],
   "source": [
    "model_nb = GaussianNB()"
   ]
  },
  {
   "cell_type": "code",
   "execution_count": null,
   "metadata": {
    "colab": {
     "base_uri": "https://localhost:8080/",
     "height": 34
    },
    "colab_type": "code",
    "id": "AK5wvvJrTufh",
    "outputId": "a4a99a73-faa0-4b43-f148-adc82071f89b"
   },
   "outputs": [
    {
     "data": {
      "text/plain": [
       "0.575"
      ]
     },
     "execution_count": 64,
     "metadata": {
      "tags": []
     },
     "output_type": "execute_result"
    }
   ],
   "source": [
    "model_nb.fit(x_train, y_train)\n",
    "pred_nb = model_rd.predict(y_test)\n",
    "accuracy_score(y_test, pred_nb)"
   ]
  },
  {
   "cell_type": "markdown",
   "metadata": {
    "colab_type": "text",
    "id": "kAnIP3Y3Tufm"
   },
   "source": [
    "#### K-Nearest Neighbors (KNN)\n",
    "\n",
    "Melhor acurácia = 0.582"
   ]
  },
  {
   "cell_type": "code",
   "execution_count": null,
   "metadata": {
    "colab": {},
    "colab_type": "code",
    "id": "hkQcRs9_Tufn"
   },
   "outputs": [],
   "source": [
    "from sklearn.neighbors import KNeighborsClassifier"
   ]
  },
  {
   "cell_type": "code",
   "execution_count": null,
   "metadata": {
    "colab": {},
    "colab_type": "code",
    "id": "H1khD8ZBTufp"
   },
   "outputs": [],
   "source": [
    "model_knn = KNeighborsClassifier()"
   ]
  },
  {
   "cell_type": "code",
   "execution_count": null,
   "metadata": {
    "colab": {
     "base_uri": "https://localhost:8080/",
     "height": 34
    },
    "colab_type": "code",
    "id": "j8rgx2M8Tufs",
    "outputId": "72ef6775-2025-4128-c9c6-1a2899285041"
   },
   "outputs": [
    {
     "data": {
      "text/plain": [
       "0.5825"
      ]
     },
     "execution_count": 67,
     "metadata": {
      "tags": []
     },
     "output_type": "execute_result"
    }
   ],
   "source": [
    "model_knn.fit(x_train, y_train)\n",
    "pred_knn = model_knn.predict(y_test)\n",
    "accuracy_score(y_test, pred_knn)"
   ]
  },
  {
   "cell_type": "code",
   "execution_count": null,
   "metadata": {
    "colab": {},
    "colab_type": "code",
    "id": "1ZcYiV0kTufv"
   },
   "outputs": [],
   "source": []
  }
 ],
 "metadata": {
  "accelerator": "GPU",
  "colab": {
   "collapsed_sections": [
    "ufaOoMcpTue1"
   ],
   "name": "tf_classifica_gatos_cachorros.ipynb",
   "provenance": [],
   "toc_visible": true,
   "version": "0.3.2"
  },
  "kernelspec": {
   "display_name": "Python 3",
   "language": "python",
   "name": "python3"
  },
  "language_info": {
   "codemirror_mode": {
    "name": "ipython",
    "version": 3
   },
   "file_extension": ".py",
   "mimetype": "text/x-python",
   "name": "python",
   "nbconvert_exporter": "python",
   "pygments_lexer": "ipython3",
   "version": "3.7.4"
  }
 },
 "nbformat": 4,
 "nbformat_minor": 4
}
