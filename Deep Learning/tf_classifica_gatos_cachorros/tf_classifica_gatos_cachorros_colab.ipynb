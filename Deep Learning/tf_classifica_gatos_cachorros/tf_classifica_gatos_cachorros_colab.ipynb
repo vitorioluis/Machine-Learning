{
  "nbformat": 4,
  "nbformat_minor": 0,
  "metadata": {
    "colab": {
      "name": "tf_classifica_gatos_cachorros.ipynb",
      "version": "0.3.2",
      "provenance": [],
      "collapsed_sections": [],
      "toc_visible": true
    },
    "language_info": {
      "codemirror_mode": {
        "name": "ipython",
        "version": 3
      },
      "file_extension": ".py",
      "mimetype": "text/x-python",
      "name": "python",
      "nbconvert_exporter": "python",
      "pygments_lexer": "ipython3",
      "version": "3.6.7"
    },
    "kernelspec": {
      "name": "python3",
      "display_name": "Python 3"
    },
    "accelerator": "GPU"
  },
  "cells": [
    {
      "cell_type": "code",
      "metadata": {
        "id": "GcmkZiCGTudP",
        "colab_type": "code",
        "colab": {}
      },
      "source": [
        "import cv2\n",
        "import os\n",
        "import numpy as np\n",
        "import matplotlib as plt\n",
        "from glob import glob\n",
        "import zipfile\n",
        "from datetime import datetime\n",
        "\n",
        "%matplotlib inline"
      ],
      "execution_count": 0,
      "outputs": []
    },
    {
      "cell_type": "code",
      "metadata": {
        "id": "gVYcNzMITudU",
        "colab_type": "code",
        "outputId": "0a4bec31-b78a-442f-974a-6405d1f05f64",
        "colab": {
          "base_uri": "https://localhost:8080/",
          "height": 54
        }
      },
      "source": [
        "#  montar google driver\n",
        "from google.colab import drive\n",
        "drive.mount('/content/drive/')"
      ],
      "execution_count": 23,
      "outputs": [
        {
          "output_type": "stream",
          "text": [
            "Drive already mounted at /content/drive/; to attempt to forcibly remount, call drive.mount(\"/content/drive/\", force_remount=True).\n"
          ],
          "name": "stdout"
        }
      ]
    },
    {
      "cell_type": "markdown",
      "metadata": {
        "id": "Cf9mjrHiTudX",
        "colab_type": "text"
      },
      "source": [
        "### Importar Dados e tratar os dados"
      ]
    },
    {
      "cell_type": "code",
      "metadata": {
        "id": "lGxmBmqITudY",
        "colab_type": "code",
        "colab": {}
      },
      "source": [
        "# extrai do Zip os csv's\n",
        "fzp = zipfile.ZipFile('/content/drive/My Drive/Colab Notebooks/dataset.zip')\n",
        "fzp.extractall('.') \n",
        "fzp.close()"
      ],
      "execution_count": 0,
      "outputs": []
    },
    {
      "cell_type": "code",
      "metadata": {
        "id": "_If5TqGpTudb",
        "colab_type": "code",
        "colab": {}
      },
      "source": [
        "# dog = 0\n",
        "# cat = 1\n",
        "class_name = ['dog','cat']"
      ],
      "execution_count": 0,
      "outputs": []
    },
    {
      "cell_type": "markdown",
      "metadata": {
        "id": "hZfomzw5Ulgd",
        "colab_type": "text"
      },
      "source": [
        ""
      ]
    },
    {
      "cell_type": "code",
      "metadata": {
        "id": "tuG-KPZtTudd",
        "colab_type": "code",
        "colab": {}
      },
      "source": [
        "dir_img_train = 'dataset/train/*.jpg'\n",
        "dir_img_test = 'dataset/test/*.jpg'"
      ],
      "execution_count": 0,
      "outputs": []
    },
    {
      "cell_type": "code",
      "metadata": {
        "id": "kcyfLehOTudg",
        "colab_type": "code",
        "colab": {}
      },
      "source": [
        "def convert_img_array(lst):\n",
        "    \"\"\"\n",
        "    lista diretorios com imagens e convertem array\n",
        "    \n",
        "    \"\"\"\n",
        "    lst_img, lst_label=[],[]\n",
        "    for d in glob(lst):\n",
        "        lst_img.append(cv2.imread(d))\n",
        "        if 'dog' in d:\n",
        "            lst_label.append('0')\n",
        "        elif 'cat' in d:\n",
        "            lst_label.append('1')\n",
        "    return np.array(lst_img), np.array(lst_label)"
      ],
      "execution_count": 0,
      "outputs": []
    },
    {
      "cell_type": "code",
      "metadata": {
        "id": "2iY1BAlBTudj",
        "colab_type": "code",
        "colab": {}
      },
      "source": [
        "# gerando dados de trainos e test\n",
        "train_img, train_label = convert_img_array(dir_img_train)\n",
        "test_img, test_label = convert_img_array(dir_img_test)"
      ],
      "execution_count": 0,
      "outputs": []
    },
    {
      "cell_type": "code",
      "metadata": {
        "id": "AYJi5IEKTudm",
        "colab_type": "code",
        "outputId": "233b79ea-7cf2-44b6-96b5-34a568e30c6f",
        "colab": {
          "base_uri": "https://localhost:8080/",
          "height": 34
        }
      },
      "source": [
        "train_img.shape"
      ],
      "execution_count": 30,
      "outputs": [
        {
          "output_type": "execute_result",
          "data": {
            "text/plain": [
              "(8000, 32, 32, 3)"
            ]
          },
          "metadata": {
            "tags": []
          },
          "execution_count": 30
        }
      ]
    },
    {
      "cell_type": "code",
      "metadata": {
        "id": "8zwFpJnLTuds",
        "colab_type": "code",
        "outputId": "0891fe8b-f59b-422a-a9a0-bd0038b096f2",
        "colab": {
          "base_uri": "https://localhost:8080/",
          "height": 34
        }
      },
      "source": [
        "test_label.shape"
      ],
      "execution_count": 31,
      "outputs": [
        {
          "output_type": "execute_result",
          "data": {
            "text/plain": [
              "(2000,)"
            ]
          },
          "metadata": {
            "tags": []
          },
          "execution_count": 31
        }
      ]
    },
    {
      "cell_type": "code",
      "metadata": {
        "id": "yfju4SLZTudv",
        "colab_type": "code",
        "outputId": "0158cfea-cceb-4393-9b48-9d97906bec3a",
        "colab": {
          "base_uri": "https://localhost:8080/",
          "height": 34
        }
      },
      "source": [
        "train_img.shape"
      ],
      "execution_count": 32,
      "outputs": [
        {
          "output_type": "execute_result",
          "data": {
            "text/plain": [
              "(8000, 32, 32, 3)"
            ]
          },
          "metadata": {
            "tags": []
          },
          "execution_count": 32
        }
      ]
    },
    {
      "cell_type": "code",
      "metadata": {
        "id": "IH1DZOGLTudz",
        "colab_type": "code",
        "outputId": "3868708b-fe65-4b23-b57a-f18d54cfc7cd",
        "colab": {
          "base_uri": "https://localhost:8080/",
          "height": 34
        }
      },
      "source": [
        "train_label.shape"
      ],
      "execution_count": 33,
      "outputs": [
        {
          "output_type": "execute_result",
          "data": {
            "text/plain": [
              "(8000,)"
            ]
          },
          "metadata": {
            "tags": []
          },
          "execution_count": 33
        }
      ]
    },
    {
      "cell_type": "code",
      "metadata": {
        "id": "YmSgXYQrTud3",
        "colab_type": "code",
        "colab": {}
      },
      "source": [
        "# escalar as imagens para que o valor esteja entre 0 e 1\n",
        "train_img = train_img / 255.0\n",
        "test_img = test_img / 255.0"
      ],
      "execution_count": 0,
      "outputs": []
    },
    {
      "cell_type": "markdown",
      "metadata": {
        "id": "ujo5wUFxTud8",
        "colab_type": "text"
      },
      "source": [
        "### Classificação com Keras\n",
        "\n",
        "Melhor acurácia utilizando optimizer('sgd') = 0.7225"
      ]
    },
    {
      "cell_type": "code",
      "metadata": {
        "id": "aFk9S8f_P9cF",
        "colab_type": "code",
        "outputId": "9ee716f0-69d5-48b7-aa5f-029745bd2b28",
        "colab": {
          "base_uri": "https://localhost:8080/",
          "height": 190
        }
      },
      "source": [
        "!pip install -U --ignore-installed tensorboardcolab"
      ],
      "execution_count": 0,
      "outputs": [
        {
          "output_type": "stream",
          "text": [
            "Collecting tensorboardcolab\n",
            "  Downloading https://files.pythonhosted.org/packages/d9/28/97bf50473dc058d26188ef3aae373e56173d24c615fb419705cfffa6875d/tensorboardcolab-0.0.22.tar.gz\n",
            "Building wheels for collected packages: tensorboardcolab\n",
            "  Building wheel for tensorboardcolab (setup.py) ... \u001b[?25l\u001b[?25hdone\n",
            "  Created wheel for tensorboardcolab: filename=tensorboardcolab-0.0.22-cp36-none-any.whl size=3860 sha256=946c93a5609453a9386ff861b46a0456289d6c781d7739a84b5153684fd81acb\n",
            "  Stored in directory: /root/.cache/pip/wheels/c4/aa/a0/3aaf4f1a66adbdab9b7bdd4c96db8ada89eb7cd87200cfdd32\n",
            "Successfully built tensorboardcolab\n",
            "Installing collected packages: tensorboardcolab\n",
            "Successfully installed tensorboardcolab-0.0.22\n"
          ],
          "name": "stdout"
        }
      ]
    },
    {
      "cell_type": "code",
      "metadata": {
        "id": "kMLDQrloTud9",
        "colab_type": "code",
        "colab": {}
      },
      "source": [
        "# TensorFlow e tf.keras\n",
        "import tensorflow as tf\n",
        "from tensorflow.keras import losses\n",
        "from tensorflow.keras import Sequential\n",
        "from tensorflow.keras.layers import Conv2D\n",
        "from tensorflow.keras.layers import MaxPooling2D\n",
        "from tensorflow.keras.layers import Flatten\n",
        "from tensorflow.keras.layers import Dense\n",
        "from tensorflow.keras.layers import Dropout\n",
        "\n",
        "from keras.callbacks import ReduceLROnPlateau\n",
        "from tensorflow.keras.callbacks import EarlyStopping\n"
      ],
      "execution_count": 0,
      "outputs": []
    },
    {
      "cell_type": "code",
      "metadata": {
        "id": "5LgK7Un4TueA",
        "colab_type": "code",
        "colab": {}
      },
      "source": [
        "# Estaciar Modelo\n",
        "model = Sequential()\n",
        "\n",
        "# Camada de Convolução\n",
        "model.add(Conv2D(32,(5,5),padding='same', input_shape = (32, 32, 3), activation=tf.nn.relu))\n",
        "model.add(Conv2D(64,(5,5),padding='same', activation=tf.nn.relu))\n",
        "\n",
        "# Camada de Polling\n",
        "model.add(MaxPooling2D(pool_size=(2,2)))\n",
        "\n",
        "# camada de Dropout\n",
        "model.add(Dropout(0,25))\n",
        "\n",
        "# Flattening\n",
        "model.add(Flatten())\n",
        "\n",
        "# Full conection\n",
        "model.add(Dense(256, activation = tf.nn.relu))\n",
        "model.add(Dense(256, activation = tf.nn.relu))\n",
        "\n",
        "# camada de Dropout\n",
        "model.add(Dropout(0.5))\n",
        "\n",
        "model.add(Dense(2, activation = tf.nn.softmax))"
      ],
      "execution_count": 0,
      "outputs": []
    },
    {
      "cell_type": "code",
      "metadata": {
        "id": "G5qn1RasTueD",
        "colab_type": "code",
        "colab": {}
      },
      "source": [
        "# compilar modelo\n",
        "model.compile(optimizer='adam', \n",
        "              loss=losses.sparse_categorical_crossentropy,\n",
        "              metrics=['accuracy']\n",
        "             )"
      ],
      "execution_count": 0,
      "outputs": []
    },
    {
      "cell_type": "code",
      "metadata": {
        "id": "-dLiKHuMTueH",
        "colab_type": "code",
        "outputId": "3f8557e7-8ece-4ed5-f9fa-57bec108a509",
        "colab": {
          "base_uri": "https://localhost:8080/",
          "height": 428
        }
      },
      "source": [
        "# treinar modelo\n",
        "start = datetime.now()\n",
        "\n",
        "learning_rate_reduction = ReduceLROnPlateau(monitor='val_acc', \n",
        "                                            patience=3, \n",
        "                                            verbose=1, \n",
        "                                            factor=0.5, \n",
        "                                            min_lr=0.00001)\n",
        "\n",
        "\n",
        "treino = model.fit(train_img, \n",
        "          train_label,\n",
        "          batch_size = 32,\n",
        "          epochs = 1000,\n",
        "          validation_split=0.2,\n",
        "          verbose = 1,\n",
        "          callbacks=[learning_rate_reduction])\n",
        "\n",
        "\n",
        "\n",
        "print('')\n",
        "print('Tempo decorrido para treinar o modelo: ', datetime.now() - start)"
      ],
      "execution_count": 0,
      "outputs": [
        {
          "output_type": "stream",
          "text": [
            "Train on 6400 samples, validate on 1600 samples\n",
            "Epoch 1/1000\n"
          ],
          "name": "stdout"
        },
        {
          "output_type": "error",
          "ename": "AttributeError",
          "evalue": "ignored",
          "traceback": [
            "\u001b[0;31m---------------------------------------------------------------------------\u001b[0m",
            "\u001b[0;31mAttributeError\u001b[0m                            Traceback (most recent call last)",
            "\u001b[0;32m<ipython-input-22-39726ee70b1b>\u001b[0m in \u001b[0;36m<module>\u001b[0;34m()\u001b[0m\n\u001b[1;32m     14\u001b[0m           \u001b[0mvalidation_split\u001b[0m\u001b[0;34m=\u001b[0m\u001b[0;36m0.2\u001b[0m\u001b[0;34m,\u001b[0m\u001b[0;34m\u001b[0m\u001b[0;34m\u001b[0m\u001b[0m\n\u001b[1;32m     15\u001b[0m           \u001b[0mverbose\u001b[0m \u001b[0;34m=\u001b[0m \u001b[0;36m1\u001b[0m\u001b[0;34m,\u001b[0m\u001b[0;34m\u001b[0m\u001b[0;34m\u001b[0m\u001b[0m\n\u001b[0;32m---> 16\u001b[0;31m           callbacks=[learning_rate_reduction])\n\u001b[0m\u001b[1;32m     17\u001b[0m \u001b[0;34m\u001b[0m\u001b[0m\n\u001b[1;32m     18\u001b[0m \u001b[0;34m\u001b[0m\u001b[0m\n",
            "\u001b[0;32m/usr/local/lib/python3.6/dist-packages/tensorflow/python/keras/engine/training.py\u001b[0m in \u001b[0;36mfit\u001b[0;34m(self, x, y, batch_size, epochs, verbose, callbacks, validation_split, validation_data, shuffle, class_weight, sample_weight, initial_epoch, steps_per_epoch, validation_steps, validation_freq, max_queue_size, workers, use_multiprocessing, **kwargs)\u001b[0m\n\u001b[1;32m    778\u001b[0m           \u001b[0mvalidation_steps\u001b[0m\u001b[0;34m=\u001b[0m\u001b[0mvalidation_steps\u001b[0m\u001b[0;34m,\u001b[0m\u001b[0;34m\u001b[0m\u001b[0;34m\u001b[0m\u001b[0m\n\u001b[1;32m    779\u001b[0m           \u001b[0mvalidation_freq\u001b[0m\u001b[0;34m=\u001b[0m\u001b[0mvalidation_freq\u001b[0m\u001b[0;34m,\u001b[0m\u001b[0;34m\u001b[0m\u001b[0;34m\u001b[0m\u001b[0m\n\u001b[0;32m--> 780\u001b[0;31m           steps_name='steps_per_epoch')\n\u001b[0m\u001b[1;32m    781\u001b[0m \u001b[0;34m\u001b[0m\u001b[0m\n\u001b[1;32m    782\u001b[0m   def evaluate(self,\n",
            "\u001b[0;32m/usr/local/lib/python3.6/dist-packages/tensorflow/python/keras/engine/training_arrays.py\u001b[0m in \u001b[0;36mmodel_iteration\u001b[0;34m(model, inputs, targets, sample_weights, batch_size, epochs, verbose, callbacks, val_inputs, val_targets, val_sample_weights, shuffle, initial_epoch, steps_per_epoch, validation_steps, validation_freq, mode, validation_in_fit, prepared_feed_values_from_dataset, steps_name, **kwargs)\u001b[0m\n\u001b[1;32m    357\u001b[0m         \u001b[0;31m# Callbacks batch_begin.\u001b[0m\u001b[0;34m\u001b[0m\u001b[0;34m\u001b[0m\u001b[0;34m\u001b[0m\u001b[0m\n\u001b[1;32m    358\u001b[0m         \u001b[0mbatch_logs\u001b[0m \u001b[0;34m=\u001b[0m \u001b[0;34m{\u001b[0m\u001b[0;34m'batch'\u001b[0m\u001b[0;34m:\u001b[0m \u001b[0mbatch_index\u001b[0m\u001b[0;34m,\u001b[0m \u001b[0;34m'size'\u001b[0m\u001b[0;34m:\u001b[0m \u001b[0mlen\u001b[0m\u001b[0;34m(\u001b[0m\u001b[0mbatch_ids\u001b[0m\u001b[0;34m)\u001b[0m\u001b[0;34m}\u001b[0m\u001b[0;34m\u001b[0m\u001b[0;34m\u001b[0m\u001b[0m\n\u001b[0;32m--> 359\u001b[0;31m         \u001b[0mcallbacks\u001b[0m\u001b[0;34m.\u001b[0m\u001b[0m_call_batch_hook\u001b[0m\u001b[0;34m(\u001b[0m\u001b[0mmode\u001b[0m\u001b[0;34m,\u001b[0m \u001b[0;34m'begin'\u001b[0m\u001b[0;34m,\u001b[0m \u001b[0mbatch_index\u001b[0m\u001b[0;34m,\u001b[0m \u001b[0mbatch_logs\u001b[0m\u001b[0;34m)\u001b[0m\u001b[0;34m\u001b[0m\u001b[0;34m\u001b[0m\u001b[0m\n\u001b[0m\u001b[1;32m    360\u001b[0m         \u001b[0mprogbar\u001b[0m\u001b[0;34m.\u001b[0m\u001b[0mon_batch_begin\u001b[0m\u001b[0;34m(\u001b[0m\u001b[0mbatch_index\u001b[0m\u001b[0;34m,\u001b[0m \u001b[0mbatch_logs\u001b[0m\u001b[0;34m)\u001b[0m\u001b[0;34m\u001b[0m\u001b[0;34m\u001b[0m\u001b[0m\n\u001b[1;32m    361\u001b[0m \u001b[0;34m\u001b[0m\u001b[0m\n",
            "\u001b[0;32m/usr/local/lib/python3.6/dist-packages/tensorflow/python/keras/callbacks.py\u001b[0m in \u001b[0;36m_call_batch_hook\u001b[0;34m(self, mode, hook, batch, logs)\u001b[0m\n\u001b[1;32m    245\u001b[0m     \u001b[0mt_before_callbacks\u001b[0m \u001b[0;34m=\u001b[0m \u001b[0mtime\u001b[0m\u001b[0;34m.\u001b[0m\u001b[0mtime\u001b[0m\u001b[0;34m(\u001b[0m\u001b[0;34m)\u001b[0m\u001b[0;34m\u001b[0m\u001b[0;34m\u001b[0m\u001b[0m\n\u001b[1;32m    246\u001b[0m     \u001b[0;32mfor\u001b[0m \u001b[0mcallback\u001b[0m \u001b[0;32min\u001b[0m \u001b[0mself\u001b[0m\u001b[0;34m.\u001b[0m\u001b[0mcallbacks\u001b[0m\u001b[0;34m:\u001b[0m\u001b[0;34m\u001b[0m\u001b[0;34m\u001b[0m\u001b[0m\n\u001b[0;32m--> 247\u001b[0;31m       \u001b[0mbatch_hook\u001b[0m \u001b[0;34m=\u001b[0m \u001b[0mgetattr\u001b[0m\u001b[0;34m(\u001b[0m\u001b[0mcallback\u001b[0m\u001b[0;34m,\u001b[0m \u001b[0mhook_name\u001b[0m\u001b[0;34m)\u001b[0m\u001b[0;34m\u001b[0m\u001b[0;34m\u001b[0m\u001b[0m\n\u001b[0m\u001b[1;32m    248\u001b[0m       \u001b[0mbatch_hook\u001b[0m\u001b[0;34m(\u001b[0m\u001b[0mbatch\u001b[0m\u001b[0;34m,\u001b[0m \u001b[0mlogs\u001b[0m\u001b[0;34m)\u001b[0m\u001b[0;34m\u001b[0m\u001b[0;34m\u001b[0m\u001b[0m\n\u001b[1;32m    249\u001b[0m     \u001b[0mself\u001b[0m\u001b[0;34m.\u001b[0m\u001b[0m_delta_ts\u001b[0m\u001b[0;34m[\u001b[0m\u001b[0mhook_name\u001b[0m\u001b[0;34m]\u001b[0m\u001b[0;34m.\u001b[0m\u001b[0mappend\u001b[0m\u001b[0;34m(\u001b[0m\u001b[0mtime\u001b[0m\u001b[0;34m.\u001b[0m\u001b[0mtime\u001b[0m\u001b[0;34m(\u001b[0m\u001b[0;34m)\u001b[0m \u001b[0;34m-\u001b[0m \u001b[0mt_before_callbacks\u001b[0m\u001b[0;34m)\u001b[0m\u001b[0;34m\u001b[0m\u001b[0;34m\u001b[0m\u001b[0m\n",
            "\u001b[0;31mAttributeError\u001b[0m: 'ReduceLROnPlateau' object has no attribute 'on_train_batch_begin'"
          ]
        }
      ]
    },
    {
      "cell_type": "code",
      "metadata": {
        "id": "JRf6K5_WTueV",
        "colab_type": "code",
        "outputId": "6ef9eb0a-832e-4f16-ccd9-b6523d76aaf9",
        "colab": {
          "base_uri": "https://localhost:8080/",
          "height": 68
        }
      },
      "source": [
        "# Eficiência do modelo\n",
        "test_loss, test_acc = model.evaluate(test_img, test_label)\n",
        "print('Acurácia:', test_acc)\n",
        "print('Perda:', test_loss)"
      ],
      "execution_count": 0,
      "outputs": [
        {
          "output_type": "stream",
          "text": [
            "2000/2000 [==============================] - 0s 103us/sample - loss: 6.9231 - acc: 0.5460\n",
            "Acurácia: 0.546\n",
            "Perda: 6.923054647445679\n"
          ],
          "name": "stdout"
        }
      ]
    },
    {
      "cell_type": "code",
      "metadata": {
        "id": "kMaPpe3ZTuea",
        "colab_type": "code",
        "colab": {}
      },
      "source": [
        "# previsoes\n",
        "predict = model.predict(test_img)"
      ],
      "execution_count": 0,
      "outputs": []
    },
    {
      "cell_type": "code",
      "metadata": {
        "id": "YZ4EIizATueu",
        "colab_type": "code",
        "outputId": "38dae59d-a085-44d8-edc6-984c7514cf30",
        "colab": {
          "base_uri": "https://localhost:8080/",
          "height": 51
        }
      },
      "source": [
        "# previsão é um vetor de 2 números onde descreve a confiança que teve para cada resultado\n",
        "p = 600\n",
        "\n",
        "print('Predito:', class_name[np.argmax(predict[p])])\n",
        "print('Real:', class_name[int(test_label[p])])"
      ],
      "execution_count": 0,
      "outputs": [
        {
          "output_type": "stream",
          "text": [
            "Predito: cat\n",
            "Real: cat\n"
          ],
          "name": "stdout"
        }
      ]
    },
    {
      "cell_type": "markdown",
      "metadata": {
        "id": "ufaOoMcpTue1",
        "colab_type": "text"
      },
      "source": [
        "### Classificação com Machine Learning\n",
        "\n",
        "\n",
        "\n"
      ]
    },
    {
      "cell_type": "code",
      "metadata": {
        "id": "_UppQGNXTue1",
        "colab_type": "code",
        "colab": {}
      },
      "source": [
        "from sklearn.metrics import accuracy_score"
      ],
      "execution_count": 0,
      "outputs": []
    },
    {
      "cell_type": "code",
      "metadata": {
        "id": "mp7NZPePTue4",
        "colab_type": "code",
        "colab": {}
      },
      "source": [
        "# padroniza a entrada com esse reshape\n",
        "# convert de 3d para 2d\n",
        "def _reshape(ds):\n",
        "    return ds.reshape(len(ds),-1)"
      ],
      "execution_count": 0,
      "outputs": []
    },
    {
      "cell_type": "code",
      "metadata": {
        "id": "leDF2vOyTue7",
        "colab_type": "code",
        "colab": {}
      },
      "source": [
        "x_train = _reshape(train_img)\n",
        "y_test = _reshape(test_img)"
      ],
      "execution_count": 0,
      "outputs": []
    },
    {
      "cell_type": "markdown",
      "metadata": {
        "id": "2sawx_CGTue-",
        "colab_type": "text"
      },
      "source": [
        "#### Modelo SVM \n",
        "\n",
        "Melhor acurácia = 0.62"
      ]
    },
    {
      "cell_type": "code",
      "metadata": {
        "id": "Vl_VhY0ZTue_",
        "colab_type": "code",
        "colab": {}
      },
      "source": [
        "from sklearn.svm import SVC"
      ],
      "execution_count": 0,
      "outputs": []
    },
    {
      "cell_type": "code",
      "metadata": {
        "id": "OQaxDzyATufB",
        "colab_type": "code",
        "outputId": "81a6ca4e-c9a7-4b89-d887-a4e2e3f111da",
        "colab": {
          "base_uri": "https://localhost:8080/",
          "height": 88
        }
      },
      "source": [
        "# accuracy testada do modelo\n",
        "# 'linear' =  0.5935\n",
        "# 'poly' = 0.566\n",
        "# 'rbf' = 0.6195\n",
        "# 'sigmoid' = 0.5885\n",
        "\n",
        "model_svm = SVC(kernel='rbf')\n",
        "model_svm.fit(x_train, train_label)\n",
        "\n",
        "predicted = model_svm.predict(y_test)\n",
        "accuracy_score(test_label, predicted)"
      ],
      "execution_count": 0,
      "outputs": [
        {
          "output_type": "stream",
          "text": [
            "/usr/local/lib/python3.6/dist-packages/sklearn/svm/base.py:196: FutureWarning: The default value of gamma will change from 'auto' to 'scale' in version 0.22 to account better for unscaled features. Set gamma explicitly to 'auto' or 'scale' to avoid this warning.\n",
            "  \"avoid this warning.\", FutureWarning)\n"
          ],
          "name": "stderr"
        },
        {
          "output_type": "execute_result",
          "data": {
            "text/plain": [
              "0.6195"
            ]
          },
          "metadata": {
            "tags": []
          },
          "execution_count": 55
        }
      ]
    },
    {
      "cell_type": "markdown",
      "metadata": {
        "id": "97uzDqSLTufE",
        "colab_type": "text"
      },
      "source": [
        "#### Regressão Logistica\n",
        "\n",
        "Melhor acurácia = 0.597 com 'sag'"
      ]
    },
    {
      "cell_type": "code",
      "metadata": {
        "id": "-YYTuzSPTufE",
        "colab_type": "code",
        "colab": {}
      },
      "source": [
        "from sklearn.linear_model import LogisticRegression"
      ],
      "execution_count": 0,
      "outputs": []
    },
    {
      "cell_type": "code",
      "metadata": {
        "id": "hEs42voXTufI",
        "colab_type": "code",
        "colab": {}
      },
      "source": [
        "model_log = LogisticRegression(solver='sag')"
      ],
      "execution_count": 0,
      "outputs": []
    },
    {
      "cell_type": "code",
      "metadata": {
        "id": "HS7ptmXLTufM",
        "colab_type": "code",
        "outputId": "72d5365e-56f0-4e17-8df3-c53c2faab893",
        "colab": {
          "base_uri": "https://localhost:8080/",
          "height": 88
        }
      },
      "source": [
        "model_log.fit(x_train, train_label)\n",
        "pred_log1 = model_log.predict(y_test)\n",
        "accuracy_score(test_label, pred_log1)"
      ],
      "execution_count": 0,
      "outputs": [
        {
          "output_type": "stream",
          "text": [
            "/usr/local/lib/python3.6/dist-packages/sklearn/linear_model/sag.py:334: ConvergenceWarning: The max_iter was reached which means the coef_ did not converge\n",
            "  \"the coef_ did not converge\", ConvergenceWarning)\n"
          ],
          "name": "stderr"
        },
        {
          "output_type": "execute_result",
          "data": {
            "text/plain": [
              "0.597"
            ]
          },
          "metadata": {
            "tags": []
          },
          "execution_count": 58
        }
      ]
    },
    {
      "cell_type": "markdown",
      "metadata": {
        "id": "Z_WOT8UHTufP",
        "colab_type": "text"
      },
      "source": [
        "#### Floresta aleatória (Random Florest)\n",
        "\n",
        "Melhor acurácia = 0.575"
      ]
    },
    {
      "cell_type": "code",
      "metadata": {
        "id": "QiP2F8_nTufQ",
        "colab_type": "code",
        "colab": {}
      },
      "source": [
        "from sklearn.ensemble import RandomForestClassifier"
      ],
      "execution_count": 0,
      "outputs": []
    },
    {
      "cell_type": "code",
      "metadata": {
        "id": "moUZTkRBTufS",
        "colab_type": "code",
        "colab": {}
      },
      "source": [
        "model_rd = RandomForestClassifier()"
      ],
      "execution_count": 0,
      "outputs": []
    },
    {
      "cell_type": "code",
      "metadata": {
        "id": "Z_vwHN49TufW",
        "colab_type": "code",
        "outputId": "981c986d-9344-44e8-aa75-b95dc46f5e0c",
        "colab": {
          "base_uri": "https://localhost:8080/",
          "height": 88
        }
      },
      "source": [
        "model_rd.fit(x_train, train_label)\n",
        "pred_rd = model_rd.predict(y_test)\n",
        "accuracy_score(test_label, pred_rd)"
      ],
      "execution_count": 0,
      "outputs": [
        {
          "output_type": "stream",
          "text": [
            "/usr/local/lib/python3.6/dist-packages/sklearn/ensemble/forest.py:246: FutureWarning: The default value of n_estimators will change from 10 in version 0.20 to 100 in 0.22.\n",
            "  \"10 in version 0.20 to 100 in 0.22.\", FutureWarning)\n"
          ],
          "name": "stderr"
        },
        {
          "output_type": "execute_result",
          "data": {
            "text/plain": [
              "0.575"
            ]
          },
          "metadata": {
            "tags": []
          },
          "execution_count": 61
        }
      ]
    },
    {
      "cell_type": "markdown",
      "metadata": {
        "id": "k6CpE7INTufZ",
        "colab_type": "text"
      },
      "source": [
        "#### Naives Bayes\n",
        "\n",
        "Melhor acurácia = 0.575"
      ]
    },
    {
      "cell_type": "code",
      "metadata": {
        "id": "pWKDzdi8Tufb",
        "colab_type": "code",
        "colab": {}
      },
      "source": [
        "from sklearn.naive_bayes import GaussianNB"
      ],
      "execution_count": 0,
      "outputs": []
    },
    {
      "cell_type": "code",
      "metadata": {
        "id": "vyttU4QMTufe",
        "colab_type": "code",
        "colab": {}
      },
      "source": [
        "model_nb = GaussianNB()"
      ],
      "execution_count": 0,
      "outputs": []
    },
    {
      "cell_type": "code",
      "metadata": {
        "id": "AK5wvvJrTufh",
        "colab_type": "code",
        "outputId": "a4a99a73-faa0-4b43-f148-adc82071f89b",
        "colab": {
          "base_uri": "https://localhost:8080/",
          "height": 34
        }
      },
      "source": [
        "model_nb.fit(x_train, train_label)\n",
        "pred_nb = model_rd.predict(y_test)\n",
        "accuracy_score(test_label, pred_nb)"
      ],
      "execution_count": 0,
      "outputs": [
        {
          "output_type": "execute_result",
          "data": {
            "text/plain": [
              "0.575"
            ]
          },
          "metadata": {
            "tags": []
          },
          "execution_count": 64
        }
      ]
    },
    {
      "cell_type": "markdown",
      "metadata": {
        "id": "kAnIP3Y3Tufm",
        "colab_type": "text"
      },
      "source": [
        "#### K-Nearest Neighbors (KNN)\n",
        "\n",
        "Melhor acurácia = 0.582"
      ]
    },
    {
      "cell_type": "code",
      "metadata": {
        "id": "hkQcRs9_Tufn",
        "colab_type": "code",
        "colab": {}
      },
      "source": [
        "from sklearn.neighbors import KNeighborsClassifier"
      ],
      "execution_count": 0,
      "outputs": []
    },
    {
      "cell_type": "code",
      "metadata": {
        "id": "H1khD8ZBTufp",
        "colab_type": "code",
        "colab": {}
      },
      "source": [
        "model_knn = KNeighborsClassifier()"
      ],
      "execution_count": 0,
      "outputs": []
    },
    {
      "cell_type": "code",
      "metadata": {
        "id": "j8rgx2M8Tufs",
        "colab_type": "code",
        "outputId": "72ef6775-2025-4128-c9c6-1a2899285041",
        "colab": {
          "base_uri": "https://localhost:8080/",
          "height": 34
        }
      },
      "source": [
        "model_knn.fit(x_train, train_label)\n",
        "pred_knn = model_knn.predict(y_test)\n",
        "accuracy_score(test_label, pred_knn)"
      ],
      "execution_count": 0,
      "outputs": [
        {
          "output_type": "execute_result",
          "data": {
            "text/plain": [
              "0.5825"
            ]
          },
          "metadata": {
            "tags": []
          },
          "execution_count": 67
        }
      ]
    },
    {
      "cell_type": "code",
      "metadata": {
        "id": "1ZcYiV0kTufv",
        "colab_type": "code",
        "colab": {}
      },
      "source": [
        ""
      ],
      "execution_count": 0,
      "outputs": []
    }
  ]
}