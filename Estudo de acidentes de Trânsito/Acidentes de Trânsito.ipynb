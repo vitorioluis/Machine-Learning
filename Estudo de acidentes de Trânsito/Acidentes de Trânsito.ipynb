{
 "cells": [
  {
   "cell_type": "markdown",
   "metadata": {},
   "source": [
    "# Analise de Acidentes\n",
    "\n",
    "    Copyright (C) 2019 - Luis Vitório\n",
    "    Analise de Acidentes de Trânsito\n",
    "\n",
    "    Este programa é um software livre: você pode redistribuí-lo e/ou\n",
    "    modificá-lo sob os termos da Licença Pública Geral Affero GNU,\n",
    "    conforme publicado pela Free Software Foundation, seja a versão 3\n",
    "    da Licença ou (a seu critério) qualquer versão posterior.\n",
    "\n",
    "    Este programa é distribuído na esperança de que seja útil,\n",
    "    mas SEM QUALQUER GARANTIA; sem a garantia implícita de\n",
    "    COMERCIALIZAÇÃO OU ADEQUAÇÃO A UM DETERMINADO PROPÓSITO. Veja a\n",
    "    Licença Pública Geral Affero GNU para obter mais detalhes.\n",
    "\n",
    "    Você deve ter recebido uma cópia da Licença Pública Geral Affero GNU\n",
    "    junto com este programa. Se não, veja <https://www.gnu.org/licenses/>.\n",
    "\n",
    "    linkedin: https://www.linkedin.com/in/vitorioluis/\n",
    "    email: vitorioluis@gmail.com\n",
    "\n",
    "#### Dados obtidos de \n",
    "\n",
    "#### Ferramentas utilizadas para realizar o Data Analytics\n",
    "<img src=\"./img/1.png\" >"
   ]
  },
  {
   "cell_type": "code",
   "execution_count": 17,
   "metadata": {
    "slideshow": {
     "slide_type": "slide"
    }
   },
   "outputs": [],
   "source": [
    "import os\n",
    "import zipfile\n",
    "import numpy as np\n",
    "import pandas as pd\n",
    "import seaborn as sns\n",
    "import matplotlib.pyplot as plt\n",
    "\n",
    "sns.set(style=\"whitegrid\")\n",
    "%matplotlib inline"
   ]
  },
  {
   "cell_type": "markdown",
   "metadata": {},
   "source": [
    "## Fase 1\n",
    "#### Importar e tratar os dados"
   ]
  },
  {
   "cell_type": "code",
   "execution_count": 18,
   "metadata": {},
   "outputs": [],
   "source": [
    "# arquivo por formato\n",
    "def filtrar_arquivo(tipo):\n",
    "    path = './'\n",
    "    lst_arq = os.listdir(path) # listando novamente o diretório para verificar arquivos csv\n",
    "    return [arq for arq in lst_arq if arq[-3:] == tipo]\n",
    "\n",
    "# Separa arquivo zip caso haja outros tipos de arquivo na pasta\n",
    "lst_zip = filtrar_arquivo('zip')\n",
    "\n",
    "# extrair arquivos do zip para trabalhar\n",
    "for zp in lst_zip:\n",
    "    fzp = zipfile.ZipFile(zp)\n",
    "    fzp.extractall('./') \n",
    "    fzp.close()\n",
    "\n",
    "# Separa arquivo csv caso haja outros tipos de arquivo no diretório\n",
    "lst_csv = filtrar_arquivo('csv')\n",
    "\n",
    "# criar dataframe vazio para unir as bases\n",
    "df_acidentes = pd.DataFrame()\n",
    "\n",
    "# É hora de ler os arquivos csv e consolidar no dataframe\n",
    "for csv in lst_csv:\n",
    "    df = pd.read_csv(csv, sep=';', encoding='latin1')\n",
    "    df_acidentes = df.append(df)\n",
    "    os.remove(csv)"
   ]
  },
  {
   "cell_type": "code",
   "execution_count": 19,
   "metadata": {},
   "outputs": [
    {
     "data": {
      "text/html": [
       "<div>\n",
       "<style scoped>\n",
       "    .dataframe tbody tr th:only-of-type {\n",
       "        vertical-align: middle;\n",
       "    }\n",
       "\n",
       "    .dataframe tbody tr th {\n",
       "        vertical-align: top;\n",
       "    }\n",
       "\n",
       "    .dataframe thead th {\n",
       "        text-align: right;\n",
       "    }\n",
       "</style>\n",
       "<table border=\"1\" class=\"dataframe\">\n",
       "  <thead>\n",
       "    <tr style=\"text-align: right;\">\n",
       "      <th></th>\n",
       "      <th>id</th>\n",
       "      <th>pesid</th>\n",
       "      <th>data_inversa</th>\n",
       "      <th>dia_semana</th>\n",
       "      <th>horario</th>\n",
       "      <th>uf</th>\n",
       "      <th>br</th>\n",
       "      <th>km</th>\n",
       "      <th>municipio</th>\n",
       "      <th>causa_principal</th>\n",
       "      <th>...</th>\n",
       "      <th>sexo</th>\n",
       "      <th>ilesos</th>\n",
       "      <th>feridos_leves</th>\n",
       "      <th>feridos_graves</th>\n",
       "      <th>mortos</th>\n",
       "      <th>latitude</th>\n",
       "      <th>longitude</th>\n",
       "      <th>regional</th>\n",
       "      <th>delegacia</th>\n",
       "      <th>uop</th>\n",
       "    </tr>\n",
       "  </thead>\n",
       "  <tbody>\n",
       "    <tr>\n",
       "      <th>0</th>\n",
       "      <td>8</td>\n",
       "      <td>1.0</td>\n",
       "      <td>2017-01-01</td>\n",
       "      <td>domingo</td>\n",
       "      <td>00:00:00</td>\n",
       "      <td>PR</td>\n",
       "      <td>376.0</td>\n",
       "      <td>112</td>\n",
       "      <td>PARANAVAI                                     ...</td>\n",
       "      <td>Sim</td>\n",
       "      <td>...</td>\n",
       "      <td>Masculino</td>\n",
       "      <td>0</td>\n",
       "      <td>0</td>\n",
       "      <td>1</td>\n",
       "      <td>0</td>\n",
       "      <td>-23.098807</td>\n",
       "      <td>-52.387894</td>\n",
       "      <td>SR-PR</td>\n",
       "      <td>DEL7/7</td>\n",
       "      <td>UOP05/PR</td>\n",
       "    </tr>\n",
       "    <tr>\n",
       "      <th>1</th>\n",
       "      <td>9</td>\n",
       "      <td>955.0</td>\n",
       "      <td>2017-01-01</td>\n",
       "      <td>domingo</td>\n",
       "      <td>00:01:00</td>\n",
       "      <td>SC</td>\n",
       "      <td>101.0</td>\n",
       "      <td>234</td>\n",
       "      <td>PALHOCA                                       ...</td>\n",
       "      <td>Sim</td>\n",
       "      <td>...</td>\n",
       "      <td>Masculino</td>\n",
       "      <td>1</td>\n",
       "      <td>0</td>\n",
       "      <td>0</td>\n",
       "      <td>0</td>\n",
       "      <td>-27.810100</td>\n",
       "      <td>-48.635700</td>\n",
       "      <td>SR-SC</td>\n",
       "      <td>DEL8/1</td>\n",
       "      <td>UOP02/SC</td>\n",
       "    </tr>\n",
       "    <tr>\n",
       "      <th>2</th>\n",
       "      <td>11</td>\n",
       "      <td>2.0</td>\n",
       "      <td>2017-01-01</td>\n",
       "      <td>domingo</td>\n",
       "      <td>00:00:00</td>\n",
       "      <td>PR</td>\n",
       "      <td>153.0</td>\n",
       "      <td>56,9</td>\n",
       "      <td>SANTO ANTONIO DA PLATINA                      ...</td>\n",
       "      <td>Sim</td>\n",
       "      <td>...</td>\n",
       "      <td>Feminino</td>\n",
       "      <td>0</td>\n",
       "      <td>1</td>\n",
       "      <td>0</td>\n",
       "      <td>0</td>\n",
       "      <td>-23.369520</td>\n",
       "      <td>309.935131</td>\n",
       "      <td>SR-PR</td>\n",
       "      <td>DEL7/7</td>\n",
       "      <td>UOP07/PR</td>\n",
       "    </tr>\n",
       "    <tr>\n",
       "      <th>3</th>\n",
       "      <td>11</td>\n",
       "      <td>3.0</td>\n",
       "      <td>2017-01-01</td>\n",
       "      <td>domingo</td>\n",
       "      <td>00:00:00</td>\n",
       "      <td>PR</td>\n",
       "      <td>153.0</td>\n",
       "      <td>56,9</td>\n",
       "      <td>SANTO ANTONIO DA PLATINA                      ...</td>\n",
       "      <td>Sim</td>\n",
       "      <td>...</td>\n",
       "      <td>Masculino</td>\n",
       "      <td>0</td>\n",
       "      <td>1</td>\n",
       "      <td>0</td>\n",
       "      <td>0</td>\n",
       "      <td>-23.369520</td>\n",
       "      <td>309.935131</td>\n",
       "      <td>SR-PR</td>\n",
       "      <td>DEL7/7</td>\n",
       "      <td>UOP07/PR</td>\n",
       "    </tr>\n",
       "    <tr>\n",
       "      <th>4</th>\n",
       "      <td>12</td>\n",
       "      <td>1499.0</td>\n",
       "      <td>2017-01-01</td>\n",
       "      <td>domingo</td>\n",
       "      <td>00:00:00</td>\n",
       "      <td>GO</td>\n",
       "      <td>153.0</td>\n",
       "      <td>435</td>\n",
       "      <td>ANAPOLIS                                      ...</td>\n",
       "      <td>Sim</td>\n",
       "      <td>...</td>\n",
       "      <td>Masculino</td>\n",
       "      <td>0</td>\n",
       "      <td>0</td>\n",
       "      <td>1</td>\n",
       "      <td>0</td>\n",
       "      <td>-16.274737</td>\n",
       "      <td>-48.969090</td>\n",
       "      <td>SR-GO</td>\n",
       "      <td>DEL1/2</td>\n",
       "      <td>UOP01/GO</td>\n",
       "    </tr>\n",
       "  </tbody>\n",
       "</table>\n",
       "<p>5 rows × 37 columns</p>\n",
       "</div>"
      ],
      "text/plain": [
       "   id   pesid data_inversa dia_semana   horario  uf     br    km  \\\n",
       "0   8     1.0   2017-01-01    domingo  00:00:00  PR  376.0   112   \n",
       "1   9   955.0   2017-01-01    domingo  00:01:00  SC  101.0   234   \n",
       "2  11     2.0   2017-01-01    domingo  00:00:00  PR  153.0  56,9   \n",
       "3  11     3.0   2017-01-01    domingo  00:00:00  PR  153.0  56,9   \n",
       "4  12  1499.0   2017-01-01    domingo  00:00:00  GO  153.0   435   \n",
       "\n",
       "                                           municipio       causa_principal  \\\n",
       "0  PARANAVAI                                     ...  Sim                    \n",
       "1  PALHOCA                                       ...  Sim                    \n",
       "2  SANTO ANTONIO DA PLATINA                      ...  Sim                    \n",
       "3  SANTO ANTONIO DA PLATINA                      ...  Sim                    \n",
       "4  ANAPOLIS                                      ...  Sim                    \n",
       "\n",
       "   ...                  sexo  ilesos feridos_leves feridos_graves mortos  \\\n",
       "0  ...  Masculino                  0             0              1      0   \n",
       "1  ...  Masculino                  1             0              0      0   \n",
       "2  ...  Feminino                   0             1              0      0   \n",
       "3  ...  Masculino                  0             1              0      0   \n",
       "4  ...  Masculino                  0             0              1      0   \n",
       "\n",
       "    latitude   longitude              regional  \\\n",
       "0 -23.098807  -52.387894  SR-PR                  \n",
       "1 -27.810100  -48.635700  SR-SC                  \n",
       "2 -23.369520  309.935131  SR-PR                  \n",
       "3 -23.369520  309.935131  SR-PR                  \n",
       "4 -16.274737  -48.969090  SR-GO                  \n",
       "\n",
       "                        delegacia                             uop  \n",
       "0  DEL7/7                          UOP05/PR                        \n",
       "1  DEL8/1                          UOP02/SC                        \n",
       "2  DEL7/7                          UOP07/PR                        \n",
       "3  DEL7/7                          UOP07/PR                        \n",
       "4  DEL1/2                          UOP01/GO                        \n",
       "\n",
       "[5 rows x 37 columns]"
      ]
     },
     "execution_count": 19,
     "metadata": {},
     "output_type": "execute_result"
    }
   ],
   "source": [
    "# verificar se está tudo ok\n",
    "df_acidentes.head()"
   ]
  },
  {
   "cell_type": "code",
   "execution_count": 4,
   "metadata": {},
   "outputs": [
    {
     "data": {
      "text/plain": [
       "(408578, 37)"
      ]
     },
     "execution_count": 4,
     "metadata": {},
     "output_type": "execute_result"
    }
   ],
   "source": [
    "# quantidades de linhas e colunas\n",
    "df_acidentes.shape"
   ]
  },
  {
   "cell_type": "markdown",
   "metadata": {},
   "source": [
    "##### Nosso conjunto de dados contém 270.912 linhas divididas em 37 colunas"
   ]
  },
  {
   "cell_type": "code",
   "execution_count": 5,
   "metadata": {},
   "outputs": [
    {
     "data": {
      "text/plain": [
       "Index(['id', 'pesid', 'data_inversa', 'dia_semana', 'horario', 'uf', 'br',\n",
       "       'km', 'municipio', 'causa_principal', 'causa_acidente',\n",
       "       'ordem_tipo_acidente', 'tipo_acidente', 'classificacao_acidente',\n",
       "       'fase_dia', 'sentido_via', 'condicao_metereologica', 'tipo_pista',\n",
       "       'tracado_via', 'uso_solo', 'id_veiculo', 'tipo_veiculo', 'marca',\n",
       "       'ano_fabricacao_veiculo', 'tipo_envolvido', 'estado_fisico', 'idade',\n",
       "       'sexo', 'ilesos', 'feridos_leves', 'feridos_graves', 'mortos',\n",
       "       'latitude', 'longitude', 'regional', 'delegacia', 'uop'],\n",
       "      dtype='object')"
      ]
     },
     "execution_count": 5,
     "metadata": {},
     "output_type": "execute_result"
    }
   ],
   "source": [
    "# nome das colunas\n",
    "df_acidentes.columns"
   ]
  },
  {
   "cell_type": "code",
   "execution_count": 6,
   "metadata": {},
   "outputs": [
    {
     "name": "stdout",
     "output_type": "stream",
     "text": [
      "<class 'pandas.core.frame.DataFrame'>\n",
      "Int64Index: 408578 entries, 0 to 204288\n",
      "Data columns (total 37 columns):\n",
      "id                        408578 non-null int64\n",
      "pesid                     408576 non-null float64\n",
      "data_inversa              408578 non-null object\n",
      "dia_semana                408578 non-null object\n",
      "horario                   408578 non-null object\n",
      "uf                        408578 non-null object\n",
      "br                        407930 non-null float64\n",
      "km                        407930 non-null object\n",
      "municipio                 408578 non-null object\n",
      "causa_principal           408578 non-null object\n",
      "causa_acidente            408578 non-null object\n",
      "ordem_tipo_acidente       408578 non-null int64\n",
      "tipo_acidente             408578 non-null object\n",
      "classificacao_acidente    408578 non-null object\n",
      "fase_dia                  408578 non-null object\n",
      "sentido_via               408578 non-null object\n",
      "condicao_metereologica    408578 non-null object\n",
      "tipo_pista                408578 non-null object\n",
      "tracado_via               408578 non-null object\n",
      "uso_solo                  408578 non-null object\n",
      "id_veiculo                408570 non-null float64\n",
      "tipo_veiculo              408578 non-null object\n",
      "marca                     408578 non-null object\n",
      "ano_fabricacao_veiculo    388550 non-null float64\n",
      "tipo_envolvido            408578 non-null object\n",
      "estado_fisico             408578 non-null object\n",
      "idade                     374222 non-null float64\n",
      "sexo                      408578 non-null object\n",
      "ilesos                    408578 non-null int64\n",
      "feridos_leves             408578 non-null int64\n",
      "feridos_graves            408578 non-null int64\n",
      "mortos                    408578 non-null int64\n",
      "latitude                  408578 non-null float64\n",
      "longitude                 408578 non-null float64\n",
      "regional                  408578 non-null object\n",
      "delegacia                 408578 non-null object\n",
      "uop                       408578 non-null object\n",
      "dtypes: float64(7), int64(6), object(24)\n",
      "memory usage: 118.5+ MB\n"
     ]
    }
   ],
   "source": [
    "# informações sobre tipos de campos, e dados faltantes\n",
    "df_acidentes.info()"
   ]
  },
  {
   "cell_type": "code",
   "execution_count": 7,
   "metadata": {},
   "outputs": [
    {
     "data": {
      "text/html": [
       "<div>\n",
       "<style scoped>\n",
       "    .dataframe tbody tr th:only-of-type {\n",
       "        vertical-align: middle;\n",
       "    }\n",
       "\n",
       "    .dataframe tbody tr th {\n",
       "        vertical-align: top;\n",
       "    }\n",
       "\n",
       "    .dataframe thead th {\n",
       "        text-align: right;\n",
       "    }\n",
       "</style>\n",
       "<table border=\"1\" class=\"dataframe\">\n",
       "  <thead>\n",
       "    <tr style=\"text-align: right;\">\n",
       "      <th></th>\n",
       "      <th>id</th>\n",
       "      <th>pesid</th>\n",
       "      <th>data_inversa</th>\n",
       "      <th>dia_semana</th>\n",
       "      <th>horario</th>\n",
       "      <th>uf</th>\n",
       "      <th>br</th>\n",
       "      <th>km</th>\n",
       "      <th>municipio</th>\n",
       "      <th>causa_principal</th>\n",
       "      <th>...</th>\n",
       "      <th>sexo</th>\n",
       "      <th>ilesos</th>\n",
       "      <th>feridos_leves</th>\n",
       "      <th>feridos_graves</th>\n",
       "      <th>mortos</th>\n",
       "      <th>latitude</th>\n",
       "      <th>longitude</th>\n",
       "      <th>regional</th>\n",
       "      <th>delegacia</th>\n",
       "      <th>uop</th>\n",
       "    </tr>\n",
       "  </thead>\n",
       "  <tbody>\n",
       "    <tr>\n",
       "      <th>204284</th>\n",
       "      <td>133740</td>\n",
       "      <td>289034.0</td>\n",
       "      <td>2017-02-10</td>\n",
       "      <td>sexta-feira</td>\n",
       "      <td>15:50:00</td>\n",
       "      <td>MG</td>\n",
       "      <td>50.0</td>\n",
       "      <td>61</td>\n",
       "      <td>ARAGUARI                                      ...</td>\n",
       "      <td>Sim</td>\n",
       "      <td>...</td>\n",
       "      <td>Masculino</td>\n",
       "      <td>0</td>\n",
       "      <td>1</td>\n",
       "      <td>0</td>\n",
       "      <td>0</td>\n",
       "      <td>-18.810509</td>\n",
       "      <td>-48.246160</td>\n",
       "      <td>SR-MG</td>\n",
       "      <td>DEL4/17</td>\n",
       "      <td>UOP02/MG</td>\n",
       "    </tr>\n",
       "    <tr>\n",
       "      <th>204285</th>\n",
       "      <td>133740</td>\n",
       "      <td>289033.0</td>\n",
       "      <td>2017-02-10</td>\n",
       "      <td>sexta-feira</td>\n",
       "      <td>15:50:00</td>\n",
       "      <td>MG</td>\n",
       "      <td>50.0</td>\n",
       "      <td>61</td>\n",
       "      <td>ARAGUARI                                      ...</td>\n",
       "      <td>Sim</td>\n",
       "      <td>...</td>\n",
       "      <td>Masculino</td>\n",
       "      <td>0</td>\n",
       "      <td>1</td>\n",
       "      <td>0</td>\n",
       "      <td>0</td>\n",
       "      <td>-18.810509</td>\n",
       "      <td>-48.246160</td>\n",
       "      <td>SR-MG</td>\n",
       "      <td>DEL4/17</td>\n",
       "      <td>UOP02/MG</td>\n",
       "    </tr>\n",
       "    <tr>\n",
       "      <th>204286</th>\n",
       "      <td>133740</td>\n",
       "      <td>289031.0</td>\n",
       "      <td>2017-02-10</td>\n",
       "      <td>sexta-feira</td>\n",
       "      <td>15:50:00</td>\n",
       "      <td>MG</td>\n",
       "      <td>50.0</td>\n",
       "      <td>61</td>\n",
       "      <td>ARAGUARI                                      ...</td>\n",
       "      <td>Sim</td>\n",
       "      <td>...</td>\n",
       "      <td>Feminino</td>\n",
       "      <td>0</td>\n",
       "      <td>1</td>\n",
       "      <td>0</td>\n",
       "      <td>0</td>\n",
       "      <td>-18.810509</td>\n",
       "      <td>-48.246160</td>\n",
       "      <td>SR-MG</td>\n",
       "      <td>DEL4/17</td>\n",
       "      <td>UOP02/MG</td>\n",
       "    </tr>\n",
       "    <tr>\n",
       "      <th>204287</th>\n",
       "      <td>133958</td>\n",
       "      <td>289356.0</td>\n",
       "      <td>2017-12-20</td>\n",
       "      <td>quarta-feira</td>\n",
       "      <td>05:00:00</td>\n",
       "      <td>PE</td>\n",
       "      <td>408.0</td>\n",
       "      <td>84</td>\n",
       "      <td>SAO LOURENCO DA MATA                          ...</td>\n",
       "      <td>Sim</td>\n",
       "      <td>...</td>\n",
       "      <td>Masculino</td>\n",
       "      <td>0</td>\n",
       "      <td>1</td>\n",
       "      <td>0</td>\n",
       "      <td>0</td>\n",
       "      <td>-7.958815</td>\n",
       "      <td>-35.097381</td>\n",
       "      <td>SR-PE</td>\n",
       "      <td>DEL11/1</td>\n",
       "      <td>UOP01/PE</td>\n",
       "    </tr>\n",
       "    <tr>\n",
       "      <th>204288</th>\n",
       "      <td>133958</td>\n",
       "      <td>289358.0</td>\n",
       "      <td>2017-12-20</td>\n",
       "      <td>quarta-feira</td>\n",
       "      <td>05:00:00</td>\n",
       "      <td>PE</td>\n",
       "      <td>408.0</td>\n",
       "      <td>84</td>\n",
       "      <td>SAO LOURENCO DA MATA                          ...</td>\n",
       "      <td>Sim</td>\n",
       "      <td>...</td>\n",
       "      <td>Masculino</td>\n",
       "      <td>0</td>\n",
       "      <td>1</td>\n",
       "      <td>0</td>\n",
       "      <td>0</td>\n",
       "      <td>-7.958815</td>\n",
       "      <td>-35.097381</td>\n",
       "      <td>SR-PE</td>\n",
       "      <td>DEL11/1</td>\n",
       "      <td>UOP01/PE</td>\n",
       "    </tr>\n",
       "  </tbody>\n",
       "</table>\n",
       "<p>5 rows × 37 columns</p>\n",
       "</div>"
      ],
      "text/plain": [
       "            id     pesid data_inversa    dia_semana   horario  uf     br  km  \\\n",
       "204284  133740  289034.0   2017-02-10   sexta-feira  15:50:00  MG   50.0  61   \n",
       "204285  133740  289033.0   2017-02-10   sexta-feira  15:50:00  MG   50.0  61   \n",
       "204286  133740  289031.0   2017-02-10   sexta-feira  15:50:00  MG   50.0  61   \n",
       "204287  133958  289356.0   2017-12-20  quarta-feira  05:00:00  PE  408.0  84   \n",
       "204288  133958  289358.0   2017-12-20  quarta-feira  05:00:00  PE  408.0  84   \n",
       "\n",
       "                                                municipio  \\\n",
       "204284  ARAGUARI                                      ...   \n",
       "204285  ARAGUARI                                      ...   \n",
       "204286  ARAGUARI                                      ...   \n",
       "204287  SAO LOURENCO DA MATA                          ...   \n",
       "204288  SAO LOURENCO DA MATA                          ...   \n",
       "\n",
       "             causa_principal  ...                  sexo  ilesos feridos_leves  \\\n",
       "204284  Sim                   ...  Masculino                  0             1   \n",
       "204285  Sim                   ...  Masculino                  0             1   \n",
       "204286  Sim                   ...  Feminino                   0             1   \n",
       "204287  Sim                   ...  Masculino                  0             1   \n",
       "204288  Sim                   ...  Masculino                  0             1   \n",
       "\n",
       "       feridos_graves mortos   latitude  longitude              regional  \\\n",
       "204284              0      0 -18.810509 -48.246160  SR-MG                  \n",
       "204285              0      0 -18.810509 -48.246160  SR-MG                  \n",
       "204286              0      0 -18.810509 -48.246160  SR-MG                  \n",
       "204287              0      0  -7.958815 -35.097381  SR-PE                  \n",
       "204288              0      0  -7.958815 -35.097381  SR-PE                  \n",
       "\n",
       "                             delegacia                             uop  \n",
       "204284  DEL4/17                         UOP02/MG                        \n",
       "204285  DEL4/17                         UOP02/MG                        \n",
       "204286  DEL4/17                         UOP02/MG                        \n",
       "204287  DEL11/1                         UOP01/PE                        \n",
       "204288  DEL11/1                         UOP01/PE                        \n",
       "\n",
       "[5 rows x 37 columns]"
      ]
     },
     "execution_count": 7,
     "metadata": {},
     "output_type": "execute_result"
    }
   ],
   "source": [
    "df_acidentes.tail()"
   ]
  },
  {
   "cell_type": "code",
   "execution_count": 8,
   "metadata": {},
   "outputs": [],
   "source": [
    "# plot de calor adaptado para verificar dados faltantes em amarelo\n",
    "def grafico_dados_faltantes():\n",
    "    plt.figure(figsize=(15,10))\n",
    "    return sns.heatmap(df_acidentes.isnull(), yticklabels=False, cbar=False, cmap='viridis');"
   ]
  },
  {
   "cell_type": "code",
   "execution_count": 9,
   "metadata": {},
   "outputs": [
    {
     "data": {
      "image/png": "[encoded data removed]",
      "text/plain": [
       "<Figure size 1080x720 with 1 Axes>"
      ]
     },
     "metadata": {
      "needs_background": "light"
     },
     "output_type": "display_data"
    }
   ],
   "source": [
    "grafico_dados_faltantes();"
   ]
  },
  {
   "cell_type": "markdown",
   "metadata": {},
   "source": [
    "##### No gráfico acima podemos observar os dados faltantes em amarelo, apenas 4 colunas contém dados faltantes:\n",
    "#####   * \"br\" => Nome da rodovia\n",
    "#####   * \"km\" => kilômetro onde aconteceu o acident \n",
    "#####   * \"idade\" => idade do contutor do veículo\n",
    "#####   * \"ano_fabricacao_veiculo\" => como o próprio nome ja diz ano de fabricação do veículo"
   ]
  },
  {
   "cell_type": "code",
   "execution_count": 20,
   "metadata": {},
   "outputs": [],
   "source": [
    "# Aplica a média de idade para preencher os dados faltandes da coluna \"idade\"\n",
    "df_acidentes['idade'].fillna((df_acidentes['idade'].mean(skipna=True)),inplace=True)\n",
    "\n",
    "# gerar a média do ano de fabricação\n",
    "ano_medio_fabricacao = int(df_acidentes['ano_fabricacao_veiculo'].mean())\n",
    "\n",
    "# tratando o ano médio de fabricação do veículo\n",
    "df_acidentes['ano_fabricacao_veiculo'].fillna((ano_medio_fabricacao), inplace=True);\n",
    "\n",
    "# tratando o campo 'br' que não estão preenchidas\n",
    "# subistitui o Nulo por Zero(0)\n",
    "df_acidentes['br'] = df_acidentes['br'].fillna(0) \n",
    "\n",
    "# converte em inteiro para remover casa decimal\n",
    "df_acidentes['br'] = df_acidentes['br'].astype(int)\n",
    "\n",
    "# converte em str\n",
    "df_acidentes['br'] = df_acidentes['br'].astype(str) \n",
    "\n",
    "# preenche os campos de valores Zero(0) \n",
    "df_acidentes.loc[df_acidentes['br'] == '0','br'] = 'Nome da BR não preenchido' \n",
    "\n",
    "# normalizando dados(coluna br com o tamanho de 3 caracteres)\n",
    "df_acidentes['br'] = df_acidentes['br'].apply(lambda n: '0' * (3 - len(n)) + n if len(n) < 3 else n); \n",
    "\n",
    "# converte em str e substitui ',' por '.' para em seguida converter em float\n",
    "df_acidentes['km']=df_acidentes['km'].apply(lambda x: str(x).replace(\".\",\"\").replace(\",\",\".\"))\n",
    "\n",
    "# converte em float\n",
    "df_acidentes['km'] = df_acidentes['km'].astype(float)\n",
    "\n",
    "# aplica a média do km nos campos vazios\n",
    "df_acidentes['km'].fillna((df_acidentes['km'].mean(skipna=True)),inplace=True)"
   ]
  },
  {
   "cell_type": "code",
   "execution_count": 11,
   "metadata": {},
   "outputs": [
    {
     "data": {
      "image/png": "[encoded data removed]",
      "text/plain": [
       "<Figure size 1080x720 with 1 Axes>"
      ]
     },
     "metadata": {
      "needs_background": "light"
     },
     "output_type": "display_data"
    }
   ],
   "source": [
    "grafico_dados_faltantes();"
   ]
  },
  {
   "cell_type": "markdown",
   "metadata": {},
   "source": [
    "#### Agora que normalizamos nossos dados e não temos dados faltantes como podemos observar no gráfico, seguiremos para próxima fase.\n",
    "\n",
    "## Fase 2\n",
    "\n",
    "### Conhecer/Explorar os dados"
   ]
  },
  {
   "cell_type": "markdown",
   "metadata": {},
   "source": [
    "##### Para não precisar toda hora ficar digitando a mesma coisa em graficos uma função básica para gerar gráfico "
   ]
  },
  {
   "cell_type": "code",
   "execution_count": 21,
   "metadata": {},
   "outputs": [],
   "source": [
    "# total de linha que contém no dataframe\n",
    "ncount = len(df_acidentes)"
   ]
  },
  {
   "cell_type": "code",
   "execution_count": 22,
   "metadata": {},
   "outputs": [],
   "source": [
    "def faixa_etaria(idade):\n",
    "    if idade <= 10:\n",
    "        _faixa = '0-10'\n",
    "    elif idade <= 20:\n",
    "        _faixa = '11-20'    \n",
    "    elif idade <= 30:\n",
    "        _faixa = '21-30'\n",
    "    elif idade <= 40:\n",
    "        _faixa = '31-40'\n",
    "    elif idade <= 50:\n",
    "        _faixa = '41-50'\n",
    "    elif idade <= 60:\n",
    "        _faixa = '51-60'\n",
    "    elif idade <= 70:\n",
    "        _faixa = '61-70'\n",
    "    else:\n",
    "        _faixa = '+70'\n",
    "    return _faixa"
   ]
  },
  {
   "cell_type": "code",
   "execution_count": 29,
   "metadata": {},
   "outputs": [],
   "source": [
    "df_acidentes['faixa_etaria']=df_acidentes['idade'].apply(faixa_etaria)"
   ]
  },
  {
   "cell_type": "code",
   "execution_count": null,
   "metadata": {},
   "outputs": [],
   "source": [
    "df_acidentes['faixa_etaria'].hist()"
   ]
  },
  {
   "cell_type": "code",
   "execution_count": null,
   "metadata": {},
   "outputs": [],
   "source": []
  },
  {
   "cell_type": "code",
   "execution_count": null,
   "metadata": {},
   "outputs": [],
   "source": [
    "\n",
    "# função para gerar gráfico padrão\n",
    "def gerar_grafico_padrao(campo, largura=10, altura=14, df = df_acidentes,titulo='Acidentes'):\n",
    "    \n",
    "    ax = df[campo].value_counts().plot(kind='barh', figsize=(largura, altura), fontsize=13, );\n",
    "    ax.set_alpha(0.8)\n",
    "    ax.set_xlabel('Números de Acidentes')\n",
    "    ax.set_title(titulo)\n",
    "    ax.set_xticks(np.arange(0, 110, 10)*len(df)/100)\n",
    "    totals = []\n",
    "\n",
    "    # encontrar os valores e acrescentar à lista\n",
    "    for i in ax.patches:\n",
    "        totals.append(i.get_width())\n",
    "    \n",
    "    # definir barras individuais usando a lista acima\n",
    "    total = sum(totals)\n",
    "\n",
    "    # definir barras individuais usando a lista acima\n",
    "    for i in ax.patches:\n",
    "        ax.text(i.get_width()+.3, i.get_y()+.38, str(round((i.get_width()/total)*100, 2))+'%', fontsize=12, color='dimgrey')\n",
    "\n",
    "    # invertido para maior no topo\n",
    "    ax.invert_yaxis()\n",
    "\n",
    "    return ax\n",
    "    "
   ]
  },
  {
   "cell_type": "markdown",
   "metadata": {},
   "source": [
    "##### Nesta etapa da nossa analise vamos conhecer bem que temos em nossa base de dados, vamos gerar uma série de gráficos buscando por insights."
   ]
  },
  {
   "cell_type": "code",
   "execution_count": null,
   "metadata": {},
   "outputs": [],
   "source": [
    "# acidentes por sexo\n",
    "gerar_grafico_padrao('sexo', altura=3, titulo=\"Acidentes por Sexo\");"
   ]
  },
  {
   "cell_type": "markdown",
   "metadata": {},
   "source": [
    "##### Tem imagens que 'fala' mais que mil palavras, esse gráfico é um dessas imagem. Os acidentes ocorrido com homens ao volante é mais de 3 vezes maior que os com mulheres ao volante."
   ]
  },
  {
   "cell_type": "code",
   "execution_count": null,
   "metadata": {},
   "outputs": [],
   "source": [
    "# Gráfico por causa de acidentes.\n",
    "gerar_grafico_padrao('causa_acidente', altura = 15, largura=10, titulo='Causas de Acidentes');"
   ]
  },
  {
   "cell_type": "markdown",
   "metadata": {},
   "source": [
    "##### Neste gráfico a categoria \"Falta de atenção à condução\" é esmagadora estou até surpreso com tamanha desproporção."
   ]
  },
  {
   "cell_type": "code",
   "execution_count": null,
   "metadata": {},
   "outputs": [],
   "source": [
    "gerar_grafico_padrao('dia_semana', altura=3, largura=10, titulo='Acidentes por dia da semana');"
   ]
  },
  {
   "cell_type": "code",
   "execution_count": null,
   "metadata": {},
   "outputs": [],
   "source": [
    "gerar_grafico_padrao('condicao_metereologica', altura=4, largura=15, titulo='Condições meteorológicas');"
   ]
  },
  {
   "cell_type": "markdown",
   "metadata": {},
   "source": [
    "#### Este gráfico acima para mim é uma surpresa, em condições normais o número de acidentes é muito maior do que em condições adiversas."
   ]
  },
  {
   "cell_type": "code",
   "execution_count": null,
   "metadata": {},
   "outputs": [],
   "source": [
    "gerar_grafico_padrao('fase_dia', altura = 3, titulo= 'Fase do dia');"
   ]
  },
  {
   "cell_type": "code",
   "execution_count": null,
   "metadata": {},
   "outputs": [],
   "source": [
    "gerar_grafico_padrao('tipo_pista', altura = 3, titulo = 'Tipo da pista');"
   ]
  },
  {
   "cell_type": "code",
   "execution_count": null,
   "metadata": {},
   "outputs": [],
   "source": [
    "gerar_grafico_padrao('br', largura=10, altura=23, titulo='Nome da Br');"
   ]
  },
  {
   "cell_type": "code",
   "execution_count": null,
   "metadata": {},
   "outputs": [],
   "source": [
    "gerar_grafico_padrao('tipo_veiculo', altura=7,titulo='Tipo de veículo');"
   ]
  },
  {
   "cell_type": "code",
   "execution_count": null,
   "metadata": {},
   "outputs": [],
   "source": [
    "gerar_grafico_padrao('faixa_etaria', altura=7,titulo='Faixa etária');"
   ]
  },
  {
   "cell_type": "code",
   "execution_count": null,
   "metadata": {},
   "outputs": [],
   "source": [
    "gerar_grafico_padrao('uf', altura=7,titulo='Por UF');"
   ]
  },
  {
   "cell_type": "code",
   "execution_count": null,
   "metadata": {},
   "outputs": [],
   "source": [
    "df_acidentes.idade.describe()"
   ]
  },
  {
   "cell_type": "code",
   "execution_count": null,
   "metadata": {},
   "outputs": [],
   "source": [
    "df_acidentes.boxplot(column=['idade'])"
   ]
  },
  {
   "cell_type": "code",
   "execution_count": null,
   "metadata": {},
   "outputs": [],
   "source": [
    "# correlação entre todas as variáveis do nosso dataframe.\n",
    "plt.figure(figsize=(15,5))\n",
    "sns.heatmap(df_acidentes.corr(), cmap='coolwarm', annot=True)\n",
    "plt.title('Mapa de Calor de Correlação');"
   ]
  },
  {
   "cell_type": "code",
   "execution_count": null,
   "metadata": {},
   "outputs": [],
   "source": [
    "# Depos de tentar filtar por tipo_veiculo varias vezes não conseguir resultado me ocorreu de verificar \n",
    "# como estava os dados e para minha surpresa continha espaço no final \n",
    "df_acidentes.tipo_veiculo.unique()"
   ]
  },
  {
   "cell_type": "code",
   "execution_count": null,
   "metadata": {},
   "outputs": [],
   "source": []
  },
  {
   "cell_type": "code",
   "execution_count": null,
   "metadata": {},
   "outputs": [],
   "source": [
    "# Vamos resolver isso aplicando um strip na coluna\n",
    "df_acidentes['tipo_veiculo'] = df_acidentes['tipo_veiculo'].apply(lambda x : str(x).strip());\n",
    "df_acidentes.tipo_veiculo.unique()"
   ]
  },
  {
   "cell_type": "code",
   "execution_count": null,
   "metadata": {},
   "outputs": [],
   "source": [
    "# Agora sim vamos separar acidentes ocorrido motocicletas\n",
    "df_motos = df_acidentes.loc[df_acidentes.tipo_veiculo == 'Motocicleta']\n",
    "df_motos.shape"
   ]
  },
  {
   "cell_type": "code",
   "execution_count": null,
   "metadata": {},
   "outputs": [],
   "source": [
    "df_motos.tail()"
   ]
  },
  {
   "cell_type": "code",
   "execution_count": null,
   "metadata": {},
   "outputs": [],
   "source": []
  }
 ],
 "metadata": {
  "kernelspec": {
   "display_name": "Python 3",
   "language": "python",
   "name": "python3"
  },
  "language_info": {
   "codemirror_mode": {
    "name": "ipython",
    "version": 3
   },
   "file_extension": ".py",
   "mimetype": "text/x-python",
   "name": "python",
   "nbconvert_exporter": "python",
   "pygments_lexer": "ipython3",
   "version": "3.6.7"
  }
 },
 "nbformat": 4,
 "nbformat_minor": 2
}
