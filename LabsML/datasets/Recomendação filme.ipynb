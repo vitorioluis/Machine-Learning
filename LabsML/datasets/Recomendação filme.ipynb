{
 "cells": [
  {
   "cell_type": "code",
   "execution_count": null,
   "metadata": {},
   "outputs": [],
   "source": [
    "#  importações para tratamentos de dados\n",
    "import pandas as pd\n",
    "import numpy as np\n",
    "import matplotlib.pyplot as plt\n",
    "import seaborn as sns\n",
    "\n",
    "%matplotlib inline"
   ]
  },
  {
   "cell_type": "code",
   "execution_count": 8,
   "metadata": {},
   "outputs": [],
   "source": [
    "df = pd.read_csv('lista de filmes.csv', sep=';', encoding='latin1')"
   ]
  },
  {
   "cell_type": "code",
   "execution_count": 15,
   "metadata": {},
   "outputs": [
    {
     "data": {
      "text/html": [
       "<div>\n",
       "<style scoped>\n",
       "    .dataframe tbody tr th:only-of-type {\n",
       "        vertical-align: middle;\n",
       "    }\n",
       "\n",
       "    .dataframe tbody tr th {\n",
       "        vertical-align: top;\n",
       "    }\n",
       "\n",
       "    .dataframe thead th {\n",
       "        text-align: right;\n",
       "    }\n",
       "</style>\n",
       "<table border=\"1\" class=\"dataframe\">\n",
       "  <thead>\n",
       "    <tr style=\"text-align: right;\">\n",
       "      <th></th>\n",
       "      <th>ano_lançamento</th>\n",
       "      <th>salas_lançamento</th>\n",
       "      <th>maximo_salas_ocupadas</th>\n",
       "      <th>publico_acumulado</th>\n",
       "      <th>renda_acumulada</th>\n",
       "    </tr>\n",
       "  </thead>\n",
       "  <tbody>\n",
       "    <tr>\n",
       "      <th>count</th>\n",
       "      <td>3433.000000</td>\n",
       "      <td>3433.000000</td>\n",
       "      <td>3433.000000</td>\n",
       "      <td>3.433000e+03</td>\n",
       "      <td>3.433000e+03</td>\n",
       "    </tr>\n",
       "    <tr>\n",
       "      <th>mean</th>\n",
       "      <td>2013.399359</td>\n",
       "      <td>135.376639</td>\n",
       "      <td>135.228372</td>\n",
       "      <td>3.995178e+05</td>\n",
       "      <td>4.831028e+06</td>\n",
       "    </tr>\n",
       "    <tr>\n",
       "      <th>std</th>\n",
       "      <td>2.566679</td>\n",
       "      <td>248.139937</td>\n",
       "      <td>248.201112</td>\n",
       "      <td>1.119046e+06</td>\n",
       "      <td>1.409626e+07</td>\n",
       "    </tr>\n",
       "    <tr>\n",
       "      <th>min</th>\n",
       "      <td>2009.000000</td>\n",
       "      <td>1.000000</td>\n",
       "      <td>1.000000</td>\n",
       "      <td>7.000000e+00</td>\n",
       "      <td>3.000000e+01</td>\n",
       "    </tr>\n",
       "    <tr>\n",
       "      <th>25%</th>\n",
       "      <td>2011.000000</td>\n",
       "      <td>6.000000</td>\n",
       "      <td>6.000000</td>\n",
       "      <td>4.133000e+03</td>\n",
       "      <td>4.711824e+04</td>\n",
       "    </tr>\n",
       "    <tr>\n",
       "      <th>50%</th>\n",
       "      <td>2014.000000</td>\n",
       "      <td>23.000000</td>\n",
       "      <td>23.000000</td>\n",
       "      <td>2.256500e+04</td>\n",
       "      <td>2.801033e+05</td>\n",
       "    </tr>\n",
       "    <tr>\n",
       "      <th>75%</th>\n",
       "      <td>2016.000000</td>\n",
       "      <td>148.000000</td>\n",
       "      <td>148.000000</td>\n",
       "      <td>1.996220e+05</td>\n",
       "      <td>2.227214e+06</td>\n",
       "    </tr>\n",
       "    <tr>\n",
       "      <th>max</th>\n",
       "      <td>2017.000000</td>\n",
       "      <td>1774.000000</td>\n",
       "      <td>1774.000000</td>\n",
       "      <td>1.130548e+07</td>\n",
       "      <td>1.461849e+08</td>\n",
       "    </tr>\n",
       "  </tbody>\n",
       "</table>\n",
       "</div>"
      ],
      "text/plain": [
       "       ano_lançamento  salas_lançamento  maximo_salas_ocupadas  \\\n",
       "count     3433.000000       3433.000000            3433.000000   \n",
       "mean      2013.399359        135.376639             135.228372   \n",
       "std          2.566679        248.139937             248.201112   \n",
       "min       2009.000000          1.000000               1.000000   \n",
       "25%       2011.000000          6.000000               6.000000   \n",
       "50%       2014.000000         23.000000              23.000000   \n",
       "75%       2016.000000        148.000000             148.000000   \n",
       "max       2017.000000       1774.000000            1774.000000   \n",
       "\n",
       "       publico_acumulado  renda_acumulada  \n",
       "count       3.433000e+03     3.433000e+03  \n",
       "mean        3.995178e+05     4.831028e+06  \n",
       "std         1.119046e+06     1.409626e+07  \n",
       "min         7.000000e+00     3.000000e+01  \n",
       "25%         4.133000e+03     4.711824e+04  \n",
       "50%         2.256500e+04     2.801033e+05  \n",
       "75%         1.996220e+05     2.227214e+06  \n",
       "max         1.130548e+07     1.461849e+08  "
      ]
     },
     "execution_count": 15,
     "metadata": {},
     "output_type": "execute_result"
    }
   ],
   "source": [
    "df.describe()"
   ]
  },
  {
   "cell_type": "code",
   "execution_count": 16,
   "metadata": {},
   "outputs": [
    {
     "name": "stdout",
     "output_type": "stream",
     "text": [
      "<class 'pandas.core.frame.DataFrame'>\n",
      "RangeIndex: 3433 entries, 0 to 3432\n",
      "Data columns (total 11 columns):\n",
      "ano_lançamento           3433 non-null int64\n",
      "titulo_obra              3433 non-null object\n",
      "genero                   3433 non-null object\n",
      "pais_produtor_obra       3433 non-null object\n",
      "nacionalidade_obra       3433 non-null object\n",
      "data_lançamento          3433 non-null object\n",
      "distribuidora            3433 non-null object\n",
      "salas_lançamento         3433 non-null int64\n",
      "maximo_salas_ocupadas    3433 non-null int64\n",
      "publico_acumulado        3433 non-null int64\n",
      "renda_acumulada          3433 non-null float64\n",
      "dtypes: float64(1), int64(4), object(6)\n",
      "memory usage: 295.1+ KB\n"
     ]
    }
   ],
   "source": [
    "df.info()"
   ]
  }
 ],
 "metadata": {
  "kernelspec": {
   "display_name": "Python 3",
   "language": "python",
   "name": "python3"
  },
  "language_info": {
   "codemirror_mode": {
    "name": "ipython",
    "version": 3
   },
   "file_extension": ".py",
   "mimetype": "text/x-python",
   "name": "python",
   "nbconvert_exporter": "python",
   "pygments_lexer": "ipython3",
   "version": "3.6.7"
  }
 },
 "nbformat": 4,
 "nbformat_minor": 2
}
