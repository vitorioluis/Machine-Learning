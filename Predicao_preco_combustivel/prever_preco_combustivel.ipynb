{
 "cells": [
  {
   "cell_type": "code",
   "execution_count": 21,
   "metadata": {},
   "outputs": [],
   "source": [
    "#  importações para tratamentos de dados\n",
    "import pandas as pd\n",
    "import numpy as np\n",
    "import matplotlib.pyplot as plt\n",
    "import seaborn as sns\n",
    "\n",
    "%matplotlib inline"
   ]
  },
  {
   "cell_type": "code",
   "execution_count": 22,
   "metadata": {},
   "outputs": [],
   "source": [
    "# Imports para ML\n",
    "from sklearn.linear_model import LinearRegression\n",
    "from sklearn.model_selection import train_test_split\n",
    "from sklearn import metrics"
   ]
  },
  {
   "cell_type": "code",
   "execution_count": 23,
   "metadata": {},
   "outputs": [],
   "source": [
    "df = pd.read_csv('infopreco.csv', sep=';', encoding='latin1')"
   ]
  },
  {
   "cell_type": "code",
   "execution_count": 24,
   "metadata": {},
   "outputs": [
    {
     "data": {
      "text/html": [
       "<div>\n",
       "<style scoped>\n",
       "    .dataframe tbody tr th:only-of-type {\n",
       "        vertical-align: middle;\n",
       "    }\n",
       "\n",
       "    .dataframe tbody tr th {\n",
       "        vertical-align: top;\n",
       "    }\n",
       "\n",
       "    .dataframe thead th {\n",
       "        text-align: right;\n",
       "    }\n",
       "</style>\n",
       "<table border=\"1\" class=\"dataframe\">\n",
       "  <thead>\n",
       "    <tr style=\"text-align: right;\">\n",
       "      <th></th>\n",
       "      <th>CNPJ</th>\n",
       "      <th>NOME</th>\n",
       "      <th>ENDEREÇO</th>\n",
       "      <th>COMPLEMENTO</th>\n",
       "      <th>BAIRRO</th>\n",
       "      <th>MUNICÍPIO</th>\n",
       "      <th>UF</th>\n",
       "      <th>PRODUTO</th>\n",
       "      <th>VALOR VENDA</th>\n",
       "      <th>DATA CADASTRO</th>\n",
       "    </tr>\n",
       "  </thead>\n",
       "  <tbody>\n",
       "    <tr>\n",
       "      <th>0</th>\n",
       "      <td>62780000102</td>\n",
       "      <td>AUTO POSTO PARATI</td>\n",
       "      <td>AVENIDA FILINTO MULLER,645</td>\n",
       "      <td>NaN</td>\n",
       "      <td>CENTRO</td>\n",
       "      <td>TRES LAGOAS</td>\n",
       "      <td>MS</td>\n",
       "      <td>Gasolina C Comum</td>\n",
       "      <td>4,436</td>\n",
       "      <td>28/06/2018 17:49</td>\n",
       "    </tr>\n",
       "    <tr>\n",
       "      <th>1</th>\n",
       "      <td>62780000102</td>\n",
       "      <td>AUTO POSTO PARATI</td>\n",
       "      <td>AVENIDA FILINTO MULLER,645</td>\n",
       "      <td>NaN</td>\n",
       "      <td>CENTRO</td>\n",
       "      <td>TRES LAGOAS</td>\n",
       "      <td>MS</td>\n",
       "      <td>Etanol</td>\n",
       "      <td>3,482</td>\n",
       "      <td>28/06/2018 17:49</td>\n",
       "    </tr>\n",
       "    <tr>\n",
       "      <th>2</th>\n",
       "      <td>62780000102</td>\n",
       "      <td>AUTO POSTO PARATI</td>\n",
       "      <td>AVENIDA FILINTO MULLER,645</td>\n",
       "      <td>NaN</td>\n",
       "      <td>CENTRO</td>\n",
       "      <td>TRES LAGOAS</td>\n",
       "      <td>MS</td>\n",
       "      <td>Diesel S500</td>\n",
       "      <td>3,644</td>\n",
       "      <td>28/06/2018 17:49</td>\n",
       "    </tr>\n",
       "    <tr>\n",
       "      <th>3</th>\n",
       "      <td>62780000102</td>\n",
       "      <td>AUTO POSTO PARATI</td>\n",
       "      <td>AVENIDA FILINTO MULLER,645</td>\n",
       "      <td>NaN</td>\n",
       "      <td>CENTRO</td>\n",
       "      <td>TRES LAGOAS</td>\n",
       "      <td>MS</td>\n",
       "      <td>Diesel S10</td>\n",
       "      <td>3,734</td>\n",
       "      <td>28/06/2018 17:49</td>\n",
       "    </tr>\n",
       "    <tr>\n",
       "      <th>4</th>\n",
       "      <td>300357000195</td>\n",
       "      <td>POSTO E TRANSPORTADORA PEGORARO</td>\n",
       "      <td>RODOVIA BR 163,S/N</td>\n",
       "      <td>KM 786</td>\n",
       "      <td>ZONA RURAL</td>\n",
       "      <td>COXIM</td>\n",
       "      <td>MS</td>\n",
       "      <td>Gasolina C Comum</td>\n",
       "      <td>4,59</td>\n",
       "      <td>05/07/2018 18:55</td>\n",
       "    </tr>\n",
       "  </tbody>\n",
       "</table>\n",
       "</div>"
      ],
      "text/plain": [
       "           CNPJ                             NOME                    ENDEREÇO  \\\n",
       "0   62780000102                AUTO POSTO PARATI  AVENIDA FILINTO MULLER,645   \n",
       "1   62780000102                AUTO POSTO PARATI  AVENIDA FILINTO MULLER,645   \n",
       "2   62780000102                AUTO POSTO PARATI  AVENIDA FILINTO MULLER,645   \n",
       "3   62780000102                AUTO POSTO PARATI  AVENIDA FILINTO MULLER,645   \n",
       "4  300357000195  POSTO E TRANSPORTADORA PEGORARO          RODOVIA BR 163,S/N   \n",
       "\n",
       "  COMPLEMENTO      BAIRRO    MUNICÍPIO  UF           PRODUTO VALOR VENDA  \\\n",
       "0         NaN      CENTRO  TRES LAGOAS  MS  Gasolina C Comum       4,436   \n",
       "1         NaN      CENTRO  TRES LAGOAS  MS            Etanol       3,482   \n",
       "2         NaN      CENTRO  TRES LAGOAS  MS       Diesel S500       3,644   \n",
       "3         NaN      CENTRO  TRES LAGOAS  MS        Diesel S10       3,734   \n",
       "4      KM 786  ZONA RURAL        COXIM  MS  Gasolina C Comum        4,59   \n",
       "\n",
       "      DATA CADASTRO  \n",
       "0  28/06/2018 17:49  \n",
       "1  28/06/2018 17:49  \n",
       "2  28/06/2018 17:49  \n",
       "3  28/06/2018 17:49  \n",
       "4  05/07/2018 18:55  "
      ]
     },
     "execution_count": 24,
     "metadata": {},
     "output_type": "execute_result"
    }
   ],
   "source": [
    "df.head()"
   ]
  },
  {
   "cell_type": "code",
   "execution_count": 68,
   "metadata": {},
   "outputs": [
    {
     "name": "stdout",
     "output_type": "stream",
     "text": [
      "<class 'pandas.core.frame.DataFrame'>\n",
      "RangeIndex: 599 entries, 0 to 598\n",
      "Data columns (total 10 columns):\n",
      "CNPJ             599 non-null int64\n",
      "NOME             599 non-null object\n",
      "ENDEREÇO         599 non-null object\n",
      "COMPLEMENTO      177 non-null object\n",
      "BAIRRO           595 non-null object\n",
      "MUNICÍPIO        599 non-null object\n",
      "UF               599 non-null object\n",
      "PRODUTO          599 non-null object\n",
      "VALOR VENDA      599 non-null float64\n",
      "DATA CADASTRO    599 non-null object\n",
      "dtypes: float64(1), int64(1), object(8)\n",
      "memory usage: 46.9+ KB\n"
     ]
    }
   ],
   "source": [
    "# visualizando os tipos de classes que temos\n",
    "df.info()"
   ]
  },
  {
   "cell_type": "code",
   "execution_count": 55,
   "metadata": {},
   "outputs": [
    {
     "name": "stdout",
     "output_type": "stream",
     "text": [
      "<class 'pandas.core.frame.DataFrame'>\n",
      "RangeIndex: 599 entries, 0 to 598\n",
      "Data columns (total 10 columns):\n",
      "CNPJ             599 non-null int64\n",
      "NOME             599 non-null object\n",
      "ENDEREÇO         599 non-null object\n",
      "COMPLEMENTO      177 non-null object\n",
      "BAIRRO           595 non-null object\n",
      "MUNICÍPIO        599 non-null object\n",
      "UF               599 non-null object\n",
      "PRODUTO          599 non-null object\n",
      "VALOR VENDA      599 non-null float64\n",
      "DATA CADASTRO    599 non-null object\n",
      "dtypes: float64(1), int64(1), object(8)\n",
      "memory usage: 46.9+ KB\n"
     ]
    }
   ],
   "source": [
    "# convetendo o 'VALOR VENDA'\n",
    "df['VALOR VENDA'] = df['VALOR VENDA'].apply(lambda x : str(x).replace(',','.')).astype('float')\n",
    "df.info()"
   ]
  },
  {
   "cell_type": "code",
   "execution_count": 6,
   "metadata": {},
   "outputs": [],
   "source": [
    "# plot de calor adaptado para verificar dados faltantes\n",
    "def grafico_dados_faltantes(_df):\n",
    "    plt.figure(figsize=(15,5))\n",
    "    return sns.heatmap(_df.isnull(), yticklabels=False, cbar=False, cmap='viridis');"
   ]
  },
  {
   "cell_type": "code",
   "execution_count": 7,
   "metadata": {},
   "outputs": [
    {
     "data": {
      "image/png": "[encoded data removed]",
      "text/plain": [
       "<Figure size 1080x360 with 1 Axes>"
      ]
     },
     "metadata": {
      "needs_background": "light"
     },
     "output_type": "display_data"
    }
   ],
   "source": [
    "# gerar gráfico para verificar dados faltantes\n",
    "grafico_dados_faltantes(df);"
   ]
  },
  {
   "cell_type": "markdown",
   "metadata": {},
   "source": [
    "#### Como podemos observar no gráfico acima, a coluna COMPLEMENTO está com  muitos dados faltantes acredito que não seja uma coluna relevante para nós. Vamos exclui-la."
   ]
  },
  {
   "cell_type": "code",
   "execution_count": 8,
   "metadata": {},
   "outputs": [
    {
     "data": {
      "text/plain": [
       "Index(['CNPJ', 'NOME', 'ENDEREÇO', 'BAIRRO', 'MUNICÍPIO', 'UF', 'PRODUTO',\n",
       "       'VALOR VENDA', 'DATA CADASTRO'],\n",
       "      dtype='object')"
      ]
     },
     "execution_count": 8,
     "metadata": {},
     "output_type": "execute_result"
    }
   ],
   "source": [
    "df.drop(['COMPLEMENTO'], axis=1, inplace=True)\n",
    "df.columns"
   ]
  },
  {
   "cell_type": "markdown",
   "metadata": {},
   "source": [
    "#### Agora vamos dar uma olhada na coluna BAIRRO os valores que estiverem Nan e vamos preencher com \"Bairro não cadastrado\""
   ]
  },
  {
   "cell_type": "code",
   "execution_count": 9,
   "metadata": {},
   "outputs": [],
   "source": [
    "df['BAIRRO'].fillna(('Bairro não cadastrado'), inplace=True)"
   ]
  },
  {
   "cell_type": "code",
   "execution_count": 10,
   "metadata": {},
   "outputs": [
    {
     "data": {
      "image/png": "[encoded data removed]",
      "text/plain": [
       "<Figure size 1080x360 with 1 Axes>"
      ]
     },
     "metadata": {
      "needs_background": "light"
     },
     "output_type": "display_data"
    }
   ],
   "source": [
    "grafico_dados_faltantes(df);"
   ]
  },
  {
   "cell_type": "markdown",
   "metadata": {},
   "source": [
    "#### Agora que o conjunto de dados original está tudo ok, vamos partir para predição \n",
    "#### Temos muitas variaveis descritivas vamos ter que testar algumas variaveis e converter em dummy"
   ]
  },
  {
   "cell_type": "code",
   "execution_count": 90,
   "metadata": {},
   "outputs": [
    {
     "data": {
      "text/plain": [
       "Index(['CNPJ', 'NOME', 'ENDEREÇO', 'COMPLEMENTO', 'BAIRRO', 'MUNICÍPIO', 'UF',\n",
       "       'PRODUTO', 'VALOR VENDA', 'DATA CADASTRO'],\n",
       "      dtype='object')"
      ]
     },
     "execution_count": 90,
     "metadata": {},
     "output_type": "execute_result"
    }
   ],
   "source": [
    "df.columns"
   ]
  },
  {
   "cell_type": "code",
   "execution_count": 112,
   "metadata": {},
   "outputs": [
    {
     "data": {
      "text/plain": [
       "array(['TRES LAGOAS', 'COXIM', 'SAO LUIS', \"MACHADINHO D'OESTE\",\n",
       "       'CAMPO GRANDE', 'BRASILIA', 'CAMPINAS', 'CRISTALINA',\n",
       "       'PIRES DO RIO', 'SAO JOSE DOS PINHAIS', 'CATAGUASES', 'TERESINA',\n",
       "       'PINHEIRO MACHADO', 'RIBAS DO RIO PARDO', 'BELO JARDIM', 'ARACUAI',\n",
       "       'VIAMAO', 'ITAJAI', 'FIGUEIROPOLIS', 'FORMOSA', 'PORANGATU',\n",
       "       'LEME', 'ANDRADAS', 'GUARAI', 'ALTO ALEGRE DOS PARECIS', 'CHAPECO',\n",
       "       'SERTANOPOLIS', 'SANTO ANTONIO DE PADUA', 'JARU',\n",
       "       'SAO MIGUEL DO GUAPORE', 'NOVA ANDRADINA', 'DUQUE DE CAXIAS',\n",
       "       'ITABORAI', 'CACERES', 'BELEM', 'BURITIS', 'RIO DE JANEIRO',\n",
       "       'POUSO ALEGRE', 'CORUMBA', 'MUNDO NOVO', 'PORTO VELHO', 'MACAE',\n",
       "       'PALMAS', 'TUCURUI', 'BOM PRINCIPIO', 'VILA BOA', 'GUARATINGUETA',\n",
       "       'TRAIRAO', 'BALSA NOVA', 'QUEIMADOS', 'MIRANDA', 'CURITIBA',\n",
       "       'CASCAVEL', 'PONTALINA', 'ARIQUEMES', 'ROLIM DE MOURA', 'MINEIROS',\n",
       "       'MACAIBA', 'CACHOEIRINHA', 'ARAGUAINA', 'OURO PRETO DO OESTE',\n",
       "       'CICERO DANTAS', 'ITAPORA', 'SENADOR SA', 'CANOAS', 'SOUSA',\n",
       "       'PASSO FUNDO', 'INDAIATUBA', 'SAO PAULO', 'DOURADOS', 'JAU',\n",
       "       'UBATUBA', 'CAMPOS DO JORDAO', 'ARACAJU', 'ESTRELA DO NORTE',\n",
       "       'BARREIRINHAS', 'ESTANCIA VELHA', 'EDEALINA', 'CORBELIA',\n",
       "       'PARNAMIRIM', 'CAFELANDIA', 'VARGINHA', 'POA', 'ASSIS',\n",
       "       'JI-PARANA', 'SAO JOSE DE MIPIBU', 'PELOTAS',\n",
       "       'CAMPOS DOS GOYTACAZES', 'GOIATUBA', 'SAO BERNARDO DO CAMPO',\n",
       "       'BIRIGUI', 'VIDEIRA', 'GUARAPUAVA', 'FLORIANOPOLIS', 'COLIDER',\n",
       "       'JATAI', 'CONTAGEM', 'SAO MIGUEL DO OESTE', 'BRUSQUE',\n",
       "       'NOVA CANAA DO NORTE', 'RECIFE', 'MARACAJU', 'SAO JOSE DE RIBAMAR',\n",
       "       'TAUBATE', 'MACAUBAS', 'ARAGUATINS', 'RIO BRILHANTE', 'PIO IX',\n",
       "       'BUENOPOLIS', 'SAO MANUEL', 'CACAPAVA', 'EXU', 'TREZE DE MAIO',\n",
       "       'BLUMENAU', 'OURO VERDE', 'JARAGUA DO SUL', 'CACHOEIRA DO SUL',\n",
       "       'NOVO HAMBURGO', 'CACAPAVA DO SUL'], dtype=object)"
      ]
     },
     "execution_count": 112,
     "metadata": {},
     "output_type": "execute_result"
    }
   ],
   "source": [
    "df['MUNICÍPIO'].unique()"
   ]
  },
  {
   "cell_type": "code",
   "execution_count": 30,
   "metadata": {},
   "outputs": [
    {
     "data": {
      "text/html": [
       "<div>\n",
       "<style scoped>\n",
       "    .dataframe tbody tr th:only-of-type {\n",
       "        vertical-align: middle;\n",
       "    }\n",
       "\n",
       "    .dataframe tbody tr th {\n",
       "        vertical-align: top;\n",
       "    }\n",
       "\n",
       "    .dataframe thead th {\n",
       "        text-align: right;\n",
       "    }\n",
       "</style>\n",
       "<table border=\"1\" class=\"dataframe\">\n",
       "  <thead>\n",
       "    <tr style=\"text-align: right;\">\n",
       "      <th></th>\n",
       "      <th>PRODUTO</th>\n",
       "    </tr>\n",
       "    <tr>\n",
       "      <th>PRODUTO</th>\n",
       "      <th></th>\n",
       "    </tr>\n",
       "  </thead>\n",
       "  <tbody>\n",
       "    <tr>\n",
       "      <th>Diesel S10</th>\n",
       "      <td>159</td>\n",
       "    </tr>\n",
       "    <tr>\n",
       "      <th>Diesel S500</th>\n",
       "      <td>121</td>\n",
       "    </tr>\n",
       "    <tr>\n",
       "      <th>Etanol</th>\n",
       "      <td>131</td>\n",
       "    </tr>\n",
       "    <tr>\n",
       "      <th>GNV</th>\n",
       "      <td>13</td>\n",
       "    </tr>\n",
       "    <tr>\n",
       "      <th>Gasolina C Comum</th>\n",
       "      <td>175</td>\n",
       "    </tr>\n",
       "  </tbody>\n",
       "</table>\n",
       "</div>"
      ],
      "text/plain": [
       "                  PRODUTO\n",
       "PRODUTO                  \n",
       "Diesel S10            159\n",
       "Diesel S500           121\n",
       "Etanol                131\n",
       "GNV                    13\n",
       "Gasolina C Comum      175"
      ]
     },
     "execution_count": 30,
     "metadata": {},
     "output_type": "execute_result"
    }
   ],
   "source": [
    "campos = ['PRODUTO']\n",
    "df.groupby(campos)[campos].count()"
   ]
  },
  {
   "cell_type": "code",
   "execution_count": 31,
   "metadata": {},
   "outputs": [
    {
     "data": {
      "text/plain": [
       "Index(['CNPJ', 'NOME', 'ENDEREÇO', 'COMPLEMENTO', 'BAIRRO', 'MUNICÍPIO', 'UF',\n",
       "       'PRODUTO', 'VALOR VENDA', 'DATA CADASTRO'],\n",
       "      dtype='object')"
      ]
     },
     "execution_count": 31,
     "metadata": {},
     "output_type": "execute_result"
    }
   ],
   "source": [
    "df.columns"
   ]
  },
  {
   "cell_type": "code",
   "execution_count": 113,
   "metadata": {},
   "outputs": [
    {
     "data": {
      "text/html": [
       "<div>\n",
       "<style scoped>\n",
       "    .dataframe tbody tr th:only-of-type {\n",
       "        vertical-align: middle;\n",
       "    }\n",
       "\n",
       "    .dataframe tbody tr th {\n",
       "        vertical-align: top;\n",
       "    }\n",
       "\n",
       "    .dataframe thead th {\n",
       "        text-align: right;\n",
       "    }\n",
       "</style>\n",
       "<table border=\"1\" class=\"dataframe\">\n",
       "  <thead>\n",
       "    <tr style=\"text-align: right;\">\n",
       "      <th></th>\n",
       "      <th>UF</th>\n",
       "      <th>PRODUTO</th>\n",
       "      <th>VALOR VENDA</th>\n",
       "    </tr>\n",
       "  </thead>\n",
       "  <tbody>\n",
       "    <tr>\n",
       "      <th>0</th>\n",
       "      <td>MS</td>\n",
       "      <td>Gasolina C Comum</td>\n",
       "      <td>4.436</td>\n",
       "    </tr>\n",
       "    <tr>\n",
       "      <th>1</th>\n",
       "      <td>MS</td>\n",
       "      <td>Etanol</td>\n",
       "      <td>3.482</td>\n",
       "    </tr>\n",
       "    <tr>\n",
       "      <th>2</th>\n",
       "      <td>MS</td>\n",
       "      <td>Diesel S500</td>\n",
       "      <td>3.644</td>\n",
       "    </tr>\n",
       "    <tr>\n",
       "      <th>3</th>\n",
       "      <td>MS</td>\n",
       "      <td>Diesel S10</td>\n",
       "      <td>3.734</td>\n",
       "    </tr>\n",
       "    <tr>\n",
       "      <th>4</th>\n",
       "      <td>MS</td>\n",
       "      <td>Gasolina C Comum</td>\n",
       "      <td>4.590</td>\n",
       "    </tr>\n",
       "  </tbody>\n",
       "</table>\n",
       "</div>"
      ],
      "text/plain": [
       "   UF           PRODUTO  VALOR VENDA\n",
       "0  MS  Gasolina C Comum        4.436\n",
       "1  MS            Etanol        3.482\n",
       "2  MS       Diesel S500        3.644\n",
       "3  MS        Diesel S10        3.734\n",
       "4  MS  Gasolina C Comum        4.590"
      ]
     },
     "execution_count": 113,
     "metadata": {},
     "output_type": "execute_result"
    }
   ],
   "source": [
    "# depois de realizar alguns testes, percebi que o rmse sobe muito com outras variáves\n",
    "# selecionei somente estás 3 variáveis \n",
    "df2 = df[['UF','PRODUTO', 'VALOR VENDA']]\n",
    "df2.head()"
   ]
  },
  {
   "cell_type": "code",
   "execution_count": 114,
   "metadata": {},
   "outputs": [
    {
     "data": {
      "text/html": [
       "<div>\n",
       "<style scoped>\n",
       "    .dataframe tbody tr th:only-of-type {\n",
       "        vertical-align: middle;\n",
       "    }\n",
       "\n",
       "    .dataframe tbody tr th {\n",
       "        vertical-align: top;\n",
       "    }\n",
       "\n",
       "    .dataframe thead th {\n",
       "        text-align: right;\n",
       "    }\n",
       "</style>\n",
       "<table border=\"1\" class=\"dataframe\">\n",
       "  <thead>\n",
       "    <tr style=\"text-align: right;\">\n",
       "      <th></th>\n",
       "      <th>VALOR VENDA</th>\n",
       "      <th>UF_CE</th>\n",
       "      <th>UF_DF</th>\n",
       "      <th>UF_GO</th>\n",
       "      <th>UF_MA</th>\n",
       "      <th>UF_MG</th>\n",
       "      <th>UF_MS</th>\n",
       "      <th>UF_MT</th>\n",
       "      <th>UF_PA</th>\n",
       "      <th>UF_PB</th>\n",
       "      <th>...</th>\n",
       "      <th>UF_RO</th>\n",
       "      <th>UF_RS</th>\n",
       "      <th>UF_SC</th>\n",
       "      <th>UF_SE</th>\n",
       "      <th>UF_SP</th>\n",
       "      <th>UF_TO</th>\n",
       "      <th>PRODUTO_Diesel S500</th>\n",
       "      <th>PRODUTO_Etanol</th>\n",
       "      <th>PRODUTO_GNV</th>\n",
       "      <th>PRODUTO_Gasolina C Comum</th>\n",
       "    </tr>\n",
       "  </thead>\n",
       "  <tbody>\n",
       "    <tr>\n",
       "      <th>0</th>\n",
       "      <td>4.436</td>\n",
       "      <td>0</td>\n",
       "      <td>0</td>\n",
       "      <td>0</td>\n",
       "      <td>0</td>\n",
       "      <td>0</td>\n",
       "      <td>1</td>\n",
       "      <td>0</td>\n",
       "      <td>0</td>\n",
       "      <td>0</td>\n",
       "      <td>...</td>\n",
       "      <td>0</td>\n",
       "      <td>0</td>\n",
       "      <td>0</td>\n",
       "      <td>0</td>\n",
       "      <td>0</td>\n",
       "      <td>0</td>\n",
       "      <td>0</td>\n",
       "      <td>0</td>\n",
       "      <td>0</td>\n",
       "      <td>1</td>\n",
       "    </tr>\n",
       "    <tr>\n",
       "      <th>1</th>\n",
       "      <td>3.482</td>\n",
       "      <td>0</td>\n",
       "      <td>0</td>\n",
       "      <td>0</td>\n",
       "      <td>0</td>\n",
       "      <td>0</td>\n",
       "      <td>1</td>\n",
       "      <td>0</td>\n",
       "      <td>0</td>\n",
       "      <td>0</td>\n",
       "      <td>...</td>\n",
       "      <td>0</td>\n",
       "      <td>0</td>\n",
       "      <td>0</td>\n",
       "      <td>0</td>\n",
       "      <td>0</td>\n",
       "      <td>0</td>\n",
       "      <td>0</td>\n",
       "      <td>1</td>\n",
       "      <td>0</td>\n",
       "      <td>0</td>\n",
       "    </tr>\n",
       "    <tr>\n",
       "      <th>2</th>\n",
       "      <td>3.644</td>\n",
       "      <td>0</td>\n",
       "      <td>0</td>\n",
       "      <td>0</td>\n",
       "      <td>0</td>\n",
       "      <td>0</td>\n",
       "      <td>1</td>\n",
       "      <td>0</td>\n",
       "      <td>0</td>\n",
       "      <td>0</td>\n",
       "      <td>...</td>\n",
       "      <td>0</td>\n",
       "      <td>0</td>\n",
       "      <td>0</td>\n",
       "      <td>0</td>\n",
       "      <td>0</td>\n",
       "      <td>0</td>\n",
       "      <td>1</td>\n",
       "      <td>0</td>\n",
       "      <td>0</td>\n",
       "      <td>0</td>\n",
       "    </tr>\n",
       "    <tr>\n",
       "      <th>3</th>\n",
       "      <td>3.734</td>\n",
       "      <td>0</td>\n",
       "      <td>0</td>\n",
       "      <td>0</td>\n",
       "      <td>0</td>\n",
       "      <td>0</td>\n",
       "      <td>1</td>\n",
       "      <td>0</td>\n",
       "      <td>0</td>\n",
       "      <td>0</td>\n",
       "      <td>...</td>\n",
       "      <td>0</td>\n",
       "      <td>0</td>\n",
       "      <td>0</td>\n",
       "      <td>0</td>\n",
       "      <td>0</td>\n",
       "      <td>0</td>\n",
       "      <td>0</td>\n",
       "      <td>0</td>\n",
       "      <td>0</td>\n",
       "      <td>0</td>\n",
       "    </tr>\n",
       "    <tr>\n",
       "      <th>4</th>\n",
       "      <td>4.590</td>\n",
       "      <td>0</td>\n",
       "      <td>0</td>\n",
       "      <td>0</td>\n",
       "      <td>0</td>\n",
       "      <td>0</td>\n",
       "      <td>1</td>\n",
       "      <td>0</td>\n",
       "      <td>0</td>\n",
       "      <td>0</td>\n",
       "      <td>...</td>\n",
       "      <td>0</td>\n",
       "      <td>0</td>\n",
       "      <td>0</td>\n",
       "      <td>0</td>\n",
       "      <td>0</td>\n",
       "      <td>0</td>\n",
       "      <td>0</td>\n",
       "      <td>0</td>\n",
       "      <td>0</td>\n",
       "      <td>1</td>\n",
       "    </tr>\n",
       "  </tbody>\n",
       "</table>\n",
       "<p>5 rows × 25 columns</p>\n",
       "</div>"
      ],
      "text/plain": [
       "   VALOR VENDA  UF_CE  UF_DF  UF_GO  UF_MA  UF_MG  UF_MS  UF_MT  UF_PA  UF_PB  \\\n",
       "0        4.436      0      0      0      0      0      1      0      0      0   \n",
       "1        3.482      0      0      0      0      0      1      0      0      0   \n",
       "2        3.644      0      0      0      0      0      1      0      0      0   \n",
       "3        3.734      0      0      0      0      0      1      0      0      0   \n",
       "4        4.590      0      0      0      0      0      1      0      0      0   \n",
       "\n",
       "   ...  UF_RO  UF_RS  UF_SC  UF_SE  UF_SP  UF_TO  PRODUTO_Diesel S500  \\\n",
       "0  ...      0      0      0      0      0      0                    0   \n",
       "1  ...      0      0      0      0      0      0                    0   \n",
       "2  ...      0      0      0      0      0      0                    1   \n",
       "3  ...      0      0      0      0      0      0                    0   \n",
       "4  ...      0      0      0      0      0      0                    0   \n",
       "\n",
       "   PRODUTO_Etanol  PRODUTO_GNV  PRODUTO_Gasolina C Comum  \n",
       "0               0            0                         1  \n",
       "1               1            0                         0  \n",
       "2               0            0                         0  \n",
       "3               0            0                         0  \n",
       "4               0            0                         1  \n",
       "\n",
       "[5 rows x 25 columns]"
      ]
     },
     "execution_count": 114,
     "metadata": {},
     "output_type": "execute_result"
    }
   ],
   "source": [
    "df_dummy=pd.get_dummies(df2,columns=['UF','PRODUTO'], drop_first=True)\n",
    "df_dummy.head()"
   ]
  },
  {
   "cell_type": "code",
   "execution_count": 115,
   "metadata": {},
   "outputs": [],
   "source": [
    "\n",
    "x = df_dummy.drop('VALOR VENDA', axis=1)\n",
    "y = df_dummy['VALOR VENDA']"
   ]
  },
  {
   "cell_type": "code",
   "execution_count": 116,
   "metadata": {},
   "outputs": [],
   "source": [
    "x_train, x_test, y_train, y_teste = train_test_split(x,y, test_size=0.33)"
   ]
  },
  {
   "cell_type": "code",
   "execution_count": 117,
   "metadata": {},
   "outputs": [],
   "source": [
    "lm = LinearRegression()"
   ]
  },
  {
   "cell_type": "code",
   "execution_count": 118,
   "metadata": {},
   "outputs": [
    {
     "data": {
      "text/plain": [
       "LinearRegression(copy_X=True, fit_intercept=True, n_jobs=None,\n",
       "         normalize=False)"
      ]
     },
     "execution_count": 118,
     "metadata": {},
     "output_type": "execute_result"
    }
   ],
   "source": [
    "lm.fit(x_train,y_train)"
   ]
  },
  {
   "cell_type": "code",
   "execution_count": 119,
   "metadata": {},
   "outputs": [
    {
     "data": {
      "text/plain": [
       "3.986192767070431"
      ]
     },
     "execution_count": 119,
     "metadata": {},
     "output_type": "execute_result"
    }
   ],
   "source": [
    "lm.intercept_"
   ]
  },
  {
   "cell_type": "code",
   "execution_count": 120,
   "metadata": {},
   "outputs": [
    {
     "data": {
      "text/html": [
       "<div>\n",
       "<style scoped>\n",
       "    .dataframe tbody tr th:only-of-type {\n",
       "        vertical-align: middle;\n",
       "    }\n",
       "\n",
       "    .dataframe tbody tr th {\n",
       "        vertical-align: top;\n",
       "    }\n",
       "\n",
       "    .dataframe thead th {\n",
       "        text-align: right;\n",
       "    }\n",
       "</style>\n",
       "<table border=\"1\" class=\"dataframe\">\n",
       "  <thead>\n",
       "    <tr style=\"text-align: right;\">\n",
       "      <th></th>\n",
       "      <th>Coeficiente</th>\n",
       "    </tr>\n",
       "  </thead>\n",
       "  <tbody>\n",
       "    <tr>\n",
       "      <th>UF_CE</th>\n",
       "      <td>-0.099655</td>\n",
       "    </tr>\n",
       "    <tr>\n",
       "      <th>UF_DF</th>\n",
       "      <td>-0.279007</td>\n",
       "    </tr>\n",
       "    <tr>\n",
       "      <th>UF_GO</th>\n",
       "      <td>-0.209753</td>\n",
       "    </tr>\n",
       "    <tr>\n",
       "      <th>UF_MA</th>\n",
       "      <td>-0.379716</td>\n",
       "    </tr>\n",
       "    <tr>\n",
       "      <th>UF_MG</th>\n",
       "      <td>-0.132842</td>\n",
       "    </tr>\n",
       "    <tr>\n",
       "      <th>UF_MS</th>\n",
       "      <td>-0.380764</td>\n",
       "    </tr>\n",
       "    <tr>\n",
       "      <th>UF_MT</th>\n",
       "      <td>-0.068919</td>\n",
       "    </tr>\n",
       "    <tr>\n",
       "      <th>UF_PA</th>\n",
       "      <td>-0.040796</td>\n",
       "    </tr>\n",
       "    <tr>\n",
       "      <th>UF_PB</th>\n",
       "      <td>-0.187193</td>\n",
       "    </tr>\n",
       "    <tr>\n",
       "      <th>UF_PE</th>\n",
       "      <td>-0.193058</td>\n",
       "    </tr>\n",
       "    <tr>\n",
       "      <th>UF_PI</th>\n",
       "      <td>-0.225769</td>\n",
       "    </tr>\n",
       "    <tr>\n",
       "      <th>UF_PR</th>\n",
       "      <td>-0.629214</td>\n",
       "    </tr>\n",
       "    <tr>\n",
       "      <th>UF_RJ</th>\n",
       "      <td>-0.003171</td>\n",
       "    </tr>\n",
       "    <tr>\n",
       "      <th>UF_RN</th>\n",
       "      <td>-0.312580</td>\n",
       "    </tr>\n",
       "    <tr>\n",
       "      <th>UF_RO</th>\n",
       "      <td>-0.080156</td>\n",
       "    </tr>\n",
       "    <tr>\n",
       "      <th>UF_RS</th>\n",
       "      <td>-0.391119</td>\n",
       "    </tr>\n",
       "    <tr>\n",
       "      <th>UF_SC</th>\n",
       "      <td>-0.552161</td>\n",
       "    </tr>\n",
       "    <tr>\n",
       "      <th>UF_SE</th>\n",
       "      <td>-0.135142</td>\n",
       "    </tr>\n",
       "    <tr>\n",
       "      <th>UF_SP</th>\n",
       "      <td>-0.619507</td>\n",
       "    </tr>\n",
       "    <tr>\n",
       "      <th>UF_TO</th>\n",
       "      <td>-0.226188</td>\n",
       "    </tr>\n",
       "    <tr>\n",
       "      <th>PRODUTO_Diesel S500</th>\n",
       "      <td>-0.076811</td>\n",
       "    </tr>\n",
       "    <tr>\n",
       "      <th>PRODUTO_Etanol</th>\n",
       "      <td>-0.337000</td>\n",
       "    </tr>\n",
       "    <tr>\n",
       "      <th>PRODUTO_GNV</th>\n",
       "      <td>-0.717494</td>\n",
       "    </tr>\n",
       "    <tr>\n",
       "      <th>PRODUTO_Gasolina C Comum</th>\n",
       "      <td>0.980847</td>\n",
       "    </tr>\n",
       "  </tbody>\n",
       "</table>\n",
       "</div>"
      ],
      "text/plain": [
       "                          Coeficiente\n",
       "UF_CE                       -0.099655\n",
       "UF_DF                       -0.279007\n",
       "UF_GO                       -0.209753\n",
       "UF_MA                       -0.379716\n",
       "UF_MG                       -0.132842\n",
       "UF_MS                       -0.380764\n",
       "UF_MT                       -0.068919\n",
       "UF_PA                       -0.040796\n",
       "UF_PB                       -0.187193\n",
       "UF_PE                       -0.193058\n",
       "UF_PI                       -0.225769\n",
       "UF_PR                       -0.629214\n",
       "UF_RJ                       -0.003171\n",
       "UF_RN                       -0.312580\n",
       "UF_RO                       -0.080156\n",
       "UF_RS                       -0.391119\n",
       "UF_SC                       -0.552161\n",
       "UF_SE                       -0.135142\n",
       "UF_SP                       -0.619507\n",
       "UF_TO                       -0.226188\n",
       "PRODUTO_Diesel S500         -0.076811\n",
       "PRODUTO_Etanol              -0.337000\n",
       "PRODUTO_GNV                 -0.717494\n",
       "PRODUTO_Gasolina C Comum     0.980847"
      ]
     },
     "execution_count": 120,
     "metadata": {},
     "output_type": "execute_result"
    }
   ],
   "source": [
    "coeff = pd.DataFrame(lm.coef_,x.columns, columns=['Coeficiente'])\n",
    "coeff"
   ]
  },
  {
   "cell_type": "code",
   "execution_count": 121,
   "metadata": {},
   "outputs": [],
   "source": [
    "predicao = lm.predict(x_test)"
   ]
  },
  {
   "cell_type": "code",
   "execution_count": 126,
   "metadata": {},
   "outputs": [
    {
     "name": "stdout",
     "output_type": "stream",
     "text": [
      "RMSE: 0.40670804982252784\n"
     ]
    }
   ],
   "source": [
    "# O RMSE com estas colunas foi baixo\n",
    "print('RMSE:', np.sqrt(metrics.mean_squared_error(y_teste,predicao)))"
   ]
  },
  {
   "cell_type": "code",
   "execution_count": 142,
   "metadata": {},
   "outputs": [
    {
     "data": {
      "image/png": "[encoded data removed]",
      "text/plain": [
       "<Figure size 432x288 with 1 Axes>"
      ]
     },
     "metadata": {
      "needs_background": "light"
     },
     "output_type": "display_data"
    }
   ],
   "source": [
    "plt.scatter(y_teste, predicao);"
   ]
  },
  {
   "cell_type": "code",
   "execution_count": 124,
   "metadata": {},
   "outputs": [
    {
     "data": {
      "image/png": "[encoded data removed]",
      "text/plain": [
       "<Figure size 432x288 with 1 Axes>"
      ]
     },
     "metadata": {
      "needs_background": "light"
     },
     "output_type": "display_data"
    }
   ],
   "source": [
    "residuos = y_teste - predicao\n",
    "sns.distplot(residuos, bins=20);"
   ]
  },
  {
   "cell_type": "code",
   "execution_count": 127,
   "metadata": {},
   "outputs": [
    {
     "data": {
      "text/plain": [
       "80    -0.017286\n",
       "596    0.890926\n",
       "413   -0.276439\n",
       "408   -0.530686\n",
       "378    0.384571\n",
       "177   -0.457884\n",
       "242    1.091814\n",
       "449    0.214604\n",
       "322    0.034968\n",
       "277    0.151467\n",
       "548    0.052649\n",
       "248    0.210372\n",
       "526    0.252978\n",
       "368   -0.064351\n",
       "587   -0.575921\n",
       "389    0.645802\n",
       "122   -0.036884\n",
       "240   -1.989692\n",
       "313    0.033116\n",
       "538    0.161382\n",
       "283    0.193079\n",
       "342   -0.245037\n",
       "284    0.070737\n",
       "487   -0.074982\n",
       "250   -0.196884\n",
       "12    -0.086884\n",
       "476   -0.337540\n",
       "401   -0.119263\n",
       "531    0.049996\n",
       "52    -0.334982\n",
       "         ...   \n",
       "397   -0.730686\n",
       "345   -0.070628\n",
       "15    -0.270429\n",
       "176   -0.046429\n",
       "496    0.022561\n",
       "344   -0.310439\n",
       "203    0.291571\n",
       "73     0.475996\n",
       "170    0.321571\n",
       "134    0.235131\n",
       "421   -0.230686\n",
       "478   -0.015879\n",
       "236   -0.309226\n",
       "288   -0.096074\n",
       "188    0.160021\n",
       "407    0.051467\n",
       "109    0.063021\n",
       "253   -0.275460\n",
       "336    0.041714\n",
       "471   -0.319439\n",
       "437   -0.387884\n",
       "64     0.423079\n",
       "470    0.392714\n",
       "285   -0.180847\n",
       "229    0.040462\n",
       "58     0.293460\n",
       "532    0.003724\n",
       "232   -0.440439\n",
       "221    0.174571\n",
       "388    0.260571\n",
       "Name: VALOR VENDA, Length: 198, dtype: float64"
      ]
     },
     "execution_count": 127,
     "metadata": {},
     "output_type": "execute_result"
    }
   ],
   "source": [
    "residuos"
   ]
  },
  {
   "cell_type": "code",
   "execution_count": null,
   "metadata": {},
   "outputs": [],
   "source": []
  }
 ],
 "metadata": {
  "kernelspec": {
   "display_name": "Python 3",
   "language": "python",
   "name": "python3"
  },
  "language_info": {
   "codemirror_mode": {
    "name": "ipython",
    "version": 3
   },
   "file_extension": ".py",
   "mimetype": "text/x-python",
   "name": "python",
   "nbconvert_exporter": "python",
   "pygments_lexer": "ipython3",
   "version": "3.6.7"
  }
 },
 "nbformat": 4,
 "nbformat_minor": 2
}
