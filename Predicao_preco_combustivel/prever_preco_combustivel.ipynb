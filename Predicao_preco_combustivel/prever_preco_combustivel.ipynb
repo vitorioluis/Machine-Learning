{
 "cells": [
  {
   "cell_type": "code",
   "execution_count": 3,
   "metadata": {},
   "outputs": [],
   "source": [
    "#  importações para tratamentos de dados\n",
    "import pandas as pd\n",
    "import numpy as np\n",
    "import matplotlib.pyplot as plt\n",
    "import seaborn as sns\n",
    "\n",
    "%matplotlib inline"
   ]
  },
  {
   "cell_type": "code",
   "execution_count": 25,
   "metadata": {},
   "outputs": [],
   "source": [
    "# Imports para ML\n",
    "from sklearn.linear_model import LinearRegression\n",
    "from sklearn.model_selection import train_test_split\n",
    "from sklearn import metrics"
   ]
  },
  {
   "cell_type": "code",
   "execution_count": 26,
   "metadata": {},
   "outputs": [],
   "source": [
    "df = pd.read_csv('infopreco.csv', sep=';', encoding='latin1')"
   ]
  },
  {
   "cell_type": "code",
   "execution_count": 27,
   "metadata": {},
   "outputs": [
    {
     "data": {
      "text/html": [
       "<div>\n",
       "<style scoped>\n",
       "    .dataframe tbody tr th:only-of-type {\n",
       "        vertical-align: middle;\n",
       "    }\n",
       "\n",
       "    .dataframe tbody tr th {\n",
       "        vertical-align: top;\n",
       "    }\n",
       "\n",
       "    .dataframe thead th {\n",
       "        text-align: right;\n",
       "    }\n",
       "</style>\n",
       "<table border=\"1\" class=\"dataframe\">\n",
       "  <thead>\n",
       "    <tr style=\"text-align: right;\">\n",
       "      <th></th>\n",
       "      <th>CNPJ</th>\n",
       "      <th>NOME</th>\n",
       "      <th>ENDEREÇO</th>\n",
       "      <th>COMPLEMENTO</th>\n",
       "      <th>BAIRRO</th>\n",
       "      <th>MUNICÍPIO</th>\n",
       "      <th>UF</th>\n",
       "      <th>PRODUTO</th>\n",
       "      <th>VALOR VENDA</th>\n",
       "      <th>DATA CADASTRO</th>\n",
       "    </tr>\n",
       "  </thead>\n",
       "  <tbody>\n",
       "    <tr>\n",
       "      <th>0</th>\n",
       "      <td>62780000102</td>\n",
       "      <td>AUTO POSTO PARATI</td>\n",
       "      <td>AVENIDA FILINTO MULLER,645</td>\n",
       "      <td>NaN</td>\n",
       "      <td>CENTRO</td>\n",
       "      <td>TRES LAGOAS</td>\n",
       "      <td>MS</td>\n",
       "      <td>Gasolina C Comum</td>\n",
       "      <td>4,436</td>\n",
       "      <td>28/06/2018 17:49</td>\n",
       "    </tr>\n",
       "    <tr>\n",
       "      <th>1</th>\n",
       "      <td>62780000102</td>\n",
       "      <td>AUTO POSTO PARATI</td>\n",
       "      <td>AVENIDA FILINTO MULLER,645</td>\n",
       "      <td>NaN</td>\n",
       "      <td>CENTRO</td>\n",
       "      <td>TRES LAGOAS</td>\n",
       "      <td>MS</td>\n",
       "      <td>Etanol</td>\n",
       "      <td>3,482</td>\n",
       "      <td>28/06/2018 17:49</td>\n",
       "    </tr>\n",
       "    <tr>\n",
       "      <th>2</th>\n",
       "      <td>62780000102</td>\n",
       "      <td>AUTO POSTO PARATI</td>\n",
       "      <td>AVENIDA FILINTO MULLER,645</td>\n",
       "      <td>NaN</td>\n",
       "      <td>CENTRO</td>\n",
       "      <td>TRES LAGOAS</td>\n",
       "      <td>MS</td>\n",
       "      <td>Diesel S500</td>\n",
       "      <td>3,644</td>\n",
       "      <td>28/06/2018 17:49</td>\n",
       "    </tr>\n",
       "    <tr>\n",
       "      <th>3</th>\n",
       "      <td>62780000102</td>\n",
       "      <td>AUTO POSTO PARATI</td>\n",
       "      <td>AVENIDA FILINTO MULLER,645</td>\n",
       "      <td>NaN</td>\n",
       "      <td>CENTRO</td>\n",
       "      <td>TRES LAGOAS</td>\n",
       "      <td>MS</td>\n",
       "      <td>Diesel S10</td>\n",
       "      <td>3,734</td>\n",
       "      <td>28/06/2018 17:49</td>\n",
       "    </tr>\n",
       "    <tr>\n",
       "      <th>4</th>\n",
       "      <td>300357000195</td>\n",
       "      <td>POSTO E TRANSPORTADORA PEGORARO</td>\n",
       "      <td>RODOVIA BR 163,S/N</td>\n",
       "      <td>KM 786</td>\n",
       "      <td>ZONA RURAL</td>\n",
       "      <td>COXIM</td>\n",
       "      <td>MS</td>\n",
       "      <td>Gasolina C Comum</td>\n",
       "      <td>4,59</td>\n",
       "      <td>05/07/2018 18:55</td>\n",
       "    </tr>\n",
       "  </tbody>\n",
       "</table>\n",
       "</div>"
      ],
      "text/plain": [
       "           CNPJ                             NOME                    ENDEREÇO  \\\n",
       "0   62780000102                AUTO POSTO PARATI  AVENIDA FILINTO MULLER,645   \n",
       "1   62780000102                AUTO POSTO PARATI  AVENIDA FILINTO MULLER,645   \n",
       "2   62780000102                AUTO POSTO PARATI  AVENIDA FILINTO MULLER,645   \n",
       "3   62780000102                AUTO POSTO PARATI  AVENIDA FILINTO MULLER,645   \n",
       "4  300357000195  POSTO E TRANSPORTADORA PEGORARO          RODOVIA BR 163,S/N   \n",
       "\n",
       "  COMPLEMENTO      BAIRRO    MUNICÍPIO  UF           PRODUTO VALOR VENDA  \\\n",
       "0         NaN      CENTRO  TRES LAGOAS  MS  Gasolina C Comum       4,436   \n",
       "1         NaN      CENTRO  TRES LAGOAS  MS            Etanol       3,482   \n",
       "2         NaN      CENTRO  TRES LAGOAS  MS       Diesel S500       3,644   \n",
       "3         NaN      CENTRO  TRES LAGOAS  MS        Diesel S10       3,734   \n",
       "4      KM 786  ZONA RURAL        COXIM  MS  Gasolina C Comum        4,59   \n",
       "\n",
       "      DATA CADASTRO  \n",
       "0  28/06/2018 17:49  \n",
       "1  28/06/2018 17:49  \n",
       "2  28/06/2018 17:49  \n",
       "3  28/06/2018 17:49  \n",
       "4  05/07/2018 18:55  "
      ]
     },
     "execution_count": 27,
     "metadata": {},
     "output_type": "execute_result"
    }
   ],
   "source": [
    "df.head()"
   ]
  },
  {
   "cell_type": "code",
   "execution_count": 28,
   "metadata": {},
   "outputs": [
    {
     "data": {
      "text/plain": [
       "Index(['CNPJ', 'NOME', 'ENDEREÇO', 'COMPLEMENTO', 'BAIRRO', 'MUNICÍPIO', 'UF',\n",
       "       'PRODUTO', 'VALOR VENDA', 'DATA CADASTRO'],\n",
       "      dtype='object')"
      ]
     },
     "execution_count": 28,
     "metadata": {},
     "output_type": "execute_result"
    }
   ],
   "source": [
    "df.columns"
   ]
  },
  {
   "cell_type": "code",
   "execution_count": 29,
   "metadata": {},
   "outputs": [],
   "source": [
    "# plot de calor adaptado para verificar dados faltantes\n",
    "def grafico_dados_faltantes(_df):\n",
    "    plt.figure(figsize=(15,5))\n",
    "    return sns.heatmap(_df.isnull(), yticklabels=False, cbar=False, cmap='viridis');"
   ]
  },
  {
   "cell_type": "code",
   "execution_count": 30,
   "metadata": {},
   "outputs": [
    {
     "data": {
      "image/png": "[encoded data removed]",
      "text/plain": [
       "<Figure size 1080x360 with 1 Axes>"
      ]
     },
     "metadata": {
      "needs_background": "light"
     },
     "output_type": "display_data"
    }
   ],
   "source": [
    "# gerar gráfico para verificar dados faltantes\n",
    "grafico_dados_faltantes(df);"
   ]
  },
  {
   "cell_type": "markdown",
   "metadata": {},
   "source": [
    "#### Como podemos observar no gráfico acima, a coluna COMPLEMENTO está com  muitos dados faltantes acredito que não seja uma coluna relevante para nós. Vamos exclui-la."
   ]
  },
  {
   "cell_type": "code",
   "execution_count": 31,
   "metadata": {},
   "outputs": [
    {
     "data": {
      "text/plain": [
       "Index(['CNPJ', 'NOME', 'ENDEREÇO', 'BAIRRO', 'MUNICÍPIO', 'UF', 'PRODUTO',\n",
       "       'VALOR VENDA', 'DATA CADASTRO'],\n",
       "      dtype='object')"
      ]
     },
     "execution_count": 31,
     "metadata": {},
     "output_type": "execute_result"
    }
   ],
   "source": [
    "df.drop(['COMPLEMENTO'], axis=1, inplace=True)\n",
    "df.columns"
   ]
  },
  {
   "cell_type": "markdown",
   "metadata": {},
   "source": [
    "#### Agora vamos dar uma olhada na coluna BAIRRO os valores que estiverem Nan e vamos preencher com \"Bairro não cadastrado\""
   ]
  },
  {
   "cell_type": "code",
   "execution_count": 20,
   "metadata": {},
   "outputs": [],
   "source": [
    "df['BAIRRO'].fillna(('Bairro não cadastrado'), inplace=True)"
   ]
  },
  {
   "cell_type": "code",
   "execution_count": 22,
   "metadata": {},
   "outputs": [
    {
     "data": {
      "image/png": "[encoded data removed]",
      "text/plain": [
       "<Figure size 1080x360 with 1 Axes>"
      ]
     },
     "metadata": {
      "needs_background": "light"
     },
     "output_type": "display_data"
    }
   ],
   "source": [
    "grafico_dados_faltantes(df);"
   ]
  },
  {
   "cell_type": "markdown",
   "metadata": {},
   "source": [
    "#### Vamos ver qual combústivel está em nossa base de dados"
   ]
  },
  {
   "cell_type": "code",
   "execution_count": 42,
   "metadata": {},
   "outputs": [
    {
     "data": {
      "text/plain": [
       "array(['Gasolina C Comum', 'Etanol', 'Diesel S500', 'Diesel S10', 'GNV'],\n",
       "      dtype=object)"
      ]
     },
     "execution_count": 42,
     "metadata": {},
     "output_type": "execute_result"
    }
   ],
   "source": [
    "df.PRODUTO.unique()"
   ]
  },
  {
   "cell_type": "code",
   "execution_count": 45,
   "metadata": {},
   "outputs": [
    {
     "data": {
      "text/plain": [
       "PRODUTO\n",
       "Diesel S10          159\n",
       "Diesel S500         121\n",
       "Etanol              131\n",
       "GNV                  13\n",
       "Gasolina C Comum    175\n",
       "Name: PRODUTO, dtype: int64"
      ]
     },
     "execution_count": 45,
     "metadata": {},
     "output_type": "execute_result"
    }
   ],
   "source": [
    "df.groupby(['PRODUTO'])['PRODUTO'].count()"
   ]
  },
  {
   "cell_type": "code",
   "execution_count": null,
   "metadata": {},
   "outputs": [],
   "source": []
  },
  {
   "cell_type": "code",
   "execution_count": null,
   "metadata": {},
   "outputs": [],
   "source": []
  },
  {
   "cell_type": "code",
   "execution_count": null,
   "metadata": {},
   "outputs": [],
   "source": []
  },
  {
   "cell_type": "code",
   "execution_count": null,
   "metadata": {},
   "outputs": [],
   "source": []
  },
  {
   "cell_type": "code",
   "execution_count": null,
   "metadata": {},
   "outputs": [],
   "source": []
  },
  {
   "cell_type": "code",
   "execution_count": null,
   "metadata": {},
   "outputs": [],
   "source": []
  }
 ],
 "metadata": {
  "kernelspec": {
   "display_name": "Python 3",
   "language": "python",
   "name": "python3"
  },
  "language_info": {
   "codemirror_mode": {
    "name": "ipython",
    "version": 3
   },
   "file_extension": ".py",
   "mimetype": "text/x-python",
   "name": "python",
   "nbconvert_exporter": "python",
   "pygments_lexer": "ipython3",
   "version": "3.6.7"
  }
 },
 "nbformat": 4,
 "nbformat_minor": 2
}
