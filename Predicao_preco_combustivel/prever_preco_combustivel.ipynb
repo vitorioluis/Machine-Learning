{
 "cells": [
  {
   "cell_type": "code",
   "execution_count": 1,
   "metadata": {},
   "outputs": [],
   "source": [
    "#  importações para tratamentos de dados\n",
    "import pandas as pd\n",
    "import numpy as np\n",
    "import matplotlib.pyplot as plt\n",
    "import seaborn as sns\n",
    "\n",
    "%matplotlib inline"
   ]
  },
  {
   "cell_type": "code",
   "execution_count": 2,
   "metadata": {},
   "outputs": [],
   "source": [
    "# Imports para ML\n",
    "from sklearn.linear_model import LinearRegression\n",
    "from sklearn.model_selection import train_test_split\n",
    "from sklearn import metrics"
   ]
  },
  {
   "cell_type": "code",
   "execution_count": 3,
   "metadata": {},
   "outputs": [],
   "source": [
    "df = pd.read_csv('infopreco.csv', sep=';', encoding='latin1')"
   ]
  },
  {
   "cell_type": "code",
   "execution_count": 4,
   "metadata": {},
   "outputs": [
    {
     "data": {
      "text/html": [
       "<div>\n",
       "<style scoped>\n",
       "    .dataframe tbody tr th:only-of-type {\n",
       "        vertical-align: middle;\n",
       "    }\n",
       "\n",
       "    .dataframe tbody tr th {\n",
       "        vertical-align: top;\n",
       "    }\n",
       "\n",
       "    .dataframe thead th {\n",
       "        text-align: right;\n",
       "    }\n",
       "</style>\n",
       "<table border=\"1\" class=\"dataframe\">\n",
       "  <thead>\n",
       "    <tr style=\"text-align: right;\">\n",
       "      <th></th>\n",
       "      <th>CNPJ</th>\n",
       "      <th>NOME</th>\n",
       "      <th>ENDEREÇO</th>\n",
       "      <th>COMPLEMENTO</th>\n",
       "      <th>BAIRRO</th>\n",
       "      <th>MUNICÍPIO</th>\n",
       "      <th>UF</th>\n",
       "      <th>PRODUTO</th>\n",
       "      <th>VALOR VENDA</th>\n",
       "      <th>DATA CADASTRO</th>\n",
       "    </tr>\n",
       "  </thead>\n",
       "  <tbody>\n",
       "    <tr>\n",
       "      <th>0</th>\n",
       "      <td>62780000102</td>\n",
       "      <td>AUTO POSTO PARATI</td>\n",
       "      <td>AVENIDA FILINTO MULLER,645</td>\n",
       "      <td>NaN</td>\n",
       "      <td>CENTRO</td>\n",
       "      <td>TRES LAGOAS</td>\n",
       "      <td>MS</td>\n",
       "      <td>Gasolina C Comum</td>\n",
       "      <td>4,436</td>\n",
       "      <td>28/06/2018 17:49</td>\n",
       "    </tr>\n",
       "    <tr>\n",
       "      <th>1</th>\n",
       "      <td>62780000102</td>\n",
       "      <td>AUTO POSTO PARATI</td>\n",
       "      <td>AVENIDA FILINTO MULLER,645</td>\n",
       "      <td>NaN</td>\n",
       "      <td>CENTRO</td>\n",
       "      <td>TRES LAGOAS</td>\n",
       "      <td>MS</td>\n",
       "      <td>Etanol</td>\n",
       "      <td>3,482</td>\n",
       "      <td>28/06/2018 17:49</td>\n",
       "    </tr>\n",
       "    <tr>\n",
       "      <th>2</th>\n",
       "      <td>62780000102</td>\n",
       "      <td>AUTO POSTO PARATI</td>\n",
       "      <td>AVENIDA FILINTO MULLER,645</td>\n",
       "      <td>NaN</td>\n",
       "      <td>CENTRO</td>\n",
       "      <td>TRES LAGOAS</td>\n",
       "      <td>MS</td>\n",
       "      <td>Diesel S500</td>\n",
       "      <td>3,644</td>\n",
       "      <td>28/06/2018 17:49</td>\n",
       "    </tr>\n",
       "    <tr>\n",
       "      <th>3</th>\n",
       "      <td>62780000102</td>\n",
       "      <td>AUTO POSTO PARATI</td>\n",
       "      <td>AVENIDA FILINTO MULLER,645</td>\n",
       "      <td>NaN</td>\n",
       "      <td>CENTRO</td>\n",
       "      <td>TRES LAGOAS</td>\n",
       "      <td>MS</td>\n",
       "      <td>Diesel S10</td>\n",
       "      <td>3,734</td>\n",
       "      <td>28/06/2018 17:49</td>\n",
       "    </tr>\n",
       "    <tr>\n",
       "      <th>4</th>\n",
       "      <td>300357000195</td>\n",
       "      <td>POSTO E TRANSPORTADORA PEGORARO</td>\n",
       "      <td>RODOVIA BR 163,S/N</td>\n",
       "      <td>KM 786</td>\n",
       "      <td>ZONA RURAL</td>\n",
       "      <td>COXIM</td>\n",
       "      <td>MS</td>\n",
       "      <td>Gasolina C Comum</td>\n",
       "      <td>4,59</td>\n",
       "      <td>05/07/2018 18:55</td>\n",
       "    </tr>\n",
       "  </tbody>\n",
       "</table>\n",
       "</div>"
      ],
      "text/plain": [
       "           CNPJ                             NOME                    ENDEREÇO  \\\n",
       "0   62780000102                AUTO POSTO PARATI  AVENIDA FILINTO MULLER,645   \n",
       "1   62780000102                AUTO POSTO PARATI  AVENIDA FILINTO MULLER,645   \n",
       "2   62780000102                AUTO POSTO PARATI  AVENIDA FILINTO MULLER,645   \n",
       "3   62780000102                AUTO POSTO PARATI  AVENIDA FILINTO MULLER,645   \n",
       "4  300357000195  POSTO E TRANSPORTADORA PEGORARO          RODOVIA BR 163,S/N   \n",
       "\n",
       "  COMPLEMENTO      BAIRRO    MUNICÍPIO  UF           PRODUTO VALOR VENDA  \\\n",
       "0         NaN      CENTRO  TRES LAGOAS  MS  Gasolina C Comum       4,436   \n",
       "1         NaN      CENTRO  TRES LAGOAS  MS            Etanol       3,482   \n",
       "2         NaN      CENTRO  TRES LAGOAS  MS       Diesel S500       3,644   \n",
       "3         NaN      CENTRO  TRES LAGOAS  MS        Diesel S10       3,734   \n",
       "4      KM 786  ZONA RURAL        COXIM  MS  Gasolina C Comum        4,59   \n",
       "\n",
       "      DATA CADASTRO  \n",
       "0  28/06/2018 17:49  \n",
       "1  28/06/2018 17:49  \n",
       "2  28/06/2018 17:49  \n",
       "3  28/06/2018 17:49  \n",
       "4  05/07/2018 18:55  "
      ]
     },
     "execution_count": 4,
     "metadata": {},
     "output_type": "execute_result"
    }
   ],
   "source": [
    "df.head()"
   ]
  },
  {
   "cell_type": "code",
   "execution_count": 5,
   "metadata": {},
   "outputs": [
    {
     "name": "stdout",
     "output_type": "stream",
     "text": [
      "<class 'pandas.core.frame.DataFrame'>\n",
      "RangeIndex: 599 entries, 0 to 598\n",
      "Data columns (total 10 columns):\n",
      "CNPJ             599 non-null int64\n",
      "NOME             599 non-null object\n",
      "ENDEREÇO         599 non-null object\n",
      "COMPLEMENTO      177 non-null object\n",
      "BAIRRO           595 non-null object\n",
      "MUNICÍPIO        599 non-null object\n",
      "UF               599 non-null object\n",
      "PRODUTO          599 non-null object\n",
      "VALOR VENDA      599 non-null object\n",
      "DATA CADASTRO    599 non-null object\n",
      "dtypes: int64(1), object(9)\n",
      "memory usage: 46.9+ KB\n"
     ]
    }
   ],
   "source": [
    "# visualizando os tipos de classes que temos\n",
    "df.info()"
   ]
  },
  {
   "cell_type": "code",
   "execution_count": 6,
   "metadata": {},
   "outputs": [
    {
     "name": "stdout",
     "output_type": "stream",
     "text": [
      "<class 'pandas.core.frame.DataFrame'>\n",
      "RangeIndex: 599 entries, 0 to 598\n",
      "Data columns (total 10 columns):\n",
      "CNPJ             599 non-null int64\n",
      "NOME             599 non-null object\n",
      "ENDEREÇO         599 non-null object\n",
      "COMPLEMENTO      177 non-null object\n",
      "BAIRRO           595 non-null object\n",
      "MUNICÍPIO        599 non-null object\n",
      "UF               599 non-null object\n",
      "PRODUTO          599 non-null object\n",
      "VALOR VENDA      599 non-null float64\n",
      "DATA CADASTRO    599 non-null object\n",
      "dtypes: float64(1), int64(1), object(8)\n",
      "memory usage: 46.9+ KB\n"
     ]
    }
   ],
   "source": [
    "# convetendo o 'VALOR VENDA'\n",
    "df['VALOR VENDA'] = df['VALOR VENDA'].apply(lambda x : str(x).replace(',','.')).astype('float')\n",
    "df.info()"
   ]
  },
  {
   "cell_type": "code",
   "execution_count": 7,
   "metadata": {},
   "outputs": [],
   "source": [
    "# plot de calor adaptado para verificar dados faltantes\n",
    "def grafico_dados_faltantes(_df):\n",
    "    plt.figure(figsize=(15,5))\n",
    "    return sns.heatmap(_df.isnull(), yticklabels=False, cbar=False, cmap='viridis');"
   ]
  },
  {
   "cell_type": "code",
   "execution_count": 8,
   "metadata": {},
   "outputs": [
    {
     "data": {
      "image/png": "[encoded data removed]",
      "text/plain": [
       "<Figure size 1080x360 with 1 Axes>"
      ]
     },
     "metadata": {
      "needs_background": "light"
     },
     "output_type": "display_data"
    }
   ],
   "source": [
    "# gerar gráfico para verificar dados faltantes\n",
    "grafico_dados_faltantes(df);"
   ]
  },
  {
   "cell_type": "markdown",
   "metadata": {},
   "source": [
    "#### Como podemos observar no gráfico acima, a coluna COMPLEMENTO está com  muitos dados faltantes acredito que não seja uma coluna relevante para nós. Vamos exclui-la."
   ]
  },
  {
   "cell_type": "code",
   "execution_count": 9,
   "metadata": {},
   "outputs": [
    {
     "data": {
      "text/plain": [
       "Index(['CNPJ', 'NOME', 'ENDEREÇO', 'BAIRRO', 'MUNICÍPIO', 'UF', 'PRODUTO',\n",
       "       'VALOR VENDA', 'DATA CADASTRO'],\n",
       "      dtype='object')"
      ]
     },
     "execution_count": 9,
     "metadata": {},
     "output_type": "execute_result"
    }
   ],
   "source": [
    "df.drop(['COMPLEMENTO'], axis=1, inplace=True)\n",
    "df.columns"
   ]
  },
  {
   "cell_type": "markdown",
   "metadata": {},
   "source": [
    "#### Agora vamos dar uma olhada na coluna BAIRRO os valores que estiverem Nan e vamos preencher com \"Bairro não cadastrado\""
   ]
  },
  {
   "cell_type": "code",
   "execution_count": 10,
   "metadata": {},
   "outputs": [],
   "source": [
    "df['BAIRRO'].fillna(('Bairro não cadastrado'), inplace=True)"
   ]
  },
  {
   "cell_type": "code",
   "execution_count": 11,
   "metadata": {},
   "outputs": [
    {
     "data": {
      "image/png": "[encoded data removed]",
      "text/plain": [
       "<Figure size 1080x360 with 1 Axes>"
      ]
     },
     "metadata": {
      "needs_background": "light"
     },
     "output_type": "display_data"
    }
   ],
   "source": [
    "grafico_dados_faltantes(df);"
   ]
  },
  {
   "cell_type": "markdown",
   "metadata": {},
   "source": [
    "#### Agora que o conjunto de dados original está tudo ok, vamos partir para predição \n",
    "#### Temos muitas variaveis descritivas vamos ter que testar algumas variaveis e converter em dummy"
   ]
  },
  {
   "cell_type": "code",
   "execution_count": 12,
   "metadata": {},
   "outputs": [
    {
     "data": {
      "text/plain": [
       "Index(['CNPJ', 'NOME', 'ENDEREÇO', 'BAIRRO', 'MUNICÍPIO', 'UF', 'PRODUTO',\n",
       "       'VALOR VENDA', 'DATA CADASTRO'],\n",
       "      dtype='object')"
      ]
     },
     "execution_count": 12,
     "metadata": {},
     "output_type": "execute_result"
    }
   ],
   "source": [
    "df.columns"
   ]
  },
  {
   "cell_type": "code",
   "execution_count": 13,
   "metadata": {},
   "outputs": [
    {
     "data": {
      "text/plain": [
       "array(['TRES LAGOAS', 'COXIM', 'SAO LUIS', \"MACHADINHO D'OESTE\",\n",
       "       'CAMPO GRANDE', 'BRASILIA', 'CAMPINAS', 'CRISTALINA',\n",
       "       'PIRES DO RIO', 'SAO JOSE DOS PINHAIS', 'CATAGUASES', 'TERESINA',\n",
       "       'PINHEIRO MACHADO', 'RIBAS DO RIO PARDO', 'BELO JARDIM', 'ARACUAI',\n",
       "       'VIAMAO', 'ITAJAI', 'FIGUEIROPOLIS', 'FORMOSA', 'PORANGATU',\n",
       "       'LEME', 'ANDRADAS', 'GUARAI', 'ALTO ALEGRE DOS PARECIS', 'CHAPECO',\n",
       "       'SERTANOPOLIS', 'SANTO ANTONIO DE PADUA', 'JARU',\n",
       "       'SAO MIGUEL DO GUAPORE', 'NOVA ANDRADINA', 'DUQUE DE CAXIAS',\n",
       "       'ITABORAI', 'CACERES', 'BELEM', 'BURITIS', 'RIO DE JANEIRO',\n",
       "       'POUSO ALEGRE', 'CORUMBA', 'MUNDO NOVO', 'PORTO VELHO', 'MACAE',\n",
       "       'PALMAS', 'TUCURUI', 'BOM PRINCIPIO', 'VILA BOA', 'GUARATINGUETA',\n",
       "       'TRAIRAO', 'BALSA NOVA', 'QUEIMADOS', 'MIRANDA', 'CURITIBA',\n",
       "       'CASCAVEL', 'PONTALINA', 'ARIQUEMES', 'ROLIM DE MOURA', 'MINEIROS',\n",
       "       'MACAIBA', 'CACHOEIRINHA', 'ARAGUAINA', 'OURO PRETO DO OESTE',\n",
       "       'CICERO DANTAS', 'ITAPORA', 'SENADOR SA', 'CANOAS', 'SOUSA',\n",
       "       'PASSO FUNDO', 'INDAIATUBA', 'SAO PAULO', 'DOURADOS', 'JAU',\n",
       "       'UBATUBA', 'CAMPOS DO JORDAO', 'ARACAJU', 'ESTRELA DO NORTE',\n",
       "       'BARREIRINHAS', 'ESTANCIA VELHA', 'EDEALINA', 'CORBELIA',\n",
       "       'PARNAMIRIM', 'CAFELANDIA', 'VARGINHA', 'POA', 'ASSIS',\n",
       "       'JI-PARANA', 'SAO JOSE DE MIPIBU', 'PELOTAS',\n",
       "       'CAMPOS DOS GOYTACAZES', 'GOIATUBA', 'SAO BERNARDO DO CAMPO',\n",
       "       'BIRIGUI', 'VIDEIRA', 'GUARAPUAVA', 'FLORIANOPOLIS', 'COLIDER',\n",
       "       'JATAI', 'CONTAGEM', 'SAO MIGUEL DO OESTE', 'BRUSQUE',\n",
       "       'NOVA CANAA DO NORTE', 'RECIFE', 'MARACAJU', 'SAO JOSE DE RIBAMAR',\n",
       "       'TAUBATE', 'MACAUBAS', 'ARAGUATINS', 'RIO BRILHANTE', 'PIO IX',\n",
       "       'BUENOPOLIS', 'SAO MANUEL', 'CACAPAVA', 'EXU', 'TREZE DE MAIO',\n",
       "       'BLUMENAU', 'OURO VERDE', 'JARAGUA DO SUL', 'CACHOEIRA DO SUL',\n",
       "       'NOVO HAMBURGO', 'CACAPAVA DO SUL'], dtype=object)"
      ]
     },
     "execution_count": 13,
     "metadata": {},
     "output_type": "execute_result"
    }
   ],
   "source": [
    "df['MUNICÍPIO'].unique()"
   ]
  },
  {
   "cell_type": "code",
   "execution_count": 14,
   "metadata": {},
   "outputs": [
    {
     "data": {
      "text/html": [
       "<div>\n",
       "<style scoped>\n",
       "    .dataframe tbody tr th:only-of-type {\n",
       "        vertical-align: middle;\n",
       "    }\n",
       "\n",
       "    .dataframe tbody tr th {\n",
       "        vertical-align: top;\n",
       "    }\n",
       "\n",
       "    .dataframe thead th {\n",
       "        text-align: right;\n",
       "    }\n",
       "</style>\n",
       "<table border=\"1\" class=\"dataframe\">\n",
       "  <thead>\n",
       "    <tr style=\"text-align: right;\">\n",
       "      <th></th>\n",
       "      <th>PRODUTO</th>\n",
       "    </tr>\n",
       "    <tr>\n",
       "      <th>PRODUTO</th>\n",
       "      <th></th>\n",
       "    </tr>\n",
       "  </thead>\n",
       "  <tbody>\n",
       "    <tr>\n",
       "      <th>Diesel S10</th>\n",
       "      <td>159</td>\n",
       "    </tr>\n",
       "    <tr>\n",
       "      <th>Diesel S500</th>\n",
       "      <td>121</td>\n",
       "    </tr>\n",
       "    <tr>\n",
       "      <th>Etanol</th>\n",
       "      <td>131</td>\n",
       "    </tr>\n",
       "    <tr>\n",
       "      <th>GNV</th>\n",
       "      <td>13</td>\n",
       "    </tr>\n",
       "    <tr>\n",
       "      <th>Gasolina C Comum</th>\n",
       "      <td>175</td>\n",
       "    </tr>\n",
       "  </tbody>\n",
       "</table>\n",
       "</div>"
      ],
      "text/plain": [
       "                  PRODUTO\n",
       "PRODUTO                  \n",
       "Diesel S10            159\n",
       "Diesel S500           121\n",
       "Etanol                131\n",
       "GNV                    13\n",
       "Gasolina C Comum      175"
      ]
     },
     "execution_count": 14,
     "metadata": {},
     "output_type": "execute_result"
    }
   ],
   "source": [
    "campos = ['PRODUTO']\n",
    "df.groupby(campos)[campos].count()"
   ]
  },
  {
   "cell_type": "code",
   "execution_count": 15,
   "metadata": {},
   "outputs": [
    {
     "data": {
      "text/plain": [
       "Index(['CNPJ', 'NOME', 'ENDEREÇO', 'BAIRRO', 'MUNICÍPIO', 'UF', 'PRODUTO',\n",
       "       'VALOR VENDA', 'DATA CADASTRO'],\n",
       "      dtype='object')"
      ]
     },
     "execution_count": 15,
     "metadata": {},
     "output_type": "execute_result"
    }
   ],
   "source": [
    "df.columns"
   ]
  },
  {
   "cell_type": "code",
   "execution_count": 16,
   "metadata": {},
   "outputs": [
    {
     "data": {
      "text/html": [
       "<div>\n",
       "<style scoped>\n",
       "    .dataframe tbody tr th:only-of-type {\n",
       "        vertical-align: middle;\n",
       "    }\n",
       "\n",
       "    .dataframe tbody tr th {\n",
       "        vertical-align: top;\n",
       "    }\n",
       "\n",
       "    .dataframe thead th {\n",
       "        text-align: right;\n",
       "    }\n",
       "</style>\n",
       "<table border=\"1\" class=\"dataframe\">\n",
       "  <thead>\n",
       "    <tr style=\"text-align: right;\">\n",
       "      <th></th>\n",
       "      <th>UF</th>\n",
       "      <th>PRODUTO</th>\n",
       "      <th>VALOR VENDA</th>\n",
       "    </tr>\n",
       "  </thead>\n",
       "  <tbody>\n",
       "    <tr>\n",
       "      <th>0</th>\n",
       "      <td>MS</td>\n",
       "      <td>Gasolina C Comum</td>\n",
       "      <td>4.436</td>\n",
       "    </tr>\n",
       "    <tr>\n",
       "      <th>1</th>\n",
       "      <td>MS</td>\n",
       "      <td>Etanol</td>\n",
       "      <td>3.482</td>\n",
       "    </tr>\n",
       "    <tr>\n",
       "      <th>2</th>\n",
       "      <td>MS</td>\n",
       "      <td>Diesel S500</td>\n",
       "      <td>3.644</td>\n",
       "    </tr>\n",
       "    <tr>\n",
       "      <th>3</th>\n",
       "      <td>MS</td>\n",
       "      <td>Diesel S10</td>\n",
       "      <td>3.734</td>\n",
       "    </tr>\n",
       "    <tr>\n",
       "      <th>4</th>\n",
       "      <td>MS</td>\n",
       "      <td>Gasolina C Comum</td>\n",
       "      <td>4.590</td>\n",
       "    </tr>\n",
       "  </tbody>\n",
       "</table>\n",
       "</div>"
      ],
      "text/plain": [
       "   UF           PRODUTO  VALOR VENDA\n",
       "0  MS  Gasolina C Comum        4.436\n",
       "1  MS            Etanol        3.482\n",
       "2  MS       Diesel S500        3.644\n",
       "3  MS        Diesel S10        3.734\n",
       "4  MS  Gasolina C Comum        4.590"
      ]
     },
     "execution_count": 16,
     "metadata": {},
     "output_type": "execute_result"
    }
   ],
   "source": [
    "# depois de realizar alguns testes, percebi que o rmse sobe muito com outras variáves\n",
    "# selecionei somente estás 3 variáveis \n",
    "df2 = df[['UF','PRODUTO', 'VALOR VENDA']]\n",
    "df2.head()"
   ]
  },
  {
   "cell_type": "code",
   "execution_count": 17,
   "metadata": {},
   "outputs": [
    {
     "data": {
      "text/html": [
       "<div>\n",
       "<style scoped>\n",
       "    .dataframe tbody tr th:only-of-type {\n",
       "        vertical-align: middle;\n",
       "    }\n",
       "\n",
       "    .dataframe tbody tr th {\n",
       "        vertical-align: top;\n",
       "    }\n",
       "\n",
       "    .dataframe thead th {\n",
       "        text-align: right;\n",
       "    }\n",
       "</style>\n",
       "<table border=\"1\" class=\"dataframe\">\n",
       "  <thead>\n",
       "    <tr style=\"text-align: right;\">\n",
       "      <th></th>\n",
       "      <th>VALOR VENDA</th>\n",
       "      <th>UF_CE</th>\n",
       "      <th>UF_DF</th>\n",
       "      <th>UF_GO</th>\n",
       "      <th>UF_MA</th>\n",
       "      <th>UF_MG</th>\n",
       "      <th>UF_MS</th>\n",
       "      <th>UF_MT</th>\n",
       "      <th>UF_PA</th>\n",
       "      <th>UF_PB</th>\n",
       "      <th>...</th>\n",
       "      <th>UF_RO</th>\n",
       "      <th>UF_RS</th>\n",
       "      <th>UF_SC</th>\n",
       "      <th>UF_SE</th>\n",
       "      <th>UF_SP</th>\n",
       "      <th>UF_TO</th>\n",
       "      <th>PRODUTO_Diesel S500</th>\n",
       "      <th>PRODUTO_Etanol</th>\n",
       "      <th>PRODUTO_GNV</th>\n",
       "      <th>PRODUTO_Gasolina C Comum</th>\n",
       "    </tr>\n",
       "  </thead>\n",
       "  <tbody>\n",
       "    <tr>\n",
       "      <th>0</th>\n",
       "      <td>4.436</td>\n",
       "      <td>0</td>\n",
       "      <td>0</td>\n",
       "      <td>0</td>\n",
       "      <td>0</td>\n",
       "      <td>0</td>\n",
       "      <td>1</td>\n",
       "      <td>0</td>\n",
       "      <td>0</td>\n",
       "      <td>0</td>\n",
       "      <td>...</td>\n",
       "      <td>0</td>\n",
       "      <td>0</td>\n",
       "      <td>0</td>\n",
       "      <td>0</td>\n",
       "      <td>0</td>\n",
       "      <td>0</td>\n",
       "      <td>0</td>\n",
       "      <td>0</td>\n",
       "      <td>0</td>\n",
       "      <td>1</td>\n",
       "    </tr>\n",
       "    <tr>\n",
       "      <th>1</th>\n",
       "      <td>3.482</td>\n",
       "      <td>0</td>\n",
       "      <td>0</td>\n",
       "      <td>0</td>\n",
       "      <td>0</td>\n",
       "      <td>0</td>\n",
       "      <td>1</td>\n",
       "      <td>0</td>\n",
       "      <td>0</td>\n",
       "      <td>0</td>\n",
       "      <td>...</td>\n",
       "      <td>0</td>\n",
       "      <td>0</td>\n",
       "      <td>0</td>\n",
       "      <td>0</td>\n",
       "      <td>0</td>\n",
       "      <td>0</td>\n",
       "      <td>0</td>\n",
       "      <td>1</td>\n",
       "      <td>0</td>\n",
       "      <td>0</td>\n",
       "    </tr>\n",
       "    <tr>\n",
       "      <th>2</th>\n",
       "      <td>3.644</td>\n",
       "      <td>0</td>\n",
       "      <td>0</td>\n",
       "      <td>0</td>\n",
       "      <td>0</td>\n",
       "      <td>0</td>\n",
       "      <td>1</td>\n",
       "      <td>0</td>\n",
       "      <td>0</td>\n",
       "      <td>0</td>\n",
       "      <td>...</td>\n",
       "      <td>0</td>\n",
       "      <td>0</td>\n",
       "      <td>0</td>\n",
       "      <td>0</td>\n",
       "      <td>0</td>\n",
       "      <td>0</td>\n",
       "      <td>1</td>\n",
       "      <td>0</td>\n",
       "      <td>0</td>\n",
       "      <td>0</td>\n",
       "    </tr>\n",
       "    <tr>\n",
       "      <th>3</th>\n",
       "      <td>3.734</td>\n",
       "      <td>0</td>\n",
       "      <td>0</td>\n",
       "      <td>0</td>\n",
       "      <td>0</td>\n",
       "      <td>0</td>\n",
       "      <td>1</td>\n",
       "      <td>0</td>\n",
       "      <td>0</td>\n",
       "      <td>0</td>\n",
       "      <td>...</td>\n",
       "      <td>0</td>\n",
       "      <td>0</td>\n",
       "      <td>0</td>\n",
       "      <td>0</td>\n",
       "      <td>0</td>\n",
       "      <td>0</td>\n",
       "      <td>0</td>\n",
       "      <td>0</td>\n",
       "      <td>0</td>\n",
       "      <td>0</td>\n",
       "    </tr>\n",
       "    <tr>\n",
       "      <th>4</th>\n",
       "      <td>4.590</td>\n",
       "      <td>0</td>\n",
       "      <td>0</td>\n",
       "      <td>0</td>\n",
       "      <td>0</td>\n",
       "      <td>0</td>\n",
       "      <td>1</td>\n",
       "      <td>0</td>\n",
       "      <td>0</td>\n",
       "      <td>0</td>\n",
       "      <td>...</td>\n",
       "      <td>0</td>\n",
       "      <td>0</td>\n",
       "      <td>0</td>\n",
       "      <td>0</td>\n",
       "      <td>0</td>\n",
       "      <td>0</td>\n",
       "      <td>0</td>\n",
       "      <td>0</td>\n",
       "      <td>0</td>\n",
       "      <td>1</td>\n",
       "    </tr>\n",
       "  </tbody>\n",
       "</table>\n",
       "<p>5 rows × 25 columns</p>\n",
       "</div>"
      ],
      "text/plain": [
       "   VALOR VENDA  UF_CE  UF_DF  UF_GO  UF_MA  UF_MG  UF_MS  UF_MT  UF_PA  UF_PB  \\\n",
       "0        4.436      0      0      0      0      0      1      0      0      0   \n",
       "1        3.482      0      0      0      0      0      1      0      0      0   \n",
       "2        3.644      0      0      0      0      0      1      0      0      0   \n",
       "3        3.734      0      0      0      0      0      1      0      0      0   \n",
       "4        4.590      0      0      0      0      0      1      0      0      0   \n",
       "\n",
       "   ...  UF_RO  UF_RS  UF_SC  UF_SE  UF_SP  UF_TO  PRODUTO_Diesel S500  \\\n",
       "0  ...      0      0      0      0      0      0                    0   \n",
       "1  ...      0      0      0      0      0      0                    0   \n",
       "2  ...      0      0      0      0      0      0                    1   \n",
       "3  ...      0      0      0      0      0      0                    0   \n",
       "4  ...      0      0      0      0      0      0                    0   \n",
       "\n",
       "   PRODUTO_Etanol  PRODUTO_GNV  PRODUTO_Gasolina C Comum  \n",
       "0               0            0                         1  \n",
       "1               1            0                         0  \n",
       "2               0            0                         0  \n",
       "3               0            0                         0  \n",
       "4               0            0                         1  \n",
       "\n",
       "[5 rows x 25 columns]"
      ]
     },
     "execution_count": 17,
     "metadata": {},
     "output_type": "execute_result"
    }
   ],
   "source": [
    "df_dummy=pd.get_dummies(df2,columns=['UF','PRODUTO'], drop_first=True)\n",
    "df_dummy.head()"
   ]
  },
  {
   "cell_type": "code",
   "execution_count": 18,
   "metadata": {},
   "outputs": [],
   "source": [
    "x = df_dummy.drop('VALOR VENDA', axis=1)\n",
    "y = df_dummy['VALOR VENDA']"
   ]
  },
  {
   "cell_type": "markdown",
   "metadata": {},
   "source": [
    "### Separando dados de treino e test"
   ]
  },
  {
   "cell_type": "code",
   "execution_count": 19,
   "metadata": {},
   "outputs": [],
   "source": [
    "x_train, x_test, y_train, y_teste = train_test_split(x,y, test_size=0.33)"
   ]
  },
  {
   "cell_type": "markdown",
   "metadata": {},
   "source": [
    "## Modelo 1 - Regressão Linear"
   ]
  },
  {
   "cell_type": "code",
   "execution_count": 20,
   "metadata": {},
   "outputs": [],
   "source": [
    "lm = LinearRegression()"
   ]
  },
  {
   "cell_type": "code",
   "execution_count": 21,
   "metadata": {},
   "outputs": [
    {
     "data": {
      "text/plain": [
       "LinearRegression(copy_X=True, fit_intercept=True, n_jobs=None,\n",
       "         normalize=False)"
      ]
     },
     "execution_count": 21,
     "metadata": {},
     "output_type": "execute_result"
    }
   ],
   "source": [
    "lm.fit(x_train,y_train)"
   ]
  },
  {
   "cell_type": "code",
   "execution_count": 22,
   "metadata": {},
   "outputs": [
    {
     "data": {
      "text/plain": [
       "4.022684003791123"
      ]
     },
     "execution_count": 22,
     "metadata": {},
     "output_type": "execute_result"
    }
   ],
   "source": [
    "lm.intercept_"
   ]
  },
  {
   "cell_type": "code",
   "execution_count": 23,
   "metadata": {},
   "outputs": [
    {
     "data": {
      "text/html": [
       "<div>\n",
       "<style scoped>\n",
       "    .dataframe tbody tr th:only-of-type {\n",
       "        vertical-align: middle;\n",
       "    }\n",
       "\n",
       "    .dataframe tbody tr th {\n",
       "        vertical-align: top;\n",
       "    }\n",
       "\n",
       "    .dataframe thead th {\n",
       "        text-align: right;\n",
       "    }\n",
       "</style>\n",
       "<table border=\"1\" class=\"dataframe\">\n",
       "  <thead>\n",
       "    <tr style=\"text-align: right;\">\n",
       "      <th></th>\n",
       "      <th>Coeficiente</th>\n",
       "    </tr>\n",
       "  </thead>\n",
       "  <tbody>\n",
       "    <tr>\n",
       "      <th>UF_CE</th>\n",
       "      <td>-0.136452</td>\n",
       "    </tr>\n",
       "    <tr>\n",
       "      <th>UF_DF</th>\n",
       "      <td>-0.489887</td>\n",
       "    </tr>\n",
       "    <tr>\n",
       "      <th>UF_GO</th>\n",
       "      <td>-0.258683</td>\n",
       "    </tr>\n",
       "    <tr>\n",
       "      <th>UF_MA</th>\n",
       "      <td>-0.411403</td>\n",
       "    </tr>\n",
       "    <tr>\n",
       "      <th>UF_MG</th>\n",
       "      <td>-0.116973</td>\n",
       "    </tr>\n",
       "    <tr>\n",
       "      <th>UF_MS</th>\n",
       "      <td>-0.387141</td>\n",
       "    </tr>\n",
       "    <tr>\n",
       "      <th>UF_MT</th>\n",
       "      <td>-0.193718</td>\n",
       "    </tr>\n",
       "    <tr>\n",
       "      <th>UF_PA</th>\n",
       "      <td>-0.207383</td>\n",
       "    </tr>\n",
       "    <tr>\n",
       "      <th>UF_PB</th>\n",
       "      <td>-0.223684</td>\n",
       "    </tr>\n",
       "    <tr>\n",
       "      <th>UF_PE</th>\n",
       "      <td>-0.265654</td>\n",
       "    </tr>\n",
       "    <tr>\n",
       "      <th>UF_PI</th>\n",
       "      <td>-0.230017</td>\n",
       "    </tr>\n",
       "    <tr>\n",
       "      <th>UF_PR</th>\n",
       "      <td>-0.620533</td>\n",
       "    </tr>\n",
       "    <tr>\n",
       "      <th>UF_RJ</th>\n",
       "      <td>0.004515</td>\n",
       "    </tr>\n",
       "    <tr>\n",
       "      <th>UF_RN</th>\n",
       "      <td>-0.375905</td>\n",
       "    </tr>\n",
       "    <tr>\n",
       "      <th>UF_RO</th>\n",
       "      <td>-0.092889</td>\n",
       "    </tr>\n",
       "    <tr>\n",
       "      <th>UF_RS</th>\n",
       "      <td>-0.358806</td>\n",
       "    </tr>\n",
       "    <tr>\n",
       "      <th>UF_SC</th>\n",
       "      <td>-0.589101</td>\n",
       "    </tr>\n",
       "    <tr>\n",
       "      <th>UF_SE</th>\n",
       "      <td>-0.147259</td>\n",
       "    </tr>\n",
       "    <tr>\n",
       "      <th>UF_SP</th>\n",
       "      <td>-0.606121</td>\n",
       "    </tr>\n",
       "    <tr>\n",
       "      <th>UF_TO</th>\n",
       "      <td>-0.136822</td>\n",
       "    </tr>\n",
       "    <tr>\n",
       "      <th>PRODUTO_Diesel S500</th>\n",
       "      <td>-0.105585</td>\n",
       "    </tr>\n",
       "    <tr>\n",
       "      <th>PRODUTO_Etanol</th>\n",
       "      <td>-0.363689</td>\n",
       "    </tr>\n",
       "    <tr>\n",
       "      <th>PRODUTO_GNV</th>\n",
       "      <td>-0.976173</td>\n",
       "    </tr>\n",
       "    <tr>\n",
       "      <th>PRODUTO_Gasolina C Comum</th>\n",
       "      <td>0.964585</td>\n",
       "    </tr>\n",
       "  </tbody>\n",
       "</table>\n",
       "</div>"
      ],
      "text/plain": [
       "                          Coeficiente\n",
       "UF_CE                       -0.136452\n",
       "UF_DF                       -0.489887\n",
       "UF_GO                       -0.258683\n",
       "UF_MA                       -0.411403\n",
       "UF_MG                       -0.116973\n",
       "UF_MS                       -0.387141\n",
       "UF_MT                       -0.193718\n",
       "UF_PA                       -0.207383\n",
       "UF_PB                       -0.223684\n",
       "UF_PE                       -0.265654\n",
       "UF_PI                       -0.230017\n",
       "UF_PR                       -0.620533\n",
       "UF_RJ                        0.004515\n",
       "UF_RN                       -0.375905\n",
       "UF_RO                       -0.092889\n",
       "UF_RS                       -0.358806\n",
       "UF_SC                       -0.589101\n",
       "UF_SE                       -0.147259\n",
       "UF_SP                       -0.606121\n",
       "UF_TO                       -0.136822\n",
       "PRODUTO_Diesel S500         -0.105585\n",
       "PRODUTO_Etanol              -0.363689\n",
       "PRODUTO_GNV                 -0.976173\n",
       "PRODUTO_Gasolina C Comum     0.964585"
      ]
     },
     "execution_count": 23,
     "metadata": {},
     "output_type": "execute_result"
    }
   ],
   "source": [
    "coeff = pd.DataFrame(lm.coef_,x.columns, columns=['Coeficiente'])\n",
    "coeff"
   ]
  },
  {
   "cell_type": "code",
   "execution_count": 24,
   "metadata": {},
   "outputs": [],
   "source": [
    "predicao = lm.predict(x_test)"
   ]
  },
  {
   "cell_type": "code",
   "execution_count": 41,
   "metadata": {},
   "outputs": [
    {
     "name": "stdout",
     "output_type": "stream",
     "text": [
      "RMSE: 0.30021506554542426\n"
     ]
    }
   ],
   "source": [
    "# O RMSE com estas colunas foi baixo\n",
    "print('RMSE:', np.sqrt(metrics.mean_squared_error(y_teste,predicao)))"
   ]
  },
  {
   "cell_type": "code",
   "execution_count": 26,
   "metadata": {},
   "outputs": [
    {
     "data": {
      "image/png": "[encoded data removed]",
      "text/plain": [
       "<Figure size 432x288 with 1 Axes>"
      ]
     },
     "metadata": {
      "needs_background": "light"
     },
     "output_type": "display_data"
    }
   ],
   "source": [
    "plt.scatter(y_teste, predicao);"
   ]
  },
  {
   "cell_type": "code",
   "execution_count": 27,
   "metadata": {},
   "outputs": [
    {
     "data": {
      "image/png": "[encoded data removed]",
      "text/plain": [
       "<Figure size 432x288 with 1 Axes>"
      ]
     },
     "metadata": {
      "needs_background": "light"
     },
     "output_type": "display_data"
    }
   ],
   "source": [
    "residuos = y_teste - predicao\n",
    "sns.distplot(residuos, bins=20);"
   ]
  },
  {
   "cell_type": "markdown",
   "metadata": {},
   "source": [
    "## Modelo 2 - Random Florest "
   ]
  },
  {
   "cell_type": "code",
   "execution_count": 28,
   "metadata": {},
   "outputs": [],
   "source": [
    "# predição randonflorest\n",
    "from sklearn.ensemble import RandomForestRegressor"
   ]
  },
  {
   "cell_type": "code",
   "execution_count": 31,
   "metadata": {},
   "outputs": [],
   "source": [
    "forest = RandomForestRegressor(n_estimators=1000)"
   ]
  },
  {
   "cell_type": "code",
   "execution_count": 32,
   "metadata": {},
   "outputs": [
    {
     "data": {
      "text/plain": [
       "RandomForestRegressor(bootstrap=True, criterion='mse', max_depth=None,\n",
       "           max_features='auto', max_leaf_nodes=None,\n",
       "           min_impurity_decrease=0.0, min_impurity_split=None,\n",
       "           min_samples_leaf=1, min_samples_split=2,\n",
       "           min_weight_fraction_leaf=0.0, n_estimators=1000, n_jobs=None,\n",
       "           oob_score=False, random_state=None, verbose=0, warm_start=False)"
      ]
     },
     "execution_count": 32,
     "metadata": {},
     "output_type": "execute_result"
    }
   ],
   "source": [
    "forest.fit(x_train,y_train)"
   ]
  },
  {
   "cell_type": "code",
   "execution_count": 34,
   "metadata": {},
   "outputs": [],
   "source": [
    "predict_forest = forest.predict(x_test)\n",
    "predict."
   ]
  },
  {
   "cell_type": "code",
   "execution_count": 42,
   "metadata": {},
   "outputs": [
    {
     "data": {
      "image/png": "[encoded data removed]",
      "text/plain": [
       "<Figure size 432x288 with 1 Axes>"
      ]
     },
     "metadata": {
      "needs_background": "light"
     },
     "output_type": "display_data"
    }
   ],
   "source": [
    "residuos2 = y_teste - predict_forest\n",
    "sns.distplot(residuos2, bins=20);"
   ]
  },
  {
   "cell_type": "code",
   "execution_count": 37,
   "metadata": {},
   "outputs": [
    {
     "name": "stdout",
     "output_type": "stream",
     "text": [
      "RMSE: 0.30276005687694246\n"
     ]
    }
   ],
   "source": [
    "print('RMSE:', np.sqrt(metrics.mean_squared_error(y_teste,predict_forest)))"
   ]
  },
  {
   "cell_type": "code",
   "execution_count": 44,
   "metadata": {},
   "outputs": [
    {
     "data": {
      "image/png": "[encoded data removed]",
      "text/plain": [
       "<Figure size 432x288 with 1 Axes>"
      ]
     },
     "metadata": {
      "needs_background": "light"
     },
     "output_type": "display_data"
    }
   ],
   "source": [
    "plt.scatter(y_teste, predict_forest);"
   ]
  },
  {
   "cell_type": "markdown",
   "metadata": {},
   "source": [
    "## Houve um empate técnico entre os modelos já que a diferença do RMSE ficou nas casas decimais, com isso não dá para dizer qual o melhor modelo para esse caso."
   ]
  },
  {
   "cell_type": "code",
   "execution_count": null,
   "metadata": {},
   "outputs": [],
   "source": []
  }
 ],
 "metadata": {
  "kernelspec": {
   "display_name": "Python 3",
   "language": "python",
   "name": "python3"
  },
  "language_info": {
   "codemirror_mode": {
    "name": "ipython",
    "version": 3
   },
   "file_extension": ".py",
   "mimetype": "text/x-python",
   "name": "python",
   "nbconvert_exporter": "python",
   "pygments_lexer": "ipython3",
   "version": "3.6.7"
  }
 },
 "nbformat": 4,
 "nbformat_minor": 2
}
