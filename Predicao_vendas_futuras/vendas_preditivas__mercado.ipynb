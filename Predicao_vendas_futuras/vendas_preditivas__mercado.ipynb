{
 "cells": [
  {
   "cell_type": "markdown",
   "metadata": {},
   "source": [
    "## Vendas de mercadorias"
   ]
  },
  {
   "cell_type": "code",
   "execution_count": 80,
   "metadata": {},
   "outputs": [],
   "source": [
    "import numpy as np\n",
    "import pandas as pd\n",
    "import seaborn as sns\n",
    "import matplotlib.pyplot as plt\n",
    "\n",
    "sns.set(style=\"whitegrid\")\n",
    "\n",
    "%matplotlib inline"
   ]
  },
  {
   "cell_type": "markdown",
   "metadata": {},
   "source": [
    "# Etapa 1 -  Qualidade dos dados"
   ]
  },
  {
   "cell_type": "code",
   "execution_count": 50,
   "metadata": {},
   "outputs": [],
   "source": [
    "df = pd.read_csv('simula_vendas_merc.csv', sep=\";\", encoding='latin1')"
   ]
  },
  {
   "cell_type": "code",
   "execution_count": 51,
   "metadata": {},
   "outputs": [
    {
     "data": {
      "text/html": [
       "<div>\n",
       "<style scoped>\n",
       "    .dataframe tbody tr th:only-of-type {\n",
       "        vertical-align: middle;\n",
       "    }\n",
       "\n",
       "    .dataframe tbody tr th {\n",
       "        vertical-align: top;\n",
       "    }\n",
       "\n",
       "    .dataframe thead th {\n",
       "        text-align: right;\n",
       "    }\n",
       "</style>\n",
       "<table border=\"1\" class=\"dataframe\">\n",
       "  <thead>\n",
       "    <tr style=\"text-align: right;\">\n",
       "      <th></th>\n",
       "      <th>ANO</th>\n",
       "      <th>MES</th>\n",
       "      <th>DIA</th>\n",
       "      <th>SEXO</th>\n",
       "      <th>PERIODO</th>\n",
       "      <th>CODIGO</th>\n",
       "      <th>DESCRICAO</th>\n",
       "      <th>UNIDADE_MEDIDA</th>\n",
       "      <th>CATEGORIA</th>\n",
       "      <th>PRECO_UNITARIO</th>\n",
       "      <th>QTD_VENDIDAS</th>\n",
       "      <th>VALOR_VENDIDO</th>\n",
       "    </tr>\n",
       "  </thead>\n",
       "  <tbody>\n",
       "    <tr>\n",
       "      <th>0</th>\n",
       "      <td>2015</td>\n",
       "      <td>3</td>\n",
       "      <td>3</td>\n",
       "      <td>F</td>\n",
       "      <td>MANHÃ</td>\n",
       "      <td>10000-V-13994</td>\n",
       "      <td>CREAM CHEESE ECILA 100G TRADICIONAL</td>\n",
       "      <td>UN</td>\n",
       "      <td>9016040</td>\n",
       "      <td>1.46</td>\n",
       "      <td>5.00</td>\n",
       "      <td>7.30</td>\n",
       "    </tr>\n",
       "    <tr>\n",
       "      <th>1</th>\n",
       "      <td>2014</td>\n",
       "      <td>5</td>\n",
       "      <td>8</td>\n",
       "      <td>M</td>\n",
       "      <td>MANHÃ</td>\n",
       "      <td>1003-X-02801</td>\n",
       "      <td>CEBOLA MIUDA BURBO KG</td>\n",
       "      <td>KG</td>\n",
       "      <td>91013070</td>\n",
       "      <td>0.93</td>\n",
       "      <td>8.95</td>\n",
       "      <td>8.32</td>\n",
       "    </tr>\n",
       "    <tr>\n",
       "      <th>2</th>\n",
       "      <td>2013</td>\n",
       "      <td>10</td>\n",
       "      <td>10</td>\n",
       "      <td>M</td>\n",
       "      <td>MANHÃ</td>\n",
       "      <td>1006-J-19160</td>\n",
       "      <td>ACETATO BEIRA ALTA OLEO BANANA 90ML</td>\n",
       "      <td>UN</td>\n",
       "      <td>93935192</td>\n",
       "      <td>1.23</td>\n",
       "      <td>6.00</td>\n",
       "      <td>7.38</td>\n",
       "    </tr>\n",
       "    <tr>\n",
       "      <th>3</th>\n",
       "      <td>2015</td>\n",
       "      <td>1</td>\n",
       "      <td>14</td>\n",
       "      <td>F</td>\n",
       "      <td>MANHÃ</td>\n",
       "      <td>1007-Q-08886</td>\n",
       "      <td>REQUEIJAO CATUPIRY 200G ERVAS FINAS</td>\n",
       "      <td>UN</td>\n",
       "      <td>9016040</td>\n",
       "      <td>3.16</td>\n",
       "      <td>3.00</td>\n",
       "      <td>9.48</td>\n",
       "    </tr>\n",
       "    <tr>\n",
       "      <th>4</th>\n",
       "      <td>2014</td>\n",
       "      <td>11</td>\n",
       "      <td>15</td>\n",
       "      <td>F</td>\n",
       "      <td>TARDE</td>\n",
       "      <td>1009-D-17623</td>\n",
       "      <td>CALDO ARISCO 57G COSTELA</td>\n",
       "      <td>UN</td>\n",
       "      <td>11014012</td>\n",
       "      <td>0.53</td>\n",
       "      <td>13.00</td>\n",
       "      <td>6.89</td>\n",
       "    </tr>\n",
       "  </tbody>\n",
       "</table>\n",
       "</div>"
      ],
      "text/plain": [
       "    ANO  MES  DIA SEXO PERIODO         CODIGO  \\\n",
       "0  2015    3    3    F   MANHÃ  10000-V-13994   \n",
       "1  2014    5    8    M   MANHÃ   1003-X-02801   \n",
       "2  2013   10   10    M   MANHÃ   1006-J-19160   \n",
       "3  2015    1   14    F   MANHÃ   1007-Q-08886   \n",
       "4  2014   11   15    F   TARDE   1009-D-17623   \n",
       "\n",
       "                             DESCRICAO UNIDADE_MEDIDA  CATEGORIA  \\\n",
       "0  CREAM CHEESE ECILA 100G TRADICIONAL             UN    9016040   \n",
       "1                CEBOLA MIUDA BURBO KG             KG   91013070   \n",
       "2  ACETATO BEIRA ALTA OLEO BANANA 90ML             UN   93935192   \n",
       "3  REQUEIJAO CATUPIRY 200G ERVAS FINAS             UN    9016040   \n",
       "4             CALDO ARISCO 57G COSTELA             UN   11014012   \n",
       "\n",
       "  PRECO_UNITARIO QTD_VENDIDAS VALOR_VENDIDO  \n",
       "0           1.46         5.00         7.30   \n",
       "1           0.93         8.95         8.32   \n",
       "2           1.23         6.00         7.38   \n",
       "3           3.16         3.00         9.48   \n",
       "4           0.53        13.00         6.89   "
      ]
     },
     "execution_count": 51,
     "metadata": {},
     "output_type": "execute_result"
    }
   ],
   "source": [
    "df.head()"
   ]
  },
  {
   "cell_type": "code",
   "execution_count": 52,
   "metadata": {},
   "outputs": [
    {
     "name": "stdout",
     "output_type": "stream",
     "text": [
      "<class 'pandas.core.frame.DataFrame'>\n",
      "RangeIndex: 40549 entries, 0 to 40548\n",
      "Data columns (total 12 columns):\n",
      "ANO               40549 non-null int64\n",
      "MES               40549 non-null int64\n",
      "DIA               40549 non-null int64\n",
      "SEXO              40549 non-null object\n",
      "PERIODO           40549 non-null object\n",
      "CODIGO            40549 non-null object\n",
      "DESCRICAO         40549 non-null object\n",
      "UNIDADE_MEDIDA    40549 non-null object\n",
      "CATEGORIA         40549 non-null int64\n",
      "PRECO_UNITARIO    40549 non-null object\n",
      "QTD_VENDIDAS      40549 non-null object\n",
      "VALOR_VENDIDO     40549 non-null object\n",
      "dtypes: int64(4), object(8)\n",
      "memory usage: 3.7+ MB\n"
     ]
    }
   ],
   "source": [
    "df.info()"
   ]
  },
  {
   "cell_type": "markdown",
   "metadata": {},
   "source": [
    "#### Precisamos converte os campos numéricos em float"
   ]
  },
  {
   "cell_type": "code",
   "execution_count": 53,
   "metadata": {},
   "outputs": [
    {
     "name": "stdout",
     "output_type": "stream",
     "text": [
      "<class 'pandas.core.frame.DataFrame'>\n",
      "RangeIndex: 40549 entries, 0 to 40548\n",
      "Data columns (total 12 columns):\n",
      "ANO               40549 non-null int64\n",
      "MES               40549 non-null int64\n",
      "DIA               40549 non-null int64\n",
      "SEXO              40549 non-null object\n",
      "PERIODO           40549 non-null object\n",
      "CODIGO            40549 non-null object\n",
      "DESCRICAO         40549 non-null object\n",
      "UNIDADE_MEDIDA    40549 non-null object\n",
      "CATEGORIA         40549 non-null int64\n",
      "PRECO_UNITARIO    40549 non-null float64\n",
      "QTD_VENDIDAS      40549 non-null float64\n",
      "VALOR_VENDIDO     40549 non-null float64\n",
      "dtypes: float64(3), int64(4), object(5)\n",
      "memory usage: 3.7+ MB\n"
     ]
    }
   ],
   "source": [
    "for campo in ('PRECO_UNITARIO','VALOR_VENDIDO','QTD_VENDIDAS'):\n",
    "    df[campo] = df[campo].apply(lambda c: int(str(c).replace('.',''))/100)\n",
    "df.info()"
   ]
  },
  {
   "cell_type": "markdown",
   "metadata": {},
   "source": [
    "# Etapa 2 - Exploração dos Dados"
   ]
  },
  {
   "cell_type": "code",
   "execution_count": 54,
   "metadata": {},
   "outputs": [
    {
     "data": {
      "text/html": [
       "<div>\n",
       "<style scoped>\n",
       "    .dataframe tbody tr th:only-of-type {\n",
       "        vertical-align: middle;\n",
       "    }\n",
       "\n",
       "    .dataframe tbody tr th {\n",
       "        vertical-align: top;\n",
       "    }\n",
       "\n",
       "    .dataframe thead th {\n",
       "        text-align: right;\n",
       "    }\n",
       "</style>\n",
       "<table border=\"1\" class=\"dataframe\">\n",
       "  <thead>\n",
       "    <tr style=\"text-align: right;\">\n",
       "      <th></th>\n",
       "      <th>ANO</th>\n",
       "      <th>MES</th>\n",
       "      <th>DIA</th>\n",
       "      <th>SEXO</th>\n",
       "      <th>PERIODO</th>\n",
       "      <th>CODIGO</th>\n",
       "      <th>DESCRICAO</th>\n",
       "      <th>UNIDADE_MEDIDA</th>\n",
       "      <th>CATEGORIA</th>\n",
       "      <th>PRECO_UNITARIO</th>\n",
       "      <th>QTD_VENDIDAS</th>\n",
       "      <th>VALOR_VENDIDO</th>\n",
       "    </tr>\n",
       "  </thead>\n",
       "  <tbody>\n",
       "    <tr>\n",
       "      <th>0</th>\n",
       "      <td>2015</td>\n",
       "      <td>3</td>\n",
       "      <td>3</td>\n",
       "      <td>F</td>\n",
       "      <td>MANHÃ</td>\n",
       "      <td>10000-V-13994</td>\n",
       "      <td>CREAM CHEESE ECILA 100G TRADICIONAL</td>\n",
       "      <td>UN</td>\n",
       "      <td>9016040</td>\n",
       "      <td>1.46</td>\n",
       "      <td>5.00</td>\n",
       "      <td>7.30</td>\n",
       "    </tr>\n",
       "    <tr>\n",
       "      <th>1</th>\n",
       "      <td>2014</td>\n",
       "      <td>5</td>\n",
       "      <td>8</td>\n",
       "      <td>M</td>\n",
       "      <td>MANHÃ</td>\n",
       "      <td>1003-X-02801</td>\n",
       "      <td>CEBOLA MIUDA BURBO KG</td>\n",
       "      <td>KG</td>\n",
       "      <td>91013070</td>\n",
       "      <td>0.93</td>\n",
       "      <td>8.95</td>\n",
       "      <td>8.32</td>\n",
       "    </tr>\n",
       "    <tr>\n",
       "      <th>2</th>\n",
       "      <td>2013</td>\n",
       "      <td>10</td>\n",
       "      <td>10</td>\n",
       "      <td>M</td>\n",
       "      <td>MANHÃ</td>\n",
       "      <td>1006-J-19160</td>\n",
       "      <td>ACETATO BEIRA ALTA OLEO BANANA 90ML</td>\n",
       "      <td>UN</td>\n",
       "      <td>93935192</td>\n",
       "      <td>1.23</td>\n",
       "      <td>6.00</td>\n",
       "      <td>7.38</td>\n",
       "    </tr>\n",
       "    <tr>\n",
       "      <th>3</th>\n",
       "      <td>2015</td>\n",
       "      <td>1</td>\n",
       "      <td>14</td>\n",
       "      <td>F</td>\n",
       "      <td>MANHÃ</td>\n",
       "      <td>1007-Q-08886</td>\n",
       "      <td>REQUEIJAO CATUPIRY 200G ERVAS FINAS</td>\n",
       "      <td>UN</td>\n",
       "      <td>9016040</td>\n",
       "      <td>3.16</td>\n",
       "      <td>3.00</td>\n",
       "      <td>9.48</td>\n",
       "    </tr>\n",
       "    <tr>\n",
       "      <th>4</th>\n",
       "      <td>2014</td>\n",
       "      <td>11</td>\n",
       "      <td>15</td>\n",
       "      <td>F</td>\n",
       "      <td>TARDE</td>\n",
       "      <td>1009-D-17623</td>\n",
       "      <td>CALDO ARISCO 57G COSTELA</td>\n",
       "      <td>UN</td>\n",
       "      <td>11014012</td>\n",
       "      <td>0.53</td>\n",
       "      <td>13.00</td>\n",
       "      <td>6.89</td>\n",
       "    </tr>\n",
       "  </tbody>\n",
       "</table>\n",
       "</div>"
      ],
      "text/plain": [
       "    ANO  MES  DIA SEXO PERIODO         CODIGO  \\\n",
       "0  2015    3    3    F   MANHÃ  10000-V-13994   \n",
       "1  2014    5    8    M   MANHÃ   1003-X-02801   \n",
       "2  2013   10   10    M   MANHÃ   1006-J-19160   \n",
       "3  2015    1   14    F   MANHÃ   1007-Q-08886   \n",
       "4  2014   11   15    F   TARDE   1009-D-17623   \n",
       "\n",
       "                             DESCRICAO UNIDADE_MEDIDA  CATEGORIA  \\\n",
       "0  CREAM CHEESE ECILA 100G TRADICIONAL             UN    9016040   \n",
       "1                CEBOLA MIUDA BURBO KG             KG   91013070   \n",
       "2  ACETATO BEIRA ALTA OLEO BANANA 90ML             UN   93935192   \n",
       "3  REQUEIJAO CATUPIRY 200G ERVAS FINAS             UN    9016040   \n",
       "4             CALDO ARISCO 57G COSTELA             UN   11014012   \n",
       "\n",
       "   PRECO_UNITARIO  QTD_VENDIDAS  VALOR_VENDIDO  \n",
       "0            1.46          5.00           7.30  \n",
       "1            0.93          8.95           8.32  \n",
       "2            1.23          6.00           7.38  \n",
       "3            3.16          3.00           9.48  \n",
       "4            0.53         13.00           6.89  "
      ]
     },
     "execution_count": 54,
     "metadata": {},
     "output_type": "execute_result"
    }
   ],
   "source": [
    "df.head()"
   ]
  },
  {
   "cell_type": "code",
   "execution_count": 55,
   "metadata": {},
   "outputs": [],
   "source": [
    "# plot de calor adaptado para verificar dados faltantes\n",
    "def grafico_dados_faltantes(_df):\n",
    "    plt.figure(figsize=(15,5))\n",
    "    return sns.heatmap(_df.isnull(), yticklabels=False, cbar=False, cmap='viridis');"
   ]
  },
  {
   "cell_type": "code",
   "execution_count": 56,
   "metadata": {},
   "outputs": [
    {
     "data": {
      "image/png": "[encoded data removed]",
      "text/plain": [
       "<Figure size 1080x360 with 1 Axes>"
      ]
     },
     "metadata": {
      "needs_background": "light"
     },
     "output_type": "display_data"
    }
   ],
   "source": [
    "grafico_dados_faltantes(df);"
   ]
  },
  {
   "cell_type": "markdown",
   "metadata": {},
   "source": [
    "#### Este dataset não tem muito tratamento de dados para realizar, mas podemos fazer uma análise exploratória básica plotando alguns gráficos."
   ]
  },
  {
   "cell_type": "code",
   "execution_count": 122,
   "metadata": {},
   "outputs": [],
   "source": [
    "# função para gerar gráfico padrão\n",
    "def gerar_grafico_padrao(campo, largura=10, altura=6, df = df,titulo='Análise Exploratória',tipo=1):\n",
    "    \"\"\"\n",
    "    1 - sum()\n",
    "    2 - count()\n",
    "    \"\"\"\n",
    "    \n",
    "    if tipo == 1:\n",
    "        ax = df.groupby([campo])['VALOR_VENDIDO'].sum().plot(kind='barh', figsize=(largura, altura), fontsize=13);\n",
    "    else:\n",
    "        ax = df[campo].value_counts().plot(kind='barh', figsize=(largura, altura), fontsize=13, );\n",
    "        \n",
    "    ax.set_alpha(0.8)\n",
    "    ax.set_xlabel('Valor Vendido')\n",
    "    ax.set_title(titulo)\n",
    "    ax.set_xticks(np.arange(0, 110, 10)*len(df)/100)\n",
    "    totals = []\n",
    "\n",
    "    # encontrar os valores e acrescentar à lista\n",
    "    for i in ax.patches:\n",
    "        totals.append(i.get_width())\n",
    "    \n",
    "    # definir barras individuais usando a lista acima\n",
    "    total = sum(totals)\n",
    "\n",
    "    # definir barras individuais usando a lista acima\n",
    "    for i in ax.patches:\n",
    "        ax.text(i.get_width()+.3, i.get_y()+.38, str(round((i.get_width()/total)*100, 2))+'%', fontsize=12, color='dimgrey')\n",
    "\n",
    "    # invertido para maior no topo\n",
    "    ax.invert_yaxis()\n",
    "\n",
    "    return ax"
   ]
  },
  {
   "cell_type": "code",
   "execution_count": 57,
   "metadata": {},
   "outputs": [
    {
     "data": {
      "text/plain": [
       "Index(['ANO', 'MES', 'DIA', 'SEXO', 'PERIODO', 'CODIGO', 'DESCRICAO',\n",
       "       'UNIDADE_MEDIDA', 'CATEGORIA', 'PRECO_UNITARIO', 'QTD_VENDIDAS',\n",
       "       'VALOR_VENDIDO'],\n",
       "      dtype='object')"
      ]
     },
     "execution_count": 57,
     "metadata": {},
     "output_type": "execute_result"
    }
   ],
   "source": [
    "df.columns"
   ]
  },
  {
   "cell_type": "code",
   "execution_count": 91,
   "metadata": {},
   "outputs": [
    {
     "data": {
      "image/png": "[encoded data removed]",
      "text/plain": [
       "<Figure size 504x360 with 1 Axes>"
      ]
     },
     "metadata": {
      "needs_background": "light"
     },
     "output_type": "display_data"
    }
   ],
   "source": [
    "gerar_grafico_padrao('SEXO',largura=7, altura=5);"
   ]
  },
  {
   "cell_type": "markdown",
   "metadata": {},
   "source": [
    "#### Olha as mulheres comprando mais! Talvez se colocar na frente do caixa produtos femininos, doces entre outras coisas possa ajudar as mulheres comprar"
   ]
  },
  {
   "cell_type": "code",
   "execution_count": 85,
   "metadata": {},
   "outputs": [
    {
     "data": {
      "image/png": "[encoded data removed]",
      "text/plain": [
       "<Figure size 504x360 with 1 Axes>"
      ]
     },
     "metadata": {
      "needs_background": "light"
     },
     "output_type": "display_data"
    }
   ],
   "source": [
    "gerar_grafico_padrao('MES',largura=7, altura=5);"
   ]
  },
  {
   "cell_type": "markdown",
   "metadata": {},
   "source": [
    "#### Estes dados são ficticios mas da para ter uma idéa os meses que mais vende, assim concegue preparar a equipe de compra para fazer um estoque mais inteligênte"
   ]
  },
  {
   "cell_type": "code",
   "execution_count": 86,
   "metadata": {},
   "outputs": [
    {
     "data": {
      "image/png": "[encoded data removed]",
      "text/plain": [
       "<Figure size 504x360 with 1 Axes>"
      ]
     },
     "metadata": {
      "needs_background": "light"
     },
     "output_type": "display_data"
    }
   ],
   "source": [
    "gerar_grafico_padrao('PERIODO',largura=7, altura=5);"
   ]
  },
  {
   "cell_type": "markdown",
   "metadata": {},
   "source": [
    "#### Com esse gráfico acima pode avaliar o horário que o mercado precisa de mais repositor de mercadorias, caixas, etc.."
   ]
  },
  {
   "cell_type": "code",
   "execution_count": 89,
   "metadata": {},
   "outputs": [
    {
     "data": {
      "image/png": "[encoded data removed]",
      "text/plain": [
       "<Figure size 504x720 with 1 Axes>"
      ]
     },
     "metadata": {
      "needs_background": "light"
     },
     "output_type": "display_data"
    }
   ],
   "source": [
    "gerar_grafico_padrao('DIA',largura=7, altura=10);"
   ]
  },
  {
   "cell_type": "markdown",
   "metadata": {},
   "source": [
    "##### Quase 5% das vendas em geral são realizadas no dia 18, esse é dia um de atenção onde deve acontecer o menor número possível de folga para que a força de mão de obra esteja disponível.\n",
    "\n",
    "##### Em contra partida o dia que menos vende é dia 27, nesse dia poderia realizar degustações, promoções, enfim meios para atrair o consumidor"
   ]
  },
  {
   "cell_type": "code",
   "execution_count": 124,
   "metadata": {},
   "outputs": [],
   "source": [
    "#gerar_grafico_padrao('DESCRICAO',largura=7, altura=10,tipo=2);"
   ]
  },
  {
   "cell_type": "markdown",
   "metadata": {},
   "source": [
    "#### Plotei alguns gráficos a realizando uma análise muito superficial desses dados fictícios aqui pode ser extraído muitas coisas ainda exemplo:\n",
    "\n",
    "1.\tO produto que mais vende diariamente e/ou em dias específicos. \n",
    "2.\tPosicionar melhor mercadorias nas prateleiras e locais estratégicos para que esteja mais acessível. \n",
    "3.\tMelhorar escalas de folgas baseadas em dias com mais vendas. \n",
    "4.\tMelhorar qualidade de estoque aumentando a rotatividade. \n",
    "5.\tQualifica atendimento baseado em produtos que vende mais(esqtoque, reposição, disponibilidade, preço, entre outros). \n",
    "6.\tDirecionar promoções em dias e horários com mais fluxo de pessoas ou atrair clientes a loja em dias de menos fluxo. \n",
    "7.\tQualificar fornecedores com base nos produtos mais vendidos. \n",
    "\n",
    "\n",
    "As possibilidades são enormes! Tudo depende das perguntas que desejamos responder.\n"
   ]
  },
  {
   "cell_type": "markdown",
   "metadata": {},
   "source": [
    "# Continua...\n",
    "\n",
    "# Etapa 3 - Predição"
   ]
  },
  {
   "cell_type": "code",
   "execution_count": null,
   "metadata": {},
   "outputs": [],
   "source": []
  }
 ],
 "metadata": {
  "kernelspec": {
   "display_name": "Python 3",
   "language": "python",
   "name": "python3"
  },
  "language_info": {
   "codemirror_mode": {
    "name": "ipython",
    "version": 3
   },
   "file_extension": ".py",
   "mimetype": "text/x-python",
   "name": "python",
   "nbconvert_exporter": "python",
   "pygments_lexer": "ipython3",
   "version": "3.6.7"
  }
 },
 "nbformat": 4,
 "nbformat_minor": 2
}
